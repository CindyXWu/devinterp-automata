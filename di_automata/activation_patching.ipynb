{
 "cells": [
  {
   "cell_type": "code",
   "execution_count": 3,
   "metadata": {},
   "outputs": [
    {
     "name": "stdout",
     "output_type": "stream",
     "text": [
      "The autoreload extension is already loaded. To reload it, use:\n",
      "  %reload_ext autoreload\n"
     ]
    }
   ],
   "source": [
    "try:\n",
    "    import google.colab # type: ignore\n",
    "    IN_COLAB = True\n",
    "except:\n",
    "    IN_COLAB = False\n",
    "\n",
    "import os, sys\n",
    "\n",
    "if IN_COLAB:\n",
    "    # Code to download the necessary files (e.g. solutions, test funcs)\n",
    "    if not os.path.exists(\"chapter1_transformers\"):\n",
    "        !curl -o /content/main.zip https://codeload.github.com/callummcdougall/ARENA_2.0/zip/refs/heads/main\n",
    "        !unzip /content/main.zip 'ARENA_2.0-main/chapter1_transformers/exercises/*'\n",
    "        sys.path.append(\"/content/ARENA_2.0-main/chapter1_transformers/exercises\")\n",
    "        os.remove(\"/content/main.zip\")\n",
    "        os.rename(\"ARENA_2.0-main/chapter1_transformers\", \"chapter1_transformers\")\n",
    "        os.rmdir(\"ARENA_2.0-main\")\n",
    "\n",
    "         # Install packages\n",
    "        %pip install einops\n",
    "        %pip install jaxtyping\n",
    "        %pip install transformer_lens\n",
    "        %pip install git+https://github.com/callummcdougall/CircuitsVis.git#subdirectory=python\n",
    "        %pip install s3fs\n",
    "        %pip install omegaconf\n",
    "        %pip install git+https://github.com/CindyXWu/devinterp-automata.git\n",
    "        %pip install torch-ema\n",
    "\n",
    "        !curl -o /content/main.zip https://codeload.github.com/CindyXWu/devinterp-automata/zip/refs/heads/main\n",
    "        !unzip -o /content/main.zip -d /content/\n",
    "\n",
    "        sys.path.append(\"/content/devinterp-automata/\")\n",
    "        os.remove(\"/content/main.zip\")\n",
    "\n",
    "        os.chdir(\"chapter1_transformers/exercises\")\n",
    "else:\n",
    "    from IPython import get_ipython\n",
    "    ipython = get_ipython()\n",
    "    ipython.run_line_magic(\"load_ext\", \"autoreload\")\n",
    "    ipython.run_line_magic(\"autoreload\", \"2\")\n",
    "\n",
    "    CHAPTER = r\"chapter1_transformers\"\n",
    "    CHAPTER_DIR = r\"./\" if CHAPTER in os.listdir() else os.getcwd().split(CHAPTER)[0]\n",
    "    EXERCISES_DIR = CHAPTER_DIR + f\"{CHAPTER}/exercises\"\n",
    "    sys.path.append(EXERCISES_DIR)"
   ]
  },
  {
   "cell_type": "code",
   "execution_count": 4,
   "metadata": {},
   "outputs": [],
   "source": [
    "from dotenv import load_dotenv\n",
    "import plotly.express as px\n",
    "from typing import List, Union, Optional, Dict, Tuple\n",
    "from jaxtyping import Int, Float\n",
    "\n",
    "import torch\n",
    "from torch import Tensor\n",
    "import torch.nn as nn\n",
    "import torch.nn.functional as F\n",
    "\n",
    "from pathlib import Path\n",
    "import numpy as np\n",
    "import pandas as pd\n",
    "import einops\n",
    "import re\n",
    "import functools\n",
    "from tqdm import tqdm\n",
    "from IPython.display import display\n",
    "import webbrowser\n",
    "import gdown\n",
    "from transformer_lens.hook_points import HookPoint\n",
    "from transformer_lens import utils, HookedTransformer, HookedTransformerConfig, FactoredMatrix, ActivationCache\n",
    "from transformer_lens.utils import to_numpy\n",
    "\n",
    "import circuitsvis as cv\n",
    "import plotly.express as px\n",
    "import plotly.graph_objects as go\n",
    "from plotly.subplots import make_subplots\n",
    "\n",
    "# For Dashiell's groups code\n",
    "from copy import deepcopy\n",
    "from functools import reduce\n",
    "from itertools import product\n",
    "import math\n",
    "import numpy as np\n",
    "from operator import mul\n",
    "import torch\n",
    "\n",
    "torch.set_grad_enabled(False)\n",
    "device = torch.device(\"cuda\" if torch.cuda.is_available() else \"cpu\")\n",
    "MAIN = __name__ == \"__main__\"\n",
    "\n",
    "import wandb\n",
    "from pathlib import Path\n",
    "import os\n",
    "import yaml\n",
    "import s3fs\n",
    "from omegaconf import OmegaConf\n",
    "\n",
    "from di_automata.config_setup import *\n",
    "from di_automata.constructors import (\n",
    "    construct_model,\n",
    "    create_dataloader_hf,\n",
    ")\n",
    "from di_automata.tasks.data_utils import take_n\n",
    "import plotly.io as pio\n",
    "\n",
    "# AWS\n",
    "load_dotenv()\n",
    "AWS_KEY, AWS_SECRET = os.getenv(\"AWS_KEY\"), os.getenv(\"AWS_SECRET\")\n",
    "s3 = s3fs.S3FileSystem(key=AWS_KEY, secret=AWS_SECRET)"
   ]
  },
  {
   "cell_type": "code",
   "execution_count": 5,
   "metadata": {},
   "outputs": [
    {
     "name": "stdout",
     "output_type": "stream",
     "text": [
      "The autoreload extension is already loaded. To reload it, use:\n",
      "  %reload_ext autoreload\n"
     ]
    },
    {
     "ename": "NameError",
     "evalue": "name 't' is not defined",
     "output_type": "error",
     "traceback": [
      "\u001b[0;31m---------------------------------------------------------------------------\u001b[0m",
      "\u001b[0;31mNameError\u001b[0m                                 Traceback (most recent call last)",
      "Cell \u001b[0;32mIn[5], line 1\u001b[0m\n\u001b[0;32m----> 1\u001b[0m \u001b[38;5;28;01mfrom\u001b[39;00m \u001b[38;5;21;01mdi_automata\u001b[39;00m\u001b[38;5;21;01m.\u001b[39;00m\u001b[38;5;21;01minterp_utils\u001b[39;00m \u001b[38;5;28;01mimport\u001b[39;00m (\n\u001b[1;32m      2\u001b[0m     imshow_attention,\n\u001b[1;32m      3\u001b[0m     line,\n\u001b[1;32m      4\u001b[0m     scatter,\n\u001b[1;32m      5\u001b[0m     imshow,\n\u001b[1;32m      6\u001b[0m     reorder_list_in_plotly_way,\n\u001b[1;32m      7\u001b[0m )\n\u001b[1;32m      9\u001b[0m \u001b[38;5;28;01mfrom\u001b[39;00m \u001b[38;5;21;01mdi_automata\u001b[39;00m\u001b[38;5;21;01m.\u001b[39;00m\u001b[38;5;21;01mtasks\u001b[39;00m\u001b[38;5;21;01m.\u001b[39;00m\u001b[38;5;21;01mdashiell_groups\u001b[39;00m \u001b[38;5;28;01mimport\u001b[39;00m (\n\u001b[1;32m     10\u001b[0m     DihedralElement,\n\u001b[1;32m     11\u001b[0m     DihedralIrrep, \n\u001b[0;32m   (...)\u001b[0m\n\u001b[1;32m     18\u001b[0m     get_vars,\n\u001b[1;32m     19\u001b[0m )\n",
      "File \u001b[0;32m~/ml-projects/devinterp-automata/di_automata/interp_utils.py:154\u001b[0m\n\u001b[1;32m    145\u001b[0m     \u001b[38;5;28;01mreturn\u001b[39;00m L_new\n\u001b[1;32m    148\u001b[0m \u001b[38;5;66;03m# From 'Balanced Bracket Classifier' ================================================\u001b[39;00m\n\u001b[1;32m    150\u001b[0m \u001b[38;5;28;01mdef\u001b[39;00m \u001b[38;5;21mget_activations\u001b[39m(\n\u001b[1;32m    151\u001b[0m     model: HookedTransformer,\n\u001b[1;32m    152\u001b[0m     toks: Int[Tensor, \u001b[38;5;124m\"\u001b[39m\u001b[38;5;124mbatch seq\u001b[39m\u001b[38;5;124m\"\u001b[39m],\n\u001b[1;32m    153\u001b[0m     names: Union[\u001b[38;5;28mstr\u001b[39m, List[\u001b[38;5;28mstr\u001b[39m]]\n\u001b[0;32m--> 154\u001b[0m ) \u001b[38;5;241m-\u001b[39m\u001b[38;5;241m>\u001b[39m Union[\u001b[43mt\u001b[49m\u001b[38;5;241m.\u001b[39mTensor, ActivationCache]:\n\u001b[1;32m    155\u001b[0m \u001b[38;5;250m    \u001b[39m\u001b[38;5;124;03m'''\u001b[39;00m\n\u001b[1;32m    156\u001b[0m \u001b[38;5;124;03m    Uses hooks to return activations from the model.\u001b[39;00m\n\u001b[1;32m    157\u001b[0m \n\u001b[1;32m    158\u001b[0m \u001b[38;5;124;03m    If names is a string, returns the activations for that hook name.\u001b[39;00m\n\u001b[1;32m    159\u001b[0m \u001b[38;5;124;03m    If names is a list of strings, returns the cache containing only those activations.\u001b[39;00m\n\u001b[1;32m    160\u001b[0m \u001b[38;5;124;03m    '''\u001b[39;00m\n\u001b[1;32m    161\u001b[0m     names_list \u001b[38;5;241m=\u001b[39m [names] \u001b[38;5;28;01mif\u001b[39;00m \u001b[38;5;28misinstance\u001b[39m(names, \u001b[38;5;28mstr\u001b[39m) \u001b[38;5;28;01melse\u001b[39;00m names\n",
      "\u001b[0;31mNameError\u001b[0m: name 't' is not defined"
     ]
    }
   ],
   "source": [
    "from di_automata.interp_utils import (\n",
    "    imshow_attention,\n",
    "    line,\n",
    "    scatter,\n",
    "    imshow,\n",
    "    reorder_list_in_plotly_way,\n",
    ")\n",
    "\n",
    "from di_automata.tasks.dashiell_groups import (\n",
    "    DihedralElement,\n",
    "    DihedralIrrep, \n",
    "    ProductDihedralIrrep,\n",
    "    dihedral_conjugacy_classes, \n",
    "    generate_subgroup,\n",
    "    actions_to_labels,\n",
    "    get_all_bits,\n",
    "    get_pca,\n",
    "    get_vars,\n",
    ")"
   ]
  }
 ],
 "metadata": {
  "kernelspec": {
   "display_name": "devinterp",
   "language": "python",
   "name": "python3"
  },
  "language_info": {
   "codemirror_mode": {
    "name": "ipython",
    "version": 3
   },
   "file_extension": ".py",
   "mimetype": "text/x-python",
   "name": "python",
   "nbconvert_exporter": "python",
   "pygments_lexer": "ipython3",
   "version": "3.12.2"
  }
 },
 "nbformat": 4,
 "nbformat_minor": 2
}
