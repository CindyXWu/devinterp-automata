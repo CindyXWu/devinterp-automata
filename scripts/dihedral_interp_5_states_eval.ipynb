{
  "cells": [
    {
      "cell_type": "code",
      "execution_count": null,
      "metadata": {
        "id": "-IMIMIXuoqUT"
      },
      "outputs": [],
      "source": [
        "try:\n",
        "    import google.colab # type: ignore\n",
        "    IN_COLAB = True\n",
        "except:\n",
        "    IN_COLAB = False\n",
        "\n",
        "import os, sys\n",
        "\n",
        "if IN_COLAB:\n",
        "    # Code to download the necessary files (e.g. solutions, test funcs)\n",
        "    if not os.path.exists(\"chapter1_transformers\"):\n",
        "        !curl -o /content/main.zip https://codeload.github.com/callummcdougall/ARENA_2.0/zip/refs/heads/main\n",
        "        !unzip /content/main.zip 'ARENA_2.0-main/chapter1_transformers/exercises/*'\n",
        "        sys.path.append(\"/content/ARENA_2.0-main/chapter1_transformers/exercises\")\n",
        "        os.remove(\"/content/main.zip\")\n",
        "        os.rename(\"ARENA_2.0-main/chapter1_transformers\", \"chapter1_transformers\")\n",
        "        os.rmdir(\"ARENA_2.0-main\")\n",
        "\n",
        "         # Install packages\n",
        "        %pip install einops\n",
        "        %pip install jaxtyping\n",
        "        %pip install transformer_lens\n",
        "        %pip install git+https://github.com/callummcdougall/CircuitsVis.git#subdirectory=python\n",
        "        %pip install s3fs\n",
        "        %pip install omegaconf\n",
        "        %pip install git+https://github.com/CindyXWu/devinterp-automata.git\n",
        "        %pip install torch-ema\n",
        "\n",
        "        !curl -o /content/main.zip https://codeload.github.com/CindyXWu/devinterp-automata/zip/refs/heads/main\n",
        "        !unzip -o /content/main.zip -d /content/\n",
        "\n",
        "        sys.path.append(\"/content/devinterp-automata/\")\n",
        "        os.remove(\"/content/main.zip\")\n",
        "\n",
        "        os.chdir(\"chapter1_transformers/exercises\")\n",
        "else:\n",
        "    from IPython import get_ipython\n",
        "    ipython = get_ipython()\n",
        "    ipython.run_line_magic(\"load_ext\", \"autoreload\")\n",
        "    ipython.run_line_magic(\"autoreload\", \"2\")\n",
        "\n",
        "    CHAPTER = r\"chapter1_transformers\"\n",
        "    CHAPTER_DIR = r\"./\" if CHAPTER in os.listdir() else os.getcwd().split(CHAPTER)[0]\n",
        "    EXERCISES_DIR = CHAPTER_DIR + f\"{CHAPTER}/exercises\"\n",
        "    sys.path.append(EXERCISES_DIR)"
      ]
    },
    {
      "cell_type": "code",
      "execution_count": null,
      "metadata": {
        "colab": {
          "base_uri": "https://localhost:8080/"
        },
        "id": "87aqhevcowv4",
        "outputId": "0e2bd4b2-192c-48c6-939d-8ed81aa8ce6f"
      },
      "outputs": [],
      "source": [
        "from dotenv.main import load_dotenv\n",
        "import plotly.express as px\n",
        "from typing import List, Union, Optional, Dict, Tuple\n",
        "from jaxtyping import Int, Float\n",
        "\n",
        "import torch\n",
        "from torch import Tensor\n",
        "import torch.nn as nn\n",
        "import torch.nn.functional as F\n",
        "\n",
        "from pathlib import Path\n",
        "import numpy as np\n",
        "import pandas as pd\n",
        "import einops\n",
        "import re\n",
        "import functools\n",
        "from tqdm import tqdm\n",
        "from IPython.display import display\n",
        "from transformer_lens.hook_points import HookPoint\n",
        "from transformer_lens import utils, HookedTransformer, HookedTransformerConfig, FactoredMatrix, ActivationCache\n",
        "from transformer_lens.utils import to_numpy\n",
        "\n",
        "# Plotting\n",
        "import circuitsvis as cv\n",
        "import plotly.express as px\n",
        "import plotly.graph_objects as go\n",
        "from plotly.subplots import make_subplots\n",
        "from sklearn.metrics import confusion_matrix\n",
        "import seaborn as sns\n",
        "import matplotlib.pyplot as plt\n",
        "\n",
        "# For Dashiell's groups code\n",
        "from copy import deepcopy\n",
        "from functools import reduce\n",
        "from itertools import product\n",
        "import math\n",
        "import numpy as np\n",
        "from operator import mul\n",
        "import torch\n",
        "\n",
        "torch.set_grad_enabled(False)\n",
        "device = torch.device(\"cuda\" if torch.cuda.is_available() else \"cpu\")\n",
        "MAIN = __name__ == \"__main__\"\n",
        "\n",
        "import wandb\n",
        "from pathlib import Path\n",
        "import os\n",
        "import yaml\n",
        "import s3fs\n",
        "from omegaconf import OmegaConf\n",
        "\n",
        "from di_automata.config_setup import *\n",
        "from di_automata.constructors import (\n",
        "    construct_model,\n",
        "    create_dataloader_hf,\n",
        ")\n",
        "from di_automata.tasks.data_utils import take_n\n",
        "import plotly.io as pio\n",
        "\n",
        "# AWS\n",
        "load_dotenv()\n",
        "AWS_KEY, AWS_SECRET = os.getenv(\"AWS_KEY\"), os.getenv(\"AWS_SECRET\")\n",
        "s3 = s3fs.S3FileSystem(key=AWS_KEY, secret=AWS_SECRET)"
      ]
    },
    {
      "cell_type": "code",
      "execution_count": null,
      "metadata": {
        "id": "m787kSd7ienY"
      },
      "outputs": [],
      "source": [
        "class DihedralElement:\n",
        "\n",
        "    def __init__(self, rot: int, ref: int, n: int):\n",
        "        self.n = n\n",
        "        self.rot = rot % n\n",
        "        self.ref = ref % 2\n",
        "\n",
        "    def __repr__(self):\n",
        "        return str((self.rot, self.ref))\n",
        "\n",
        "    def __hash__(self):\n",
        "        return hash(str(self))\n",
        "\n",
        "    @property\n",
        "    def sigma(self):\n",
        "        return self.rot, self.ref\n",
        "\n",
        "    @classmethod\n",
        "    def full_group(cls, n):\n",
        "        return [\n",
        "            DihedralElement(r, p, n) for r, p in product(range(n), [0, 1])\n",
        "        ]\n",
        "\n",
        "    @property\n",
        "    def order(self):\n",
        "        if self.ref:\n",
        "            return 2\n",
        "        elif self.rot == 0:\n",
        "            return 0\n",
        "        elif (self.n % self.rot) == 0:\n",
        "            return self.n // self.rot\n",
        "        else:\n",
        "            return math.lcm(self.n, self.rot) // self.rot\n",
        "\n",
        "    @property\n",
        "    def inverse(self):\n",
        "        if self.ref:\n",
        "            return deepcopy(self)\n",
        "        else:\n",
        "            return DihedralElement(self.n - self.rot, self.ref, self.n)\n",
        "\n",
        "    def __mul__(self, other):\n",
        "        if (not isinstance(other, DihedralElement)) or (other.n != self.n):\n",
        "            raise ValueError(\n",
        "                'Can only multiply a dihedral rotation with another dihedral rotation'\n",
        "            )\n",
        "        if self.ref:\n",
        "            rot = self.rot - other.rot\n",
        "        else:\n",
        "            rot = self.rot + other.rot\n",
        "        return DihedralElement(rot, self.ref + other.ref, self.n)\n",
        "\n",
        "    def __pow__(self, x: int):\n",
        "        if x == -1:\n",
        "            return self.inverse\n",
        "        elif x == 0:\n",
        "            return DihedralElement(0, 0, self.n)\n",
        "        elif x == 1:\n",
        "            return deepcopy(self)\n",
        "        else:\n",
        "            return reduce(mul, [deepcopy(self) for _ in range(x)])\n",
        "\n",
        "    def index(self) -> int:\n",
        "        return self.rot * self.ref + self.rot\n",
        "\n",
        "\n",
        "def generate_subgroup(generators, n):\n",
        "    group_size = 0\n",
        "    all_elements = set(generators)\n",
        "    while group_size < len(all_elements):\n",
        "        group_size = len(all_elements)\n",
        "        rotations = [DihedralElement(*p, n) for p in all_elements]\n",
        "        for r1, r2 in product(rotations, repeat=2):\n",
        "            r3 = r1 * r2\n",
        "            all_elements.add(r3.sigma)\n",
        "    return list(all_elements)\n",
        "\n",
        "\n",
        "def dihedral_conjugacy_classes(n: int):\n",
        "\n",
        "    conj_classes = [(0, 0), (0, 1)]\n",
        "    if n % 2 == 1:\n",
        "        m = (n - 1) // 2\n",
        "    else:\n",
        "        m = (n - 2) // 2\n",
        "        conj_classes += [((2, 0), (0, 1)), ((2, 1), (1, 1))]\n",
        "    conj_classes += [(i, 0) for i in range(1, m+1)]\n",
        "    return conj_classes\n",
        "\n",
        "\n",
        "class DihedralIrrep:\n",
        "\n",
        "    def __init__(self, n: int, conjugacy_class):\n",
        "        self.n = n\n",
        "        self.conjugacy_class = conjugacy_class\n",
        "        self.group = DihedralElement.full_group(n)\n",
        "        if isinstance(conjugacy_class[0], int) and conjugacy_class[1] == 0 and self.conjugacy_class[0] != 0:\n",
        "            self.dim = 2\n",
        "        else:\n",
        "            self.dim = 1\n",
        "        \n",
        "    def _trivial_irrep(self):\n",
        "        return {r.sigma: torch.ones((1,)) for r in self.group}\n",
        "    \n",
        "    def _reflection_irrep(self):\n",
        "        return {r.sigma: ((-1)**r.ref) * torch.ones((1,)) for r in self.group}\n",
        "    \n",
        "    def _subgroup_irrep(self, sg):\n",
        "        return {r.sigma: 1 if r.sigma in sg else -1 for r in self.group}\n",
        "    \n",
        "    def _matrix_irrep(self, k):\n",
        "        mats = {}\n",
        "        mats[(0, 0)] = torch.eye(2)\n",
        "        ref = torch.tensor([[1.0, 0.0], [0.0, -1.0]], dtype=torch.float32)\n",
        "        mats[(0, 1)] = ref\n",
        "        two_pi_n = 2 * torch.pi / self.n\n",
        "        for idx in range(1, self.n):\n",
        "            sin = np.sin(two_pi_n * idx * k)\n",
        "            cos = np.cos(two_pi_n * idx * k)\n",
        "            m = torch.tensor([[cos, -1.0 * sin], [sin, cos]], dtype=torch.float32)\n",
        "            mats[(idx, 0)] = m\n",
        "            mats[(idx, 1)] = ref @ m\n",
        "        return mats\n",
        "    \n",
        "    def matrix_representations(self):\n",
        "        if self.conjugacy_class == (0, 0):\n",
        "            return self._trivial_irrep()\n",
        "        elif self.conjugacy_class == (0, 1):\n",
        "            return self._reflection_irrep()\n",
        "        elif self.conjugacy_class[1] == 0:\n",
        "            return self._matrix_irrep(self.conjugacy_class[0])\n",
        "        elif (\n",
        "            isinstance(self.conjugacy_class[0], tuple) and \n",
        "            isinstance(self.conjugacy_class[1], tuple)\n",
        "        ):\n",
        "            subgroup = generate_subgroup(self.conjugacy_class, self.n)\n",
        "            return self._subgroup_irrep(subgroup)\n",
        "        else:\n",
        "            raise ValueError(\n",
        "                f'Somehow {self.conjugacy_class} is not a proper conjugacy class....'\n",
        "            )\n",
        "    \n",
        "    def tensors(self):\n",
        "        reps = self.matrix_representations()\n",
        "        matrices = [reps[g.sigma] for g in self.group]\n",
        "        if self.dim == 1:\n",
        "            #tensor = torch.ones((len(self.group), 1), dtype=torch.float32)\n",
        "            return torch.asarray(matrices).unsqueeze(1)\n",
        "        return torch.stack(\n",
        "            [\n",
        "                torch.flatten(mat) for mat in matrices\n",
        "            ],\n",
        "            dim=0\n",
        "        )\n",
        "\n",
        "\n",
        "class ProductDihedralIrrep:\n",
        "\n",
        "    def __init__(self, n: int, m: int, conjugacy_classes):\n",
        "\n",
        "        assert len(conjugacy_classes) == m\n",
        "\n",
        "        self.m = m\n",
        "        self.n = n\n",
        "        self.conjugacy_class = conjugacy_classes\n",
        "        self.group = [element for element in product(DihedralElement.full_group(n), repeat=m)]\n",
        "        self.irreps = [\n",
        "            DihedralIrrep(n, conj_class).matrix_representations() for conj_class in conjugacy_classes\n",
        "        ]\n",
        "\n",
        "    def matrix_representations(self):\n",
        "\n",
        "        reps = {}\n",
        "\n",
        "        for elements in self.group:\n",
        "            key = tuple(el.sigma for el in elements)\n",
        "            matrices = [self.irreps[i][el] for i, el in enumerate(key)]\n",
        "            reps[key] = reduce(torch.kron, matrices)\n",
        "        return reps"
      ]
    },
    {
      "cell_type": "code",
      "execution_count": null,
      "metadata": {
        "id": "Amd6_BBPjiuO"
      },
      "outputs": [],
      "source": [
        "group = DihedralElement.full_group(5)\n",
        "translation = {\n",
        "    (0,0):0,\n",
        "    (1,0):1,\n",
        "    (2,0):2,\n",
        "    (3,0):3,\n",
        "    (4,0):4,\n",
        "    (0,1):5,\n",
        "    (1,1):6,\n",
        "    (2,1):7,\n",
        "    (3,1):8,\n",
        "    (4,1):9,\n",
        "}"
      ]
    },
    {
      "cell_type": "code",
      "execution_count": null,
      "metadata": {},
      "outputs": [],
      "source": [
        "dihedral_conjugacy_classes(5)"
      ]
    },
    {
      "cell_type": "code",
      "execution_count": null,
      "metadata": {},
      "outputs": [],
      "source": [
        "group"
      ]
    },
    {
      "cell_type": "code",
      "execution_count": null,
      "metadata": {},
      "outputs": [],
      "source": [
        "DihedralIrrep(5, (0, 0)).dim"
      ]
    },
    {
      "cell_type": "code",
      "execution_count": null,
      "metadata": {},
      "outputs": [],
      "source": [
        "dihedral_fn = torch.tensor([-1, 1, -1, 1, -1, 1, -1, 1, -1, 1])\n",
        "dihedral_fn"
      ]
    },
    {
      "cell_type": "code",
      "execution_count": null,
      "metadata": {},
      "outputs": [],
      "source": [
        "(dihedral_fn * DihedralIrrep(5, (0, 1)).tensors()).sum()"
      ]
    },
    {
      "cell_type": "code",
      "execution_count": null,
      "metadata": {},
      "outputs": [],
      "source": [
        "def dihedral_fourier(fn_values, n):\n",
        "    irreps = {conj: DihedralIrrep(n, conj).tensors() for conj in dihedral_conjugacy_classes(n)}\n",
        "    return {conj: (fn_values * irrep).sum(dim=0) for conj, irrep in irreps.items()}\n",
        "\n"
      ]
    },
    {
      "cell_type": "code",
      "execution_count": null,
      "metadata": {},
      "outputs": [],
      "source": [
        "print(DihedralIrrep(5, (0, 0)).tensors())\n",
        "print(DihedralIrrep(5, (0, 1)).tensors())"
      ]
    },
    {
      "cell_type": "code",
      "execution_count": null,
      "metadata": {},
      "outputs": [],
      "source": [
        "dihedral_fourier(torch.randn((10, 1)), 5)"
      ]
    },
    {
      "cell_type": "code",
      "execution_count": null,
      "metadata": {},
      "outputs": [],
      "source": [
        "DihedralIrrep(5, (0, 1)).tensors()"
      ]
    },
    {
      "cell_type": "code",
      "execution_count": null,
      "metadata": {
        "id": "GUMf5cdb3d8w"
      },
      "outputs": [],
      "source": [
        "def imshow_attention(tensor, renderer=None, xaxis=\"\", yaxis=\"\", **kwargs):\n",
        "    px.imshow(utils.to_numpy(tensor), color_continuous_midpoint=0.0, color_continuous_scale=\"RdBu\", labels={\"x\":xaxis, \"y\":yaxis}, **kwargs).show(renderer)\n",
        "\n",
        "def line(tensor, renderer=None, xaxis=\"\", yaxis=\"\", **kwargs):\n",
        "    px.line(utils.to_numpy(tensor), labels={\"x\":xaxis, \"y\":yaxis}, **kwargs).show(renderer)\n",
        "\n",
        "def scatter(x, y, xaxis=\"\", yaxis=\"\", caxis=\"\", renderer=None, **kwargs):\n",
        "    x = utils.to_numpy(x)\n",
        "    y = utils.to_numpy(y)\n",
        "    px.scatter(y=y, x=x, labels={\"x\":xaxis, \"y\":yaxis, \"color\":caxis}, **kwargs).show(renderer)\n"
      ]
    },
    {
      "cell_type": "code",
      "execution_count": null,
      "metadata": {
        "id": "lP9I1Pbh0lIM"
      },
      "outputs": [],
      "source": [
        "update_layout_set = {\"xaxis_range\", \"yaxis_range\", \"hovermode\", \"xaxis_title\", \"yaxis_title\", \"colorbar\", \"colorscale\", \"coloraxis\", \"title_x\", \"bargap\", \"bargroupgap\", \"xaxis_tickformat\", \"yaxis_tickformat\", \"title_y\", \"legend_title_text\", \"xaxis_showgrid\", \"xaxis_gridwidth\", \"xaxis_gridcolor\", \"yaxis_showgrid\", \"yaxis_gridwidth\", \"yaxis_gridcolor\", \"showlegend\", \"xaxis_tickmode\", \"yaxis_tickmode\", \"margin\", \"xaxis_visible\", \"yaxis_visible\", \"bargap\", \"bargroupgap\", \"coloraxis_showscale\", \"xaxis_tickangle\"}\n",
        "import torch as t\n",
        "\n",
        "def imshow(tensor: t.Tensor, renderer=None, **kwargs):\n",
        "    kwargs_post = {k: v for k, v in kwargs.items() if k in update_layout_set}\n",
        "    kwargs_pre = {k: v for k, v in kwargs.items() if k not in update_layout_set}\n",
        "    facet_labels = kwargs_pre.pop(\"facet_labels\", None)\n",
        "    border = kwargs_pre.pop(\"border\", False)\n",
        "    return_fig = kwargs_pre.pop(\"return_fig\", False)\n",
        "    text = kwargs_pre.pop(\"text\", None)\n",
        "    xaxis_tickangle = kwargs_post.pop(\"xaxis_tickangle\", None)\n",
        "    static = kwargs_pre.pop(\"static\", False)\n",
        "    if \"color_continuous_scale\" not in kwargs_pre:\n",
        "        kwargs_pre[\"color_continuous_scale\"] = \"RdBu\"\n",
        "    if \"color_continuous_midpoint\" not in kwargs_pre:\n",
        "        kwargs_pre[\"color_continuous_midpoint\"] = 0.0\n",
        "    if \"margin\" in kwargs_post and isinstance(kwargs_post[\"margin\"], int):\n",
        "        kwargs_post[\"margin\"] = dict.fromkeys(list(\"tblr\"), kwargs_post[\"margin\"])\n",
        "    fig = px.imshow(to_numpy(tensor), **kwargs_pre).update_layout(**kwargs_post)\n",
        "    if facet_labels:\n",
        "        # Weird thing where facet col wrap means labels are in wrong order\n",
        "        if \"facet_col_wrap\" in kwargs_pre:\n",
        "            facet_labels = reorder_list_in_plotly_way(facet_labels, kwargs_pre[\"facet_col_wrap\"])\n",
        "        for i, label in enumerate(facet_labels):\n",
        "            fig.layout.annotations[i]['text'] = label\n",
        "    if border:\n",
        "        fig.update_xaxes(showline=True, linewidth=1, linecolor='black', mirror=True)\n",
        "        fig.update_yaxes(showline=True, linewidth=1, linecolor='black', mirror=True)\n",
        "    if text:\n",
        "        if tensor.ndim == 2:\n",
        "            # if 2D, then we assume text is a list of lists of strings\n",
        "            assert isinstance(text[0], list)\n",
        "            assert isinstance(text[0][0], str)\n",
        "            text = [text]\n",
        "        else:\n",
        "            # if 3D, then text is either repeated for each facet, or different\n",
        "            assert isinstance(text[0], list)\n",
        "            if isinstance(text[0][0], str):\n",
        "                text = [text for _ in range(len(fig.data))]\n",
        "        for i, _text in enumerate(text):\n",
        "            fig.data[i].update(\n",
        "                text=_text,\n",
        "                texttemplate=\"%{text}\",\n",
        "                textfont={\"size\": 12}\n",
        "            )\n",
        "    # Very hacky way of fixing the fact that updating layout with new tickangle only applies to first facet by default\n",
        "    if xaxis_tickangle is not None:\n",
        "        n_facets = 1 if tensor.ndim == 2 else tensor.shape[0]\n",
        "        for i in range(1, 1+n_facets):\n",
        "            xaxis_name = \"xaxis\" if i == 1 else f\"xaxis{i}\"\n",
        "            fig.layout[xaxis_name][\"tickangle\"] = xaxis_tickangle\n",
        "    return fig if return_fig else fig.show(renderer=renderer, config={\"staticPlot\": static})\n",
        "\n",
        "def reorder_list_in_plotly_way(L: list, col_wrap: int):\n",
        "    '''\n",
        "    Helper function, because Plotly orders figures in an annoying way when there's column wrap.\n",
        "    '''\n",
        "    L_new = []\n",
        "    while len(L) > 0:\n",
        "        L_new.extend(L[-col_wrap:])\n",
        "        L = L[:-col_wrap]\n",
        "    print(f\"Reordered labels: {L_new}\")\n",
        "    return L_new"
      ]
    },
    {
      "cell_type": "code",
      "execution_count": null,
      "metadata": {
        "id": "yNLip8nbp6vZ"
      },
      "outputs": [],
      "source": [
        "DI_ROOT = Path(\"/content/devinterp-automata-main/\") if IN_COLAB else Path(\"../\")\n",
        "config_file_path = DI_ROOT / f\"scripts/configs/slt_config.yaml\"\n",
        "slt_config = OmegaConf.load(config_file_path)\n",
        "\n",
        "with open(DI_ROOT / f\"scripts/configs/task_config/{slt_config.dataset_type}.yaml\", 'r') as file:\n",
        "    task_config = yaml.safe_load(file)"
      ]
    },
    {
      "cell_type": "code",
      "execution_count": null,
      "metadata": {
        "colab": {
          "base_uri": "https://localhost:8080/"
        },
        "id": "DBUZwD9-Ez-6",
        "outputId": "d7f588e7-8ac1-4143-dcab-d5892dc26c19"
      },
      "outputs": [],
      "source": [
        "OmegaConf.set_struct(slt_config, False) # Allow new configuration values to be added\n",
        "# Because we are in Colab and not VSCode, here is where you want to edit your config values\n",
        "slt_config[\"task_config\"] = task_config\n",
        "slt_config[\"lr\"] = 0.0005\n",
        "slt_config[\"num_training_iter\"] = 30000\n",
        "slt_config[\"n_layers\"] = 2\n",
        "\n",
        "# Convert OmegaConf object to MainConfig Pydantic model for dynamic type validation - NECESSARY DO NOT SKIP\n",
        "pydantic_config = PostRunSLTConfig(**slt_config)\n",
        "# Convert back to OmegaConf object for compatibility with existing code\n",
        "slt_config = OmegaConf.create(pydantic_config.model_dump())\n",
        "\n",
        "print(task_config[\"dataset_type\"])"
      ]
    },
    {
      "cell_type": "code",
      "execution_count": null,
      "metadata": {
        "colab": {
          "base_uri": "https://localhost:8080/"
        },
        "id": "PEFYiG-EqAuR",
        "outputId": "e8cca4da-ca47-4951-cbc1-49c6ee5341c8"
      },
      "outputs": [],
      "source": [
        "device = torch.device(\"cuda:0\" if torch.cuda.is_available() else \"cpu\")\n",
        "\n",
        "# Run path and name for easy referral later\n",
        "run_path = f\"{slt_config.entity_name}/{slt_config.wandb_project_name}\"\n",
        "run_name = slt_config.run_name\n",
        "print(run_name)"
      ]
    },
    {
      "cell_type": "code",
      "execution_count": null,
      "metadata": {
        "id": "1lkpLZBEuSRx"
      },
      "outputs": [],
      "source": [
        "# Get run information\n",
        "api = wandb.Api(timeout=3000)\n",
        "run_list = api.runs(\n",
        "    path=run_path,\n",
        "    filters={\n",
        "        \"display_name\": run_name,\n",
        "        \"state\": \"finished\",\n",
        "        },\n",
        "    order=\"created_at\", # Default descending order so backwards in time\n",
        ")\n",
        "assert run_list, f\"Specified run {run_name} does not exist\"\n",
        "run_api = run_list[slt_config.run_idx]\n",
        "try: history = run_api.history()\n",
        "except: history = run_api.history\n",
        "loss_history = history[\"Train Loss\"]\n",
        "accuracy_history = history[\"Train Acc\"]\n",
        "steps = history[\"_step\"]\n",
        "time = run_api.config[\"time\"]"
      ]
    },
    {
      "cell_type": "code",
      "execution_count": null,
      "metadata": {
        "id": "KYkD7_cIqEIh"
      },
      "outputs": [],
      "source": [
        "def get_config() -> MainConfig:\n",
        "    \"\"\"\"\n",
        "    Manually get config from run as artifact.\n",
        "    WandB also logs automatically for each run, but it doesn't log enums correctly.\n",
        "    \"\"\"\n",
        "    artifact = api.artifact(f\"{run_path}/config:{run_name}_{time}\")\n",
        "    data_dir = artifact.download()\n",
        "    config_path = Path(data_dir) / \"config.yaml\"\n",
        "    return OmegaConf.load(config_path)"
      ]
    },
    {
      "cell_type": "code",
      "execution_count": null,
      "metadata": {
        "colab": {
          "base_uri": "https://localhost:8080/"
        },
        "id": "NgFUGT2lqHoA",
        "outputId": "902ae5a9-1343-401e-9fc2-d6c4e713a052"
      },
      "outputs": [],
      "source": [
        "config = get_config()\n",
        "\n",
        "# Set total number of unique samples seen (n). If this is not done it will break LLC estimator.\n",
        "slt_config.rlct_config.sgld_kwargs.num_samples = slt_config.rlct_config.num_samples = config.rlct_config.sgld_kwargs.num_samples\n",
        "slt_config.nano_gpt_config = config.nano_gpt_config"
      ]
    },
    {
      "cell_type": "code",
      "execution_count": null,
      "metadata": {
        "id": "utSRu7dAqPbr"
      },
      "outputs": [],
      "source": [
        "def restore_state_single_cp(cp_idx: int) -> dict:\n",
        "    \"\"\"Restore model state from a single checkpoint.\n",
        "    Used in _load_logits_states() and _calculate_rlct().\n",
        "\n",
        "    Args:\n",
        "        idx_cp: index of checkpoint.\n",
        "\n",
        "    Returns:\n",
        "        model state dictionary.\n",
        "    \"\"\"\n",
        "    idx = cp_idx * config.rlct_config.ed_config.eval_frequency * slt_config.skip_cps\n",
        "    print(f\"Getting checkpoint {idx}\")\n",
        "    print(config.model_save_method)\n",
        "    match config.model_save_method:\n",
        "        case \"wandb\":\n",
        "            artifact = api.artifact(f\"{run_path}/states:idx{idx}_{run_name}_{time}\")\n",
        "            data_dir = artifact.download()\n",
        "            state_path = Path(data_dir) / f\"states_{idx}.torch\"\n",
        "            states = torch.load(state_path)\n",
        "        case \"aws\":\n",
        "            with s3.open(f'{config.aws_bucket}/{run_name}_{time}/states_{idx}.pth', mode='rb') as file:\n",
        "                states = torch.load(file, map_location=device)\n",
        "    return states[\"model\"]"
      ]
    },
    {
      "cell_type": "code",
      "execution_count": null,
      "metadata": {
        "colab": {
          "base_uri": "https://localhost:8080/"
        },
        "id": "bYVaCV7BqiBy",
        "outputId": "2cf8e523-00f7-4d62-fc71-8d12be76d510"
      },
      "outputs": [],
      "source": [
        "current_directory = Path().absolute()\n",
        "logits_file_path = current_directory.parent / f\"di_automata/logits_{run_name}_{time}\"\n",
        "print(logits_file_path)"
      ]
    },
    {
      "cell_type": "code",
      "execution_count": null,
      "metadata": {
        "id": "JMSwFPbSqnZE"
      },
      "outputs": [],
      "source": [
        "ed_loader = create_dataloader_hf(config, deterministic=True) # Make sure deterministic to see same data\n",
        "eval_loader = create_dataloader_hf(config)"
      ]
    },
    {
      "cell_type": "code",
      "execution_count": null,
      "metadata": {
        "id": "cv2RNMe656c0"
      },
      "outputs": [],
      "source": [
        "def display_layer_heads(att, batch_idx=0):\n",
        "    \"\"\"For generic inputs, display attention for particular index in batch.\n",
        "    \"\"\"\n",
        "    display(cv.attention.attention_patterns(\n",
        "        tokens=list_of_strings(inputs[batch_idx,...]),\n",
        "        attention=att[batch_idx,...],\n",
        "        attention_head_names=[f\"L0H{i}\" for i in range(4)],\n",
        "    ))\n",
        "    # 0 is toggle action\n",
        "    # 1 is drive action\n",
        "    print(inputs[batch_idx,...])\n",
        "    print(labels[batch_idx,...])\n",
        "\n",
        "\n",
        "def list_of_strings(tensor):\n",
        "    return tensor.numpy().astype(str).tolist()\n",
        "\n",
        "\n",
        "def display_layer_heads_batch(att: torch.Tensor, cache: ActivationCache, toks: list[str]):\n",
        "    \"\"\"TODO: refactor\"\"\"\n",
        "    cv.attention.from_cache(\n",
        "      cache = cache,\n",
        "      tokens = toks,\n",
        "      batch_idx = list(range(10)),\n",
        "      attention_type = \"info-weighted\",\n",
        "      radioitems = True,\n",
        "      return_mode = \"view\",\n",
        "      batch_labels = lambda batch_idx, str_tok_list: format_sequence(str_tok_list, dataset.str_tok_labels[batch_idx]),\n",
        "      mode = \"small\",\n",
        "    )"
      ]
    },
    {
      "cell_type": "markdown",
      "metadata": {},
      "source": [
        "# Get checkpoints"
      ]
    },
    {
      "cell_type": "code",
      "execution_count": null,
      "metadata": {
        "colab": {
          "base_uri": "https://localhost:8080/"
        },
        "id": "iwIyM5v79Vh8",
        "outputId": "83c3bc52-8672-46b4-aeea-edcbe9c64ed3"
      },
      "outputs": [],
      "source": [
        "# Pre-form\n",
        "cp_idx_0 = 20\n",
        "state_0 = restore_state_single_cp(cp_idx_0)\n",
        "model_0, _ = construct_model(config)\n",
        "model_0.load_state_dict(state_0)\n",
        "\n",
        "# Form 1\n",
        "cp_idx_1 = 250\n",
        "state_1 = restore_state_single_cp(cp_idx_1)\n",
        "model_1, _ = construct_model(config)\n",
        "model_1.load_state_dict(state_1)\n",
        "\n",
        "# Form 2\n",
        "cp_idx_2 = 620\n",
        "state_2 = restore_state_single_cp(cp_idx_2)\n",
        "model_2, _ = construct_model(config)\n",
        "model_2.load_state_dict(state_2)\n",
        "\n",
        "# End\n",
        "cp_idx_3 = 1499\n",
        "state_3 = restore_state_single_cp(cp_idx_3)\n",
        "model_3, _ = construct_model(config)\n",
        "model_3.load_state_dict(state_3)"
      ]
    },
    {
      "cell_type": "code",
      "execution_count": null,
      "metadata": {
        "id": "1sImbNx19xbt"
      },
      "outputs": [],
      "source": [
        "# Pass data through\n",
        "for data in take_n(ed_loader, 1):\n",
        "    inputs = data[\"input_ids\"]\n",
        "    labels = data[\"label_ids\"]\n",
        "    break\n",
        "\n",
        "logits_0, cache_0 = model_0.run_with_cache(inputs)\n",
        "logits_1, cache_1 = model_1.run_with_cache(inputs)\n",
        "logits_2, cache_2 = model_2.run_with_cache(inputs)\n",
        "logits_3, cache_3 = model_3.run_with_cache(inputs)"
      ]
    },
    {
      "cell_type": "markdown",
      "metadata": {},
      "source": [
        "# Fourier transform\n"
      ]
    },
    {
      "cell_type": "code",
      "execution_count": null,
      "metadata": {},
      "outputs": [],
      "source": [
        "# Pass data through\n",
        "for data in take_n(eval_loader, 1):\n",
        "    eval_inputs = data[\"input_ids\"]\n",
        "    eval_labels = data[\"label_ids\"]\n",
        "    break\n",
        "\n",
        "logits_eval_1, cache_eval_1 = model_1.run_with_cache(eval_inputs)\n",
        "logits_eval_2, cache_eval_2 = model_2.run_with_cache(eval_inputs)\n",
        "logits_eval_1 = logits_eval_1.to('cpu')"
      ]
    },
    {
      "cell_type": "code",
      "execution_count": null,
      "metadata": {},
      "outputs": [],
      "source": [
        "translation"
      ]
    },
    {
      "cell_type": "code",
      "execution_count": null,
      "metadata": {},
      "outputs": [],
      "source": [
        "mask = eval_labels == 0\n",
        "mean_vals_1 = logits_eval_1.mean(dim=0).mean(dim=0)\n",
        "\n",
        "mean_vals_1 = mean_vals_1[torch.tensor([0, 5, 1, 6, 2, 7, 3, 8, 4, 9])]\n",
        "mean_vals_1"
      ]
    },
    {
      "cell_type": "code",
      "execution_count": null,
      "metadata": {},
      "outputs": [],
      "source": [
        "values = torch.tensor([0., 1., 2., 3., 4.], dtype=torch.float32)\n",
        "even_mask = torch.zeros(eval_labels.size(), dtype=torch.bool)\n",
        "for value in values:\n",
        "    even_mask = even_mask | (eval_labels == value)\n",
        "\n",
        "transform_all = dihedral_fourier(mean_vals_1.to('cpu').unsqueeze(1), 5)\n",
        "transform_all\n",
        "\n",
        "even_mean_1 = logits_eval_1[even_mask].mean(dim=(0))\n",
        "print(even_mean_1.shape)\n",
        "even_transform = dihedral_fourier(even_mean_1.to('cpu').unsqueeze(1), 5)\n",
        "even_transform\n",
        "# even_mean_1 -= mean_vals_1"
      ]
    },
    {
      "cell_type": "code",
      "execution_count": null,
      "metadata": {},
      "outputs": [],
      "source": [
        "odd_mean_1 = logits_eval_1[~even_mask].mean(dim=(0))\n",
        "odd_transform = dihedral_fourier(odd_mean_1.to('cpu').unsqueeze(1), 5)\n",
        "odd_transform"
      ]
    },
    {
      "cell_type": "markdown",
      "metadata": {},
      "source": [
        "Make masks corresponding to rows of all possible combinations of labels and predictions (rows = labels, cols = logits)."
      ]
    },
    {
      "cell_type": "code",
      "execution_count": null,
      "metadata": {},
      "outputs": [],
      "source": [
        "# for i in range(10):\n",
        "i = 0\n",
        "\n",
        "for i in range(10):\n",
        "    mask = eval_labels == i\n",
        "    mean = logits_eval_1[mask].mean(dim=(0))\n",
        "    mean = mean[torch.tensor([0, 5, 1, 6, 2, 7, 3, 8, 4, 9])]\n",
        "    transform = dihedral_fourier(mean.to('cpu').unsqueeze(1), 5)\n",
        "    print(f\"Label at {i}\\n{transform}\")"
      ]
    },
    {
      "cell_type": "code",
      "execution_count": null,
      "metadata": {},
      "outputs": [],
      "source": [
        "mean.pow(2).mean()"
      ]
    },
    {
      "cell_type": "code",
      "execution_count": null,
      "metadata": {},
      "outputs": [],
      "source": [
        "total_power = 0.\n",
        "\n",
        "for k, v in transform.items():\n",
        "    if len(v) == 1:\n",
        "        power = (v**2).item()\n",
        "    else:\n",
        "        mat = v.reshape(2, 2)\n",
        "        power = 2 * (mat @ mat.T).trace().item() \n",
        "    total_power += power\n",
        "    print(f'{k}: {power / 100}')\n"
      ]
    },
    {
      "cell_type": "code",
      "execution_count": null,
      "metadata": {},
      "outputs": [],
      "source": [
        "3.07 / (total_power / 100)"
      ]
    },
    {
      "cell_type": "markdown",
      "metadata": {
        "id": "tYi4TAbnUUT2"
      },
      "source": [
        "# Activation distribution PCA"
      ]
    },
    {
      "cell_type": "code",
      "execution_count": null,
      "metadata": {
        "id": "h8LdDYCtsaxc"
      },
      "outputs": [],
      "source": [
        "from functools import reduce\n",
        "from itertools import accumulate\n",
        "\n",
        "def actions_to_labels(tensor, dtype: str):\n",
        "    actions = {\n",
        "        0: DihedralElement(0, 1, 5),\n",
        "        1: DihedralElement(1, 0, 5)\n",
        "    }\n",
        "    action_list = []\n",
        "    for i in tensor:\n",
        "        if i ==  torch.tensor(0):\n",
        "            action_list.append(actions[0])\n",
        "        else:\n",
        "            action_list.append(actions[1])\n",
        "    states = accumulate(action_list, mul)\n",
        "    dtype = torch.float32 if dtype == \"float\" else torch.int32\n",
        "    return torch.tensor([translation[s.sigma] for s in states], dtype=dtype)"
      ]
    },
    {
      "cell_type": "code",
      "execution_count": null,
      "metadata": {
        "colab": {
          "base_uri": "https://localhost:8080/"
        },
        "id": "kL2YsyG_kfaq",
        "outputId": "ad5ef1b4-bc1a-46ad-fb6c-35b5c4db447a"
      },
      "outputs": [],
      "source": [
        "def get_all_bits(m):\n",
        "    \"\"\"Generate every possible m-length binary sequence.\"\"\"\n",
        "    d = np.arange(2 ** m)\n",
        "    bits = (((d[:,None] & (1 << np.arange(m)))) > 0).astype(int)\n",
        "    return torch.asarray(bits)\n",
        "\n",
        "data_all_bits = torch.asarray(get_all_bits(16))"
      ]
    },
    {
      "cell_type": "code",
      "execution_count": null,
      "metadata": {
        "id": "guM8JYhgv_Q_"
      },
      "outputs": [],
      "source": [
        "all_labels = torch.stack([actions_to_labels(tensor, dtype=\"int\") for tensor in data_all_bits], dim=1)"
      ]
    },
    {
      "cell_type": "code",
      "execution_count": null,
      "metadata": {},
      "outputs": [],
      "source": [
        "if torch.cuda.is_available():\n",
        "    device = torch.device(\"cuda\")\n",
        "    print(\"CUDA is available\")\n",
        "elif torch.backends.mps.is_available():\n",
        "    print(\"CUDA not available, but MPS is available.\")\n",
        "    device = torch.device(\"mps\")\n",
        "else:\n",
        "    print(\"CUDA and MPS not available. Using CPU.\")\n",
        "    device = torch.device(\"cpu\")"
      ]
    },
    {
      "cell_type": "code",
      "execution_count": null,
      "metadata": {
        "colab": {
          "base_uri": "https://localhost:8080/"
        },
        "id": "jOc-991sls4i",
        "outputId": "323f37e8-c5b5-4623-d7d0-7d90161b1e0b"
      },
      "outputs": [],
      "source": [
        "splits = torch.split(data_all_bits, 512, dim=0)\n",
        "resid_mids = []\n",
        "mlp_posts = []\n",
        "\n",
        "model_3.to(device)\n",
        "for batch in tqdm(splits):\n",
        "    with torch.no_grad():\n",
        "        logits_all, cache_all = model_3.run_with_cache(batch.to(device))\n",
        "        resid_mids.append(cache_all[\"resid_mid\", 1].detach().cpu())\n",
        "        mlp_posts.append(cache_all[\"post\", 1, \"mlp\"].detach().cpu())"
      ]
    },
    {
      "cell_type": "code",
      "execution_count": null,
      "metadata": {
        "colab": {
          "base_uri": "https://localhost:8080/"
        },
        "id": "-_1iJG3a0Gb2",
        "outputId": "69fea974-6f96-4acc-f843-b363d4f10010"
      },
      "outputs": [],
      "source": [
        "resid_mids[0].shape\n",
        "mlp_posts[0].shape\n",
        "len(resid_mids)\n",
        "len(mlp_posts)"
      ]
    },
    {
      "cell_type": "code",
      "execution_count": null,
      "metadata": {
        "id": "vpxc7Rfp_25s"
      },
      "outputs": [],
      "source": [
        "resids = torch.concatenate(resid_mids, dim=0)\n",
        "concat_mlp_posts = torch.concatenate(mlp_posts, dim=0)\n",
        "concat_mlp_posts.shape"
      ]
    },
    {
      "cell_type": "code",
      "execution_count": null,
      "metadata": {
        "colab": {
          "base_uri": "https://localhost:8080/"
        },
        "id": "eBmk0N5z0MRD",
        "outputId": "d4ec30fc-d696-40f0-9b16-8349b9251e32"
      },
      "outputs": [],
      "source": [
        "# Get position 16 in sequence (final token)\n",
        "resid_pos16 = resids[:, 15, :]\n",
        "mlp_pos16 = concat_mlp_posts[:, 15, :]\n",
        "resid_pos16.shape"
      ]
    },
    {
      "cell_type": "code",
      "execution_count": null,
      "metadata": {
        "colab": {
          "base_uri": "https://localhost:8080/"
        },
        "id": "hxzUlQfaNF6K",
        "outputId": "0492047e-0139-4d2f-e656-7601faadd3a2"
      },
      "outputs": [],
      "source": [
        "mlp_pos16.mean(dim=0).shape"
      ]
    },
    {
      "cell_type": "code",
      "execution_count": null,
      "metadata": {
        "id": "uy8LG1M01U8I"
      },
      "outputs": [],
      "source": [
        "def get_pca(tensor):\n",
        "    mean = tensor.mean(dim=0)\n",
        "    nonzero = torch.nonzero(mean).squeeze()\n",
        "    mean = mean[nonzero]\n",
        "    tensor = tensor[:, nonzero]\n",
        "    std = tensor.std(dim=0)\n",
        "    centered_tensor = (tensor - mean) / std\n",
        "    U, S, V = torch.svd(centered_tensor)\n",
        "    return U, S, V\n",
        "\n",
        "def get_vars(singular_vals, truncate_idx=None):\n",
        "    total_var = (singular_vals ** 2).sum()\n",
        "    return torch.cumsum(singular_vals ** 2 / total_var, dim=0)"
      ]
    },
    {
      "cell_type": "code",
      "execution_count": null,
      "metadata": {
        "colab": {
          "base_uri": "https://localhost:8080/"
        },
        "id": "yqFbaTfh0oWy",
        "outputId": "39150a72-2856-4208-9ac6-e93a15ac28f6"
      },
      "outputs": [],
      "source": [
        "U, S, V = get_pca(mlp_pos16)\n",
        "get_vars(S)\n",
        "V.shape"
      ]
    },
    {
      "cell_type": "code",
      "execution_count": null,
      "metadata": {
        "colab": {
          "base_uri": "https://localhost:8080/"
        },
        "id": "TBqWJEgJOGPX",
        "outputId": "6791e481-70ba-43d0-e33c-3f10f748c13e"
      },
      "outputs": [],
      "source": [
        "print(get_vars(S)[:128])"
      ]
    },
    {
      "cell_type": "code",
      "execution_count": null,
      "metadata": {
        "id": "1_qMPqtm1R6k"
      },
      "outputs": [],
      "source": [
        "#resid_reduced = centered_resids @ V[:, :64]\n",
        "mean = mlp_pos16.mean(dim=0)\n",
        "nonzero = torch.nonzero(mean).squeeze()\n",
        "mlp_reduced = mlp_pos16[:, nonzero] @ V[:, :128]"
      ]
    },
    {
      "cell_type": "code",
      "execution_count": null,
      "metadata": {
        "colab": {
          "base_uri": "https://localhost:8080/"
        },
        "id": "BN12y3Lm2a-9",
        "outputId": "d288d8d1-f112-46e7-d2f5-2b1c5b971f43"
      },
      "outputs": [],
      "source": [
        "labels = all_labels[15, :]\n",
        "print(labels.shape)"
      ]
    },
    {
      "cell_type": "code",
      "execution_count": null,
      "metadata": {
        "id": "a_iMAD1u2u38"
      },
      "outputs": [],
      "source": [
        "import einops\n",
        "import polars as pl\n",
        "\n",
        "label_df = pl.DataFrame(labels.detach().cpu().numpy(), schema=['label'])\n",
        "#resid_df = pl.DataFrame(resid_reduced.detach().cpu().numpy(), schema=[str(i) for i in range(resid_reduced.shape[1])])"
      ]
    },
    {
      "cell_type": "code",
      "execution_count": null,
      "metadata": {
        "id": "ZV_7SPcLEqHO"
      },
      "outputs": [],
      "source": [
        "mlp_posts_df = pl.DataFrame(mlp_reduced.detach().cpu().numpy(), schema=[str(i) for i in range(mlp_reduced.shape[1])])\n",
        "mlp_posts_df = pl.concat([label_df, mlp_posts_df], how='horizontal')"
      ]
    },
    {
      "cell_type": "code",
      "execution_count": null,
      "metadata": {
        "id": "KQ-fa5UV4wkw"
      },
      "outputs": [],
      "source": [
        "#resids_df = pl.concat([label_df, resid_df], how='horizontal')"
      ]
    },
    {
      "cell_type": "code",
      "execution_count": null,
      "metadata": {
        "id": "w20xPQsS48_S"
      },
      "outputs": [],
      "source": [
        "from plotnine import ggplot, aes, geom_histogram, geom_point, facet_wrap\n",
        "\n",
        "#df = resids_df.melt(id_vars='label')\n",
        "\n",
        "#ggplot(df.filter(pl.col('variable').is_in(['0', '1', '2', '3'])), aes(x='value', fill='factor(label)')) + geom_histogram() + facet_wrap('~variable')\n",
        "#ggplot(resids_df, aes(x='12', fill='factor(label)')) + geom_histogram()"
      ]
    },
    {
      "cell_type": "code",
      "execution_count": null,
      "metadata": {
        "colab": {
          "base_uri": "https://localhost:8080/",
          "height": 515
        },
        "id": "KkqofJi9E5Z-",
        "outputId": "4586fce6-9c15-4ad6-a150-7f87ab6b3b7c"
      },
      "outputs": [],
      "source": [
        "from plotnine import scale_x_log10\n",
        "\n",
        "ggplot(mlp_posts_df, aes(x='0', y='1', color='factor(label)')) + geom_point() + facet_wrap('~label')"
      ]
    },
    {
      "cell_type": "code",
      "execution_count": null,
      "metadata": {
        "colab": {
          "base_uri": "https://localhost:8080/",
          "height": 118
        },
        "id": "aGGeeLLQGcwK",
        "outputId": "a1753685-da32-4468-b10c-fbb3f10ab27e"
      },
      "outputs": [],
      "source": [
        "mlp_posts_df.filter(pl.col('0') < -100)"
      ]
    },
    {
      "cell_type": "markdown",
      "metadata": {
        "id": "APfZek53UhNs"
      },
      "source": [
        "# Trial inputs"
      ]
    },
    {
      "cell_type": "code",
      "execution_count": null,
      "metadata": {
        "colab": {
          "base_uri": "https://localhost:8080/"
        },
        "id": "6BCQVv9rUrDl",
        "outputId": "47dd05c5-9465-4155-bbd0-6704250055ee"
      },
      "outputs": [],
      "source": [
        "all1 = torch.ones((25), dtype=torch.int32)\n",
        "all0 = torch.zeros((25), dtype=torch.int32)\n",
        "all1_label = (torch.cumsum(all1, dim=0)) % 5\n",
        "all0_label = torch.tensor([5,0]*12+[5], dtype=torch.int32)\n",
        "print(all1_label)\n",
        "print(all0_label)\n",
        "\n",
        "# All zeros except a single one at one position\n",
        "all_zero_except1 = deepcopy(all0)\n",
        "all_zero_except1[8] = 1\n",
        "all_zero_except1_label = actions_to_labels(all_zero_except1, dtype=\"int\")\n",
        "print(all_zero_except1_label)\n",
        "\n",
        "\n",
        "# All ones except a single zero at one position\n",
        "all_one_except1 = deepcopy(all1)\n",
        "all_one_except1[8] = 0\n",
        "all_one_except1_label = actions_to_labels(all_one_except1, dtype=\"int\")\n",
        "print(all_one_except1_label)"
      ]
    },
    {
      "cell_type": "markdown",
      "metadata": {},
      "source": [
        "## Early in training\n",
        "Model_0 has seen 400 iterations. It is stark that it already has learned parity (or to predict on a sequence of all zeros)"
      ]
    },
    {
      "cell_type": "code",
      "execution_count": null,
      "metadata": {},
      "outputs": [],
      "source": [
        "def plot_tensor_heatmap(stacked_tensor, title='Comparison of Tensor Positions', figsize=(10, 6), cmap='coolwarm'):\n",
        "    \"\"\"\n",
        "    Plots a heatmap of a stacked tensor.\n",
        "\n",
        "    Args:\n",
        "        stacked_tensor (Tensor): A stacked PyTorch tensor to plot.\n",
        "        title (str, optional): Title of the heatmap. Defaults to 'Comparison of Tensor Positions'.\n",
        "        figsize (tuple, optional): Figure size. Defaults to (10, 6).\n",
        "        cmap (str, optional): Colormap for the heatmap. Defaults to 'coolwarm'.\n",
        "        xticklabels (bool or list, optional): X-axis tick labels. Defaults to True (automatic).\n",
        "        yticklabels (list, optional): Y-axis tick labels. If None, defaults to index numbers.\n",
        "\n",
        "    Returns:\n",
        "        None. Displays a matplotlib plot.\n",
        "    \"\"\"\n",
        "    # Ensure the stacked_tensor is moved to CPU and converted to a numpy array\n",
        "    tensor_matrix = stacked_tensor.cpu().numpy()\n",
        "\n",
        "    # Plotting\n",
        "    plt.figure(figsize=figsize)\n",
        "    sns.heatmap(tensor_matrix, annot=True, cmap=cmap, fmt='d', linewidths=.5)\n",
        "    plt.title('Comparison of Tensor Positions')\n",
        "    plt.ylabel('Tensor')\n",
        "    plt.xlabel('Position')\n",
        "    \n",
        "    plt.xticks(np.arange(0.5, len(all1_label.numpy()), 1), np.arange(1, 26))\n",
        "    plt.yticks(np.arange(0.5, len(stacked_tensor), 1), ['all_1_label', 'all_0_label', 'predicted_all_1s', 'predicted_all_0s', 'all_0s_except_1_label', 'predicted_all_0s_except_1', 'all_1s_except_1_label', 'predicted_all_1s_except_1'], rotation=0)\n",
        "    plt.show()"
      ]
    },
    {
      "cell_type": "code",
      "execution_count": null,
      "metadata": {},
      "outputs": [],
      "source": [
        "l_all1_0, cache_all1_0 = model_0.run_with_cache(all1)\n",
        "l_all0_0, cache_all0_0 = model_0.run_with_cache(all0)\n",
        "pred_all1_0 = torch.argmax(l_all1_0, dim=-1).squeeze().cpu()\n",
        "pred_all0_0 = torch.argmax(l_all0_0, dim=-1).squeeze().cpu()\n",
        "print(pred_all0_0.shape)\n",
        "print(\"all one labels\", all1_label)\n",
        "print(\"predicted all ones\", pred_all1_0)\n",
        "print(\"all zero labels\", all0_label)\n",
        "print(\"predicted all zeros\", pred_all0_0)\n",
        "\n",
        "l_all_zero_except1_0, c_zero_except1_0 = model_0.run_with_cache(all_zero_except1)\n",
        "l_all_one_except1_0 , c_all_one_except1_0 = model_0.run_with_cache(all_one_except1)\n",
        "pred_all_zero_except1_0 = torch.argmax(l_all_zero_except1_0, dim=-1).squeeze().cpu()\n",
        "pred_all_one_except1_0 = torch.argmax(l_all_one_except1_0, dim=-1).squeeze().cpu()\n",
        "print(all_zero_except1_label)\n",
        "print(\"predicted all 0s except 1\", pred_all_zero_except1_0)\n",
        "print(all_one_except1_label)\n",
        "print(\"predicted all 1s except 1\", pred_all_one_except1_0)\n",
        "\n",
        "# Convert tensors to numpy arrays for easier handling with seaborn\n",
        "tensor_matrix = torch.stack([all1_label, pred_all1_0, all0_label, pred_all0_0, all_zero_except1_label, pred_all_zero_except1_0, all_one_except1_label, pred_all_one_except1_0])\n",
        "plot_tensor_heatmap(tensor_matrix)"
      ]
    },
    {
      "cell_type": "markdown",
      "metadata": {},
      "source": [
        "## Form 1"
      ]
    },
    {
      "cell_type": "code",
      "execution_count": null,
      "metadata": {},
      "outputs": [],
      "source": [
        "l_all1_1, cache_all1_1 = model_1.run_with_cache(all1)\n",
        "l_all0_1, cache_all0_1 = model_1.run_with_cache(all0)\n",
        "pred_all1_1 = torch.argmax(l_all1_1, dim=-1).squeeze().cpu()\n",
        "pred_all0_1 = torch.argmax(l_all0_1, dim=-1).squeeze().cpu()\n",
        "print(pred_all0_1.shape)\n",
        "print(\"all one labels\", all1_label)\n",
        "print(\"predicted all ones\", pred_all1_1)\n",
        "print(\"all zero labels\", all0_label)\n",
        "print(\"predicted all zeros\", pred_all0_1)\n",
        "\n",
        "l_all_zero_except1_1, c_zero_except1_1 = model_1.run_with_cache(all_zero_except1)\n",
        "l_all_one_except1_1 , c_all_one_except1_1 = model_1.run_with_cache(all_one_except1)\n",
        "pred_all_zero_except1_1 = torch.argmax(l_all_zero_except1_1, dim=-1).squeeze().cpu()\n",
        "pred_all_one_except1_1 = torch.argmax(l_all_one_except1_1, dim=-1).squeeze().cpu()\n",
        "print(all_zero_except1_label)\n",
        "print(\"predicted all 0s except 1\", pred_all_zero_except1_1)\n",
        "print(all_one_except1_label)\n",
        "print(\"predicted all 1s except 1\", pred_all_one_except1_1)\n",
        "\n",
        "# Convert tensors to numpy arrays for easier handling with seaborn\n",
        "tensor_matrix = torch.stack([all1_label, pred_all1_1, all0_label, pred_all0_1, all_zero_except1_label, pred_all_zero_except1_1, all_one_except1_label, pred_all_one_except1_1])\n",
        "plot_tensor_heatmap(tensor_matrix)"
      ]
    },
    {
      "cell_type": "markdown",
      "metadata": {},
      "source": [
        "## End of training"
      ]
    },
    {
      "cell_type": "code",
      "execution_count": null,
      "metadata": {
        "colab": {
          "base_uri": "https://localhost:8080/"
        },
        "id": "HQJGcnXxUtK0",
        "outputId": "048ca0ec-e77c-4cee-804b-8d9974f5d3e9"
      },
      "outputs": [],
      "source": [
        "l_all1_3, cache_all1_3 = model_3.run_with_cache(all_1)\n",
        "l_all0_3, cache_all0_3 = model_3.run_with_cache(all_3)\n",
        "pred_all1_3 = torch.argmax(l_all1_3, dim=-1).squeeze().cpu()\n",
        "pred_all0_3 = torch.argmax(l_all0_3, dim=-1).squeeze().cpu()\n",
        "print(pred_all0_3.shape)\n",
        "print(\"all one labels\", all1_label)\n",
        "print(\"predicted all 1s\", pred_all1_3)\n",
        "print(\"all zero labels\", all0_label)\n",
        "print(\"predicted all 0s\", pred_all0_3)\n",
        "\n",
        "l_all_zero_except1_3, c_zero_except1_3 = model_3.run_with_cache(all_zero_except1)\n",
        "l_all_one_except1_3 , c_all_one_except1_3 = model_3.run_with_cache(all_one_except1)\n",
        "pred_all_zero_except1_3 = torch.argmax(l_all_zero_except1_3, dim=-1).squeeze().cpu()\n",
        "pred_all_one_except1_3 = torch.argmax(l_all_one_except1_3, dim=-1).squeeze().cpu()\n",
        "print(all_zero_except1_label)\n",
        "print(\"predicted all 0s except 1\", pred_all_zero_except1_3)\n",
        "print(all_one_except1_label)\n",
        "print(\"predicted all 1s except 1\", pred_all_one_except1_3)"
      ]
    },
    {
      "cell_type": "code",
      "execution_count": null,
      "metadata": {},
      "outputs": [],
      "source": [
        "l_all1_1, cache_all1_1 = model_1.run_with_cache(all_1)\n",
        "print(torch.argmax(l_all1_1, dim=-1))\n",
        "l_all0_1, cache_all0_1 = model_1.run_with_cache(all_0)\n",
        "print(torch.argmax(l_all0_1, dim=-1))"
      ]
    }
  ],
  "metadata": {
    "accelerator": "GPU",
    "colab": {
      "gpuType": "T4",
      "provenance": []
    },
    "kernelspec": {
      "display_name": "Python 3",
      "name": "python3"
    },
    "language_info": {
      "codemirror_mode": {
        "name": "ipython",
        "version": 3
      },
      "file_extension": ".py",
      "mimetype": "text/x-python",
      "name": "python",
      "nbconvert_exporter": "python",
      "pygments_lexer": "ipython3",
      "version": "3.10.13"
    }
  },
  "nbformat": 4,
  "nbformat_minor": 0
}
