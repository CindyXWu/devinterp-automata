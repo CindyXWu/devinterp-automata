{
  "cells": [
    {
      "cell_type": "code",
      "execution_count": null,
      "metadata": {
        "id": "-IMIMIXuoqUT"
      },
      "outputs": [],
      "source": [
        "try:\n",
        "    import google.colab # type: ignore\n",
        "    IN_COLAB = True\n",
        "except:\n",
        "    IN_COLAB = False\n",
        "\n",
        "import os, sys\n",
        "\n",
        "if IN_COLAB:\n",
        "    # Code to download the necessary files (e.g. solutions, test funcs)\n",
        "    if not os.path.exists(\"chapter1_transformers\"):\n",
        "        !curl -o /content/main.zip https://codeload.github.com/callummcdougall/ARENA_2.0/zip/refs/heads/main\n",
        "        !unzip /content/main.zip 'ARENA_2.0-main/chapter1_transformers/exercises/*'\n",
        "        sys.path.append(\"/content/ARENA_2.0-main/chapter1_transformers/exercises\")\n",
        "        os.remove(\"/content/main.zip\")\n",
        "        os.rename(\"ARENA_2.0-main/chapter1_transformers\", \"chapter1_transformers\")\n",
        "        os.rmdir(\"ARENA_2.0-main\")\n",
        "\n",
        "         # Install packages\n",
        "        %pip install einops\n",
        "        %pip install jaxtyping\n",
        "        %pip install transformer_lens\n",
        "        %pip install git+https://github.com/callummcdougall/CircuitsVis.git#subdirectory=python\n",
        "        %pip install s3fs\n",
        "        %pip install omegaconf\n",
        "        %pip install git+https://github.com/CindyXWu/devinterp-automata.git\n",
        "        %pip install torch-ema\n",
        "\n",
        "        !curl -o /content/main.zip https://codeload.github.com/CindyXWu/devinterp-automata/zip/refs/heads/main\n",
        "        !unzip -o /content/main.zip -d /content/\n",
        "\n",
        "        sys.path.append(\"/content/devinterp-automata/\")\n",
        "        os.remove(\"/content/main.zip\")\n",
        "\n",
        "        os.chdir(\"chapter1_transformers/exercises\")\n",
        "else:\n",
        "    from IPython import get_ipython\n",
        "    ipython = get_ipython()\n",
        "    ipython.run_line_magic(\"load_ext\", \"autoreload\")\n",
        "    ipython.run_line_magic(\"autoreload\", \"2\")\n",
        "\n",
        "    CHAPTER = r\"chapter1_transformers\"\n",
        "    CHAPTER_DIR = r\"./\" if CHAPTER in os.listdir() else os.getcwd().split(CHAPTER)[0]\n",
        "    EXERCISES_DIR = CHAPTER_DIR + f\"{CHAPTER}/exercises\"\n",
        "    sys.path.append(EXERCISES_DIR)"
      ]
    },
    {
      "cell_type": "code",
      "execution_count": null,
      "metadata": {
        "colab": {
          "base_uri": "https://localhost:8080/"
        },
        "id": "87aqhevcowv4",
        "outputId": "0e2bd4b2-192c-48c6-939d-8ed81aa8ce6f"
      },
      "outputs": [],
      "source": [
        "from dotenv import load_dotenv\n",
        "import plotly.express as px\n",
        "from typing import List, Union, Optional, Dict, Tuple\n",
        "from jaxtyping import Int, Float\n",
        "\n",
        "import torch\n",
        "from torch import Tensor\n",
        "import torch.nn as nn\n",
        "import torch.nn.functional as F\n",
        "\n",
        "from pathlib import Path\n",
        "import numpy as np\n",
        "import pandas as pd\n",
        "import einops\n",
        "import re\n",
        "import functools\n",
        "from tqdm import tqdm\n",
        "from IPython.display import display\n",
        "import webbrowser\n",
        "import gdown\n",
        "from transformer_lens.hook_points import HookPoint\n",
        "from transformer_lens import utils, HookedTransformer, HookedTransformerConfig, FactoredMatrix, ActivationCache\n",
        "from transformer_lens.utils import to_numpy\n",
        "\n",
        "import circuitsvis as cv\n",
        "import plotly.express as px\n",
        "import plotly.graph_objects as go\n",
        "from plotly.subplots import make_subplots\n",
        "\n",
        "# For Dashiell's groups code\n",
        "from copy import deepcopy\n",
        "from functools import reduce\n",
        "from itertools import product\n",
        "import math\n",
        "import numpy as np\n",
        "from operator import mul\n",
        "import torch\n",
        "\n",
        "torch.set_grad_enabled(False)\n",
        "device = torch.device(\"cuda\" if torch.cuda.is_available() else \"cpu\")\n",
        "MAIN = __name__ == \"__main__\"\n",
        "\n",
        "import wandb\n",
        "from pathlib import Path\n",
        "import os\n",
        "import yaml\n",
        "import s3fs\n",
        "from omegaconf import OmegaConf\n",
        "\n",
        "from di_automata.config_setup import *\n",
        "from di_automata.constructors import (\n",
        "    construct_model,\n",
        "    create_dataloader_hf,\n",
        ")\n",
        "from di_automata.tasks.data_utils import take_n\n",
        "import plotly.io as pio\n",
        "\n",
        "# AWS\n",
        "load_dotenv()\n",
        "AWS_KEY, AWS_SECRET = os.getenv(\"AWS_KEY\"), os.getenv(\"AWS_SECRET\")\n",
        "s3 = s3fs.S3FileSystem(key=AWS_KEY, secret=AWS_SECRET)"
      ]
    },
    {
      "cell_type": "code",
      "execution_count": null,
      "metadata": {},
      "outputs": [],
      "source": [
        "from di_automata.interp_utils import (\n",
        "    imshow_attention,\n",
        "    line,\n",
        "    scatter,\n",
        "    imshow,\n",
        "    reorder_list_in_plotly_way,\n",
        "    get_pca,\n",
        "    get_vars,\n",
        ")\n",
        "\n",
        "from di_automata.tasks.dashiell_groups import (\n",
        "    DihedralElement,\n",
        "    DihedralIrrep, \n",
        "    ProductDihedralIrrep,\n",
        "    dihedral_conjugacy_classes, \n",
        "    generate_subgroup,\n",
        "    actions_to_labels,\n",
        "    get_all_bits,\n",
        "    dihedral_fourier,\n",
        "    get_fourier_spectrum,\n",
        "    analyse_power,\n",
        ")"
      ]
    },
    {
      "cell_type": "code",
      "execution_count": null,
      "metadata": {
        "id": "hLSW-IOgijI1"
      },
      "outputs": [],
      "source": [
        "group = DihedralElement.full_group(5)"
      ]
    },
    {
      "cell_type": "code",
      "execution_count": null,
      "metadata": {
        "id": "Amd6_BBPjiuO"
      },
      "outputs": [],
      "source": [
        "translation = {\n",
        "    (0,0):0,\n",
        "    (1,0):1,\n",
        "    (2,0):2,\n",
        "    (3,0):3,\n",
        "    (4,0):4,\n",
        "    (0,1):5,\n",
        "    (1,1):6,\n",
        "    (2,1):7,\n",
        "    (3,1):8,\n",
        "    (4,1):9,\n",
        "}"
      ]
    },
    {
      "cell_type": "code",
      "execution_count": null,
      "metadata": {
        "id": "GUMf5cdb3d8w"
      },
      "outputs": [],
      "source": [
        "def imshow_attention(tensor, renderer=None, xaxis=\"\", yaxis=\"\", **kwargs):\n",
        "    px.imshow(utils.to_numpy(tensor), color_continuous_midpoint=0.0, color_continuous_scale=\"RdBu\", labels={\"x\":xaxis, \"y\":yaxis}, **kwargs).show(renderer)\n",
        "\n",
        "def line(tensor, renderer=None, xaxis=\"\", yaxis=\"\", **kwargs):\n",
        "    px.line(utils.to_numpy(tensor), labels={\"x\":xaxis, \"y\":yaxis}, **kwargs).show(renderer)\n",
        "\n",
        "def scatter(x, y, xaxis=\"\", yaxis=\"\", caxis=\"\", renderer=None, **kwargs):\n",
        "    x = utils.to_numpy(x)\n",
        "    y = utils.to_numpy(y)\n",
        "    px.scatter(y=y, x=x, labels={\"x\":xaxis, \"y\":yaxis, \"color\":caxis}, **kwargs).show(renderer)\n"
      ]
    },
    {
      "cell_type": "code",
      "execution_count": null,
      "metadata": {
        "id": "lP9I1Pbh0lIM"
      },
      "outputs": [],
      "source": [
        "update_layout_set = {\"xaxis_range\", \"yaxis_range\", \"hovermode\", \"xaxis_title\", \"yaxis_title\", \"colorbar\", \"colorscale\", \"coloraxis\", \"title_x\", \"bargap\", \"bargroupgap\", \"xaxis_tickformat\", \"yaxis_tickformat\", \"title_y\", \"legend_title_text\", \"xaxis_showgrid\", \"xaxis_gridwidth\", \"xaxis_gridcolor\", \"yaxis_showgrid\", \"yaxis_gridwidth\", \"yaxis_gridcolor\", \"showlegend\", \"xaxis_tickmode\", \"yaxis_tickmode\", \"margin\", \"xaxis_visible\", \"yaxis_visible\", \"bargap\", \"bargroupgap\", \"coloraxis_showscale\", \"xaxis_tickangle\"}\n",
        "import torch as t\n",
        "\n",
        "def imshow(tensor: t.Tensor, renderer=None, **kwargs):\n",
        "    kwargs_post = {k: v for k, v in kwargs.items() if k in update_layout_set}\n",
        "    kwargs_pre = {k: v for k, v in kwargs.items() if k not in update_layout_set}\n",
        "    facet_labels = kwargs_pre.pop(\"facet_labels\", None)\n",
        "    border = kwargs_pre.pop(\"border\", False)\n",
        "    return_fig = kwargs_pre.pop(\"return_fig\", False)\n",
        "    text = kwargs_pre.pop(\"text\", None)\n",
        "    xaxis_tickangle = kwargs_post.pop(\"xaxis_tickangle\", None)\n",
        "    static = kwargs_pre.pop(\"static\", False)\n",
        "    if \"color_continuous_scale\" not in kwargs_pre:\n",
        "        kwargs_pre[\"color_continuous_scale\"] = \"RdBu\"\n",
        "    if \"color_continuous_midpoint\" not in kwargs_pre:\n",
        "        kwargs_pre[\"color_continuous_midpoint\"] = 0.0\n",
        "    if \"margin\" in kwargs_post and isinstance(kwargs_post[\"margin\"], int):\n",
        "        kwargs_post[\"margin\"] = dict.fromkeys(list(\"tblr\"), kwargs_post[\"margin\"])\n",
        "    fig = px.imshow(to_numpy(tensor), **kwargs_pre).update_layout(**kwargs_post)\n",
        "    if facet_labels:\n",
        "        # Weird thing where facet col wrap means labels are in wrong order\n",
        "        if \"facet_col_wrap\" in kwargs_pre:\n",
        "            facet_labels = reorder_list_in_plotly_way(facet_labels, kwargs_pre[\"facet_col_wrap\"])\n",
        "        for i, label in enumerate(facet_labels):\n",
        "            fig.layout.annotations[i]['text'] = label\n",
        "    if border:\n",
        "        fig.update_xaxes(showline=True, linewidth=1, linecolor='black', mirror=True)\n",
        "        fig.update_yaxes(showline=True, linewidth=1, linecolor='black', mirror=True)\n",
        "    if text:\n",
        "        if tensor.ndim == 2:\n",
        "            # if 2D, then we assume text is a list of lists of strings\n",
        "            assert isinstance(text[0], list)\n",
        "            assert isinstance(text[0][0], str)\n",
        "            text = [text]\n",
        "        else:\n",
        "            # if 3D, then text is either repeated for each facet, or different\n",
        "            assert isinstance(text[0], list)\n",
        "            if isinstance(text[0][0], str):\n",
        "                text = [text for _ in range(len(fig.data))]\n",
        "        for i, _text in enumerate(text):\n",
        "            fig.data[i].update(\n",
        "                text=_text,\n",
        "                texttemplate=\"%{text}\",\n",
        "                textfont={\"size\": 12}\n",
        "            )\n",
        "    # Very hacky way of fixing the fact that updating layout with new tickangle only applies to first facet by default\n",
        "    if xaxis_tickangle is not None:\n",
        "        n_facets = 1 if tensor.ndim == 2 else tensor.shape[0]\n",
        "        for i in range(1, 1+n_facets):\n",
        "            xaxis_name = \"xaxis\" if i == 1 else f\"xaxis{i}\"\n",
        "            fig.layout[xaxis_name][\"tickangle\"] = xaxis_tickangle\n",
        "    return fig if return_fig else fig.show(renderer=renderer, config={\"staticPlot\": static})\n",
        "\n",
        "def reorder_list_in_plotly_way(L: list, col_wrap: int):\n",
        "    '''\n",
        "    Helper function, because Plotly orders figures in an annoying way when there's column wrap.\n",
        "    '''\n",
        "    L_new = []\n",
        "    while len(L) > 0:\n",
        "        L_new.extend(L[-col_wrap:])\n",
        "        L = L[:-col_wrap]\n",
        "    print(f\"Reordered labels: {L_new}\")\n",
        "    return L_new"
      ]
    },
    {
      "cell_type": "code",
      "execution_count": null,
      "metadata": {
        "id": "yNLip8nbp6vZ"
      },
      "outputs": [],
      "source": [
        "DI_ROOT = Path(\"/content/devinterp-automata-main/\") if IN_COLAB else Path(\"../\")\n",
        "config_file_path = DI_ROOT / f\"scripts/configs/slt_config.yaml\"\n",
        "slt_config = OmegaConf.load(config_file_path)\n",
        "\n",
        "with open(DI_ROOT / f\"scripts/configs/task_config/{slt_config.dataset_type}.yaml\", 'r') as file:\n",
        "    task_config = yaml.safe_load(file)"
      ]
    },
    {
      "cell_type": "code",
      "execution_count": null,
      "metadata": {
        "colab": {
          "base_uri": "https://localhost:8080/"
        },
        "id": "DBUZwD9-Ez-6",
        "outputId": "d7f588e7-8ac1-4143-dcab-d5892dc26c19"
      },
      "outputs": [],
      "source": [
        "OmegaConf.set_struct(slt_config, False) # Allow new configuration values to be added\n",
        "# Because we are in Colab and not VSCode, here is where you want to edit your config values\n",
        "slt_config[\"task_config\"] = task_config\n",
        "slt_config[\"lr\"] = 0.0005\n",
        "slt_config[\"num_training_iter\"] = 30000\n",
        "slt_config[\"n_layers\"] = 2\n",
        "\n",
        "# Convert OmegaConf object to MainConfig Pydantic model for dynamic type validation - NECESSARY DO NOT SKIP\n",
        "pydantic_config = PostRunSLTConfig(**slt_config)\n",
        "# Convert back to OmegaConf object for compatibility with existing code\n",
        "slt_config = OmegaConf.create(pydantic_config.model_dump())\n",
        "\n",
        "print(task_config[\"dataset_type\"])"
      ]
    },
    {
      "cell_type": "code",
      "execution_count": null,
      "metadata": {
        "colab": {
          "base_uri": "https://localhost:8080/"
        },
        "id": "PEFYiG-EqAuR",
        "outputId": "e8cca4da-ca47-4951-cbc1-49c6ee5341c8"
      },
      "outputs": [],
      "source": [
        "device = torch.device(\"cuda:0\" if torch.cuda.is_available() else \"cpu\")\n",
        "\n",
        "# Run path and name for easy referral later\n",
        "run_path = f\"{slt_config.entity_name}/{slt_config.wandb_project_name}\"\n",
        "run_name = slt_config.run_name\n",
        "print(run_name)"
      ]
    },
    {
      "cell_type": "code",
      "execution_count": null,
      "metadata": {
        "id": "1lkpLZBEuSRx"
      },
      "outputs": [],
      "source": [
        "# Get run information\n",
        "api = wandb.Api(timeout=3000)\n",
        "run_list = api.runs(\n",
        "    path=run_path,\n",
        "    filters={\n",
        "        \"display_name\": run_name,\n",
        "        \"state\": \"finished\",\n",
        "        },\n",
        "    order=\"created_at\", # Default descending order so backwards in time\n",
        ")\n",
        "assert run_list, f\"Specified run {run_name} does not exist\"\n",
        "run_api = run_list[slt_config.run_idx]\n",
        "try: history = run_api.history()\n",
        "except: history = run_api.history\n",
        "loss_history = history[\"Train Loss\"]\n",
        "accuracy_history = history[\"Train Acc\"]\n",
        "steps = history[\"_step\"]\n",
        "time = run_api.config[\"time\"]"
      ]
    },
    {
      "cell_type": "code",
      "execution_count": null,
      "metadata": {
        "id": "KYkD7_cIqEIh"
      },
      "outputs": [],
      "source": [
        "def get_config() -> MainConfig:\n",
        "    \"\"\"\"\n",
        "    Manually get config from run as artifact.\n",
        "    WandB also logs automatically for each run, but it doesn't log enums correctly.\n",
        "    \"\"\"\n",
        "    artifact = api.artifact(f\"{run_path}/config:{run_name}_{time}\")\n",
        "    data_dir = artifact.download()\n",
        "    config_path = Path(data_dir) / \"config.yaml\"\n",
        "    return OmegaConf.load(config_path)"
      ]
    },
    {
      "cell_type": "code",
      "execution_count": null,
      "metadata": {
        "colab": {
          "base_uri": "https://localhost:8080/"
        },
        "id": "NgFUGT2lqHoA",
        "outputId": "902ae5a9-1343-401e-9fc2-d6c4e713a052"
      },
      "outputs": [],
      "source": [
        "config = get_config()\n",
        "\n",
        "# Set total number of unique samples seen (n). If this is not done it will break LLC estimator.\n",
        "slt_config.rlct_config.sgld_kwargs.num_samples = slt_config.rlct_config.num_samples = config.rlct_config.sgld_kwargs.num_samples\n",
        "slt_config.nano_gpt_config = config.nano_gpt_config"
      ]
    },
    {
      "cell_type": "code",
      "execution_count": null,
      "metadata": {
        "id": "utSRu7dAqPbr"
      },
      "outputs": [],
      "source": [
        "def restore_state_single_cp(cp_idx: int) -> dict:\n",
        "    \"\"\"Restore model state from a single checkpoint.\n",
        "    Used in _load_logits_states() and _calculate_rlct().\n",
        "\n",
        "    Args:\n",
        "        idx_cp: index of checkpoint.\n",
        "\n",
        "    Returns:\n",
        "        model state dictionary.\n",
        "    \"\"\"\n",
        "    idx = cp_idx * config.rlct_config.ed_config.eval_frequency * slt_config.skip_cps\n",
        "    print(f\"Getting checkpoint {idx}\")\n",
        "    print(config.model_save_method)\n",
        "    match config.model_save_method:\n",
        "        case \"wandb\":\n",
        "            artifact = api.artifact(f\"{run_path}/states:idx{idx}_{run_name}_{time}\")\n",
        "            data_dir = artifact.download()\n",
        "            state_path = Path(data_dir) / f\"states_{idx}.torch\"\n",
        "            states = torch.load(state_path)\n",
        "        case \"aws\":\n",
        "            with s3.open(f'{config.aws_bucket}/{run_name}_{time}/states_{idx}.pth', mode='rb') as file:\n",
        "                states = torch.load(file, map_location=device)\n",
        "    return states[\"model\"]"
      ]
    },
    {
      "cell_type": "code",
      "execution_count": null,
      "metadata": {
        "colab": {
          "base_uri": "https://localhost:8080/"
        },
        "id": "bYVaCV7BqiBy",
        "outputId": "2cf8e523-00f7-4d62-fc71-8d12be76d510"
      },
      "outputs": [],
      "source": [
        "current_directory = Path().absolute()\n",
        "logits_file_path = current_directory.parent / f\"di_automata/logits_{run_name}_{time}\"\n",
        "print(logits_file_path)"
      ]
    },
    {
      "cell_type": "code",
      "execution_count": null,
      "metadata": {
        "id": "JMSwFPbSqnZE"
      },
      "outputs": [],
      "source": [
        "ed_loader = create_dataloader_hf(config, deterministic=True) # Make sure deterministic to see same data"
      ]
    },
    {
      "cell_type": "code",
      "execution_count": null,
      "metadata": {
        "id": "cv2RNMe656c0"
      },
      "outputs": [],
      "source": [
        "def display_layer_heads(att, batch_idx=0):\n",
        "    \"\"\"For generic inputs, display attention for particular index in batch.\n",
        "    \"\"\"\n",
        "    display(cv.attention.attention_patterns(\n",
        "        tokens=list_of_strings(inputs[batch_idx,...]),\n",
        "        attention=att[batch_idx,...],\n",
        "        attention_head_names=[f\"L0H{i}\" for i in range(4)],\n",
        "    ))\n",
        "    # 0 is toggle action\n",
        "    # 1 is drive action\n",
        "    print(inputs[batch_idx,...])\n",
        "    print(labels[batch_idx,...])\n",
        "\n",
        "\n",
        "def list_of_strings(tensor):\n",
        "    return tensor.numpy().astype(str).tolist()\n",
        "\n",
        "\n",
        "def display_layer_heads_batch(att: torch.Tensor, cache: ActivationCache, toks: list[str]):\n",
        "    \"\"\"TODO: refactor\"\"\"\n",
        "    cv.attention.from_cache(\n",
        "      cache = cache,\n",
        "      tokens = toks,\n",
        "      batch_idx = list(range(10)),\n",
        "      attention_type = \"info-weighted\",\n",
        "      radioitems = True,\n",
        "      return_mode = \"view\",\n",
        "      batch_labels = lambda batch_idx, str_tok_list: format_sequence(str_tok_list, dataset.str_tok_labels[batch_idx]),\n",
        "      mode = \"small\",\n",
        "    )"
      ]
    },
    {
      "cell_type": "markdown",
      "metadata": {},
      "source": [
        "# Get checkpoints"
      ]
    },
    {
      "cell_type": "code",
      "execution_count": null,
      "metadata": {
        "colab": {
          "base_uri": "https://localhost:8080/"
        },
        "id": "iwIyM5v79Vh8",
        "outputId": "83c3bc52-8672-46b4-aeea-edcbe9c64ed3"
      },
      "outputs": [],
      "source": [
        "# Pre-form\n",
        "cp_idx_0 = 20\n",
        "state_0 = restore_state_single_cp(cp_idx_0)\n",
        "model_0, _ = construct_model(config)\n",
        "model_0.load_state_dict(state_0)\n",
        "\n",
        "# Form 1\n",
        "cp_idx_1 = 250\n",
        "state_1 = restore_state_single_cp(cp_idx_1)\n",
        "model_1, _ = construct_model(config)\n",
        "model_1.load_state_dict(state_1)\n",
        "\n",
        "# Form 2\n",
        "cp_idx_2 = 620\n",
        "state_2 = restore_state_single_cp(cp_idx_2)\n",
        "model_2, _ = construct_model(config)\n",
        "model_2.load_state_dict(state_2)\n",
        "\n",
        "# End\n",
        "cp_idx_3 = 1499\n",
        "state_3 = restore_state_single_cp(cp_idx_3)\n",
        "model_3, _ = construct_model(config)\n",
        "model_3.load_state_dict(state_3)"
      ]
    },
    {
      "cell_type": "code",
      "execution_count": null,
      "metadata": {
        "id": "1sImbNx19xbt"
      },
      "outputs": [],
      "source": [
        "# Pass data through\n",
        "for data in take_n(ed_loader, 1):\n",
        "    inputs = data[\"input_ids\"]\n",
        "    labels = data[\"label_ids\"]\n",
        "    break\n",
        "\n",
        "logits_0, cache_0 = model_0.run_with_cache(inputs)\n",
        "logits_1, cache_1 = model_1.run_with_cache(inputs)\n",
        "logits_2, cache_2 = model_2.run_with_cache(inputs)\n",
        "logits_3, cache_3 = model_3.run_with_cache(inputs)"
      ]
    },
    {
      "cell_type": "markdown",
      "metadata": {
        "id": "tYi4TAbnUUT2"
      },
      "source": [
        "# Activation distribution PCA"
      ]
    },
    {
      "cell_type": "code",
      "execution_count": null,
      "metadata": {
        "colab": {
          "base_uri": "https://localhost:8080/"
        },
        "id": "kL2YsyG_kfaq",
        "outputId": "ad5ef1b4-bc1a-46ad-fb6c-35b5c4db447a"
      },
      "outputs": [],
      "source": [
        "data_all_bits = torch.asarray(get_all_bits(16))"
      ]
    },
    {
      "cell_type": "code",
      "execution_count": null,
      "metadata": {},
      "outputs": [],
      "source": [
        "actions_to_labels(torch.tensor([0,1,1,0,1,0,0,0,1,1,1]))"
      ]
    },
    {
      "cell_type": "code",
      "execution_count": null,
      "metadata": {
        "id": "guM8JYhgv_Q_"
      },
      "outputs": [],
      "source": [
        "all_labels = torch.stack([actions_to_labels(tensor) for tensor in data_all_bits], dim=1)"
      ]
    },
    {
      "cell_type": "code",
      "execution_count": null,
      "metadata": {},
      "outputs": [],
      "source": [
        "if torch.cuda.is_available():\n",
        "    device = torch.device(\"cuda\")\n",
        "    print(\"CUDA is available\")\n",
        "elif torch.backends.mps.is_available():\n",
        "    print(\"CUDA not available, but MPS is available.\")\n",
        "    device = torch.device(\"mps\")\n",
        "else:\n",
        "    print(\"CUDA and MPS not available. Using CPU.\")\n",
        "    device = torch.device(\"cpu\")"
      ]
    },
    {
      "cell_type": "code",
      "execution_count": null,
      "metadata": {
        "colab": {
          "base_uri": "https://localhost:8080/"
        },
        "id": "jOc-991sls4i",
        "outputId": "323f37e8-c5b5-4623-d7d0-7d90161b1e0b"
      },
      "outputs": [],
      "source": [
        "splits = torch.split(data_all_bits, 512, dim=0)\n",
        "resid_mids = []\n",
        "mlp_posts = []\n",
        "\n",
        "model_3.to(device)\n",
        "for batch in tqdm(splits):\n",
        "    with torch.no_grad():\n",
        "        logits_all, cache_all = model_3.run_with_cache(batch.to(device))\n",
        "        resid_mids.append(cache_all[\"resid_mid\", 1].detach().cpu())\n",
        "        mlp_posts.append(cache_all[\"post\", 1, \"mlp\"].detach().cpu())"
      ]
    },
    {
      "cell_type": "code",
      "execution_count": null,
      "metadata": {
        "colab": {
          "base_uri": "https://localhost:8080/"
        },
        "id": "-_1iJG3a0Gb2",
        "outputId": "69fea974-6f96-4acc-f843-b363d4f10010"
      },
      "outputs": [],
      "source": [
        "resid_mids[0].shape\n",
        "mlp_posts[0].shape\n",
        "len(resid_mids)\n",
        "len(mlp_posts)"
      ]
    },
    {
      "cell_type": "code",
      "execution_count": null,
      "metadata": {
        "id": "vpxc7Rfp_25s"
      },
      "outputs": [],
      "source": [
        "resids = torch.concatenate(resid_mids, dim=0)\n",
        "concat_mlp_posts = torch.concatenate(mlp_posts, dim=0)\n",
        "concat_mlp_posts.shape"
      ]
    },
    {
      "cell_type": "code",
      "execution_count": null,
      "metadata": {
        "colab": {
          "base_uri": "https://localhost:8080/"
        },
        "id": "eBmk0N5z0MRD",
        "outputId": "d4ec30fc-d696-40f0-9b16-8349b9251e32"
      },
      "outputs": [],
      "source": [
        "# Get position 16 in sequence (final token)\n",
        "resid_pos16 = resids[:, 15, :]\n",
        "mlp_pos16 = concat_mlp_posts[:, 15, :]\n",
        "resid_pos16.shape"
      ]
    },
    {
      "cell_type": "code",
      "execution_count": null,
      "metadata": {
        "colab": {
          "base_uri": "https://localhost:8080/"
        },
        "id": "hxzUlQfaNF6K",
        "outputId": "0492047e-0139-4d2f-e656-7601faadd3a2"
      },
      "outputs": [],
      "source": [
        "mlp_pos16.mean(dim=0).shape"
      ]
    },
    {
      "cell_type": "code",
      "execution_count": null,
      "metadata": {
        "colab": {
          "base_uri": "https://localhost:8080/"
        },
        "id": "yqFbaTfh0oWy",
        "outputId": "39150a72-2856-4208-9ac6-e93a15ac28f6"
      },
      "outputs": [],
      "source": [
        "U, S, V = get_pca(mlp_pos16)\n",
        "get_vars(S)\n",
        "V.shape"
      ]
    },
    {
      "cell_type": "code",
      "execution_count": null,
      "metadata": {
        "colab": {
          "base_uri": "https://localhost:8080/"
        },
        "id": "TBqWJEgJOGPX",
        "outputId": "6791e481-70ba-43d0-e33c-3f10f748c13e"
      },
      "outputs": [],
      "source": [
        "print(get_vars(S)[:128])"
      ]
    },
    {
      "cell_type": "code",
      "execution_count": null,
      "metadata": {
        "id": "1_qMPqtm1R6k"
      },
      "outputs": [],
      "source": [
        "#resid_reduced = centered_resids @ V[:, :64]\n",
        "mean = mlp_pos16.mean(dim=0)\n",
        "nonzero = torch.nonzero(mean).squeeze()\n",
        "mlp_reduced = mlp_pos16[:, nonzero] @ V[:, :128]"
      ]
    },
    {
      "cell_type": "code",
      "execution_count": null,
      "metadata": {
        "colab": {
          "base_uri": "https://localhost:8080/"
        },
        "id": "BN12y3Lm2a-9",
        "outputId": "d288d8d1-f112-46e7-d2f5-2b1c5b971f43"
      },
      "outputs": [],
      "source": [
        "labels = all_labels[15, :]\n",
        "print(labels.shape)"
      ]
    },
    {
      "cell_type": "code",
      "execution_count": null,
      "metadata": {
        "id": "a_iMAD1u2u38"
      },
      "outputs": [],
      "source": [
        "import einops\n",
        "import polars as pl\n",
        "\n",
        "label_df = pl.DataFrame(labels.detach().cpu().numpy(), schema=['label'])\n",
        "#resid_df = pl.DataFrame(resid_reduced.detach().cpu().numpy(), schema=[str(i) for i in range(resid_reduced.shape[1])])"
      ]
    },
    {
      "cell_type": "code",
      "execution_count": null,
      "metadata": {
        "id": "ZV_7SPcLEqHO"
      },
      "outputs": [],
      "source": [
        "mlp_posts_df = pl.DataFrame(mlp_reduced.detach().cpu().numpy(), schema=[str(i) for i in range(mlp_reduced.shape[1])])\n",
        "mlp_posts_df = pl.concat([label_df, mlp_posts_df], how='horizontal')"
      ]
    },
    {
      "cell_type": "code",
      "execution_count": null,
      "metadata": {
        "id": "KQ-fa5UV4wkw"
      },
      "outputs": [],
      "source": [
        "#resids_df = pl.concat([label_df, resid_df], how='horizontal')"
      ]
    },
    {
      "cell_type": "code",
      "execution_count": null,
      "metadata": {
        "id": "w20xPQsS48_S"
      },
      "outputs": [],
      "source": [
        "from plotnine import ggplot, aes, geom_histogram, geom_point, facet_wrap\n",
        "\n",
        "#df = resids_df.melt(id_vars='label')\n",
        "\n",
        "#ggplot(df.filter(pl.col('variable').is_in(['0', '1', '2', '3'])), aes(x='value', fill='factor(label)')) + geom_histogram() + facet_wrap('~variable')\n",
        "#ggplot(resids_df, aes(x='12', fill='factor(label)')) + geom_histogram()"
      ]
    },
    {
      "cell_type": "code",
      "execution_count": null,
      "metadata": {
        "colab": {
          "base_uri": "https://localhost:8080/",
          "height": 515
        },
        "id": "KkqofJi9E5Z-",
        "outputId": "4586fce6-9c15-4ad6-a150-7f87ab6b3b7c"
      },
      "outputs": [],
      "source": [
        "from plotnine import scale_x_log10\n",
        "\n",
        "ggplot(mlp_posts_df, aes(x='0', y='2', color='factor(label)')) + geom_point() + facet_wrap('~label')"
      ]
    },
    {
      "cell_type": "code",
      "execution_count": null,
      "metadata": {
        "colab": {
          "base_uri": "https://localhost:8080/",
          "height": 118
        },
        "id": "aGGeeLLQGcwK",
        "outputId": "a1753685-da32-4468-b10c-fbb3f10ab27e"
      },
      "outputs": [],
      "source": [
        "mlp_posts_df.filter(pl.col('0') < -100)"
      ]
    },
    {
      "cell_type": "markdown",
      "metadata": {
        "id": "APfZek53UhNs"
      },
      "source": [
        "# Trial inputs"
      ]
    },
    {
      "cell_type": "code",
      "execution_count": null,
      "metadata": {
        "colab": {
          "base_uri": "https://localhost:8080/"
        },
        "id": "6BCQVv9rUrDl",
        "outputId": "47dd05c5-9465-4155-bbd0-6704250055ee"
      },
      "outputs": [],
      "source": [
        "all_1 = torch.ones((25), dtype=torch.int32)\n",
        "all_0 = torch.zeros((25), dtype=torch.int32)\n",
        "all_1_label = (torch.cumsum(all_1, dim=0)) % 5\n",
        "all_0_label = torch.tensor([5,0]*12+[0], dtype=torch.int32)\n",
        "print(all_1_label)\n",
        "print(all_0_label)"
      ]
    },
    {
      "cell_type": "code",
      "execution_count": null,
      "metadata": {
        "colab": {
          "base_uri": "https://localhost:8080/"
        },
        "id": "HQJGcnXxUtK0",
        "outputId": "048ca0ec-e77c-4cee-804b-8d9974f5d3e9"
      },
      "outputs": [],
      "source": [
        "# All zeros except a single one at one position\n",
        "test = deepcopy(all_0)\n",
        "test[8] = 1\n",
        "print(test)\n",
        "\n",
        "# All ones except a single zero at one position\n",
        "test_2 = deepcopy(all_1)\n",
        "test_2[8] = 0\n",
        "\n",
        "\n",
        "l_all_1, cache_all_1 = model_3.run_with_cache(all_1)\n",
        "print(torch.argmax(l_all_1, dim=-1))\n",
        "l_all_0, cache_all_0 = model_3.run_with_cache(all_0)\n",
        "print(torch.argmax(l_all_0, dim=-1))\n",
        "\n",
        "_, test_cache = model_3.run_with_cache(test)\n",
        "_, test_2_cache = model_3.run_with_cache(test_2)\n",
        "\n",
        "_, test_cache_0 = model_0.run_with_cache(test)"
      ]
    },
    {
      "cell_type": "markdown",
      "metadata": {
        "id": "Bagm4_EmBila"
      },
      "source": [
        "## First layer attention"
      ]
    },
    {
      "cell_type": "markdown",
      "metadata": {
        "id": "dSoCu74k9X8t"
      },
      "source": [
        "This is a 5-state, 2-layer, 2-head transformer trained to 80% accuracy."
      ]
    },
    {
      "cell_type": "code",
      "execution_count": null,
      "metadata": {
        "id": "bffQ9LvZU_cP"
      },
      "outputs": [],
      "source": [
        "IDX = 8"
      ]
    },
    {
      "cell_type": "code",
      "execution_count": null,
      "metadata": {
        "colab": {
          "base_uri": "https://localhost:8080/",
          "height": 812
        },
        "id": "BmaqKeCt_qDn",
        "outputId": "3a6b4a18-2a2f-4b18-8ff1-f32f103dff1b"
      },
      "outputs": [],
      "source": [
        "att_0_0 = cache_0[\"pattern\", 0, \"attn\"]\n",
        "display_layer_heads(att_0_0, batch_idx=IDX)\n",
        "display_layer_heads(att_0_0, batch_idx=IDX+1)\n",
        "\n",
        "# residual stream at tokens where attending to\n",
        "# patch in information from previous token positions at positions its attending to\n",
        "# train probes to predict state the activation is in\n",
        "# logistic regression on residual stream activations for probing\n",
        "# interp 3 state\n",
        "# does acc increase from 5 to 4?\n",
        "\n",
        "att_test_0 = test_cache_0[\"pattern\", 0, \"attn\"]\n",
        "for head in range(2):\n",
        "    imshow_attention(att_test_0[0, head])"
      ]
    },
    {
      "cell_type": "code",
      "execution_count": null,
      "metadata": {
        "colab": {
          "base_uri": "https://localhost:8080/",
          "height": 414
        },
        "id": "GN1vmzk9AP5i",
        "outputId": "e8017672-8c1a-42b6-fc73-2618800586d1"
      },
      "outputs": [],
      "source": [
        "att_1_0 = cache_1[\"pattern\", 0, \"attn\"]\n",
        "# for head in range(config.tflens_config.n_heads):\n",
        "#   imshow(att_1[0,head,...])\n",
        "display_layer_heads(att_1_0, batch_idx=IDX)\n",
        "display_layer_heads(att_1_0, batch_idx=IDX+1)"
      ]
    },
    {
      "cell_type": "code",
      "execution_count": null,
      "metadata": {
        "colab": {
          "base_uri": "https://localhost:8080/",
          "height": 812
        },
        "id": "lCryJp9cnE4J",
        "outputId": "07544a80-da97-499f-e137-b4952016823b"
      },
      "outputs": [],
      "source": [
        "att_2_0 = cache_2[\"pattern\", 0, \"attn\"]\n",
        "display_layer_heads(att_2_0, batch_idx=IDX)\n",
        "display_layer_heads(att_2_0, batch_idx=IDX+1)"
      ]
    },
    {
      "cell_type": "code",
      "execution_count": null,
      "metadata": {
        "colab": {
          "base_uri": "https://localhost:8080/",
          "height": 812
        },
        "id": "8YnwTFREcQ4X",
        "outputId": "040168bb-ae5f-43f9-eb12-291dfce02218"
      },
      "outputs": [],
      "source": [
        "att_3_0 = cache_3[\"pattern\", 0, \"attn\"]\n",
        "display_layer_heads(att_3_0, batch_idx=IDX)\n",
        "display_layer_heads(att_3_0, batch_idx=IDX+1)"
      ]
    },
    {
      "cell_type": "markdown",
      "metadata": {
        "id": "zvetCS-0BQ0P"
      },
      "source": [
        "## Second layer attention"
      ]
    },
    {
      "cell_type": "code",
      "execution_count": null,
      "metadata": {
        "colab": {
          "base_uri": "https://localhost:8080/",
          "height": 414
        },
        "id": "XMYx1F3_-jI5",
        "outputId": "eee67101-0b51-4e62-f3c5-6231ea333519"
      },
      "outputs": [],
      "source": [
        "att_0_1 = cache_0[\"pattern\", 1, \"attn\"]\n",
        "display_layer_heads(att_0_1, batch_idx=IDX)"
      ]
    },
    {
      "cell_type": "code",
      "execution_count": null,
      "metadata": {
        "colab": {
          "base_uri": "https://localhost:8080/",
          "height": 414
        },
        "id": "o83dGV5__ynD",
        "outputId": "042fcbd5-2f5e-42a2-ca18-8c9da8024f9b"
      },
      "outputs": [],
      "source": [
        "att_1_1 = cache_1[\"pattern\", 1, \"attn\"]\n",
        "display_layer_heads(att_1_1, batch_idx=IDX)"
      ]
    },
    {
      "cell_type": "code",
      "execution_count": null,
      "metadata": {
        "colab": {
          "base_uri": "https://localhost:8080/",
          "height": 414
        },
        "id": "BnQ9IJ2ZmeMf",
        "outputId": "87c7d466-34b9-4a2c-ab9d-30d90db3c950"
      },
      "outputs": [],
      "source": [
        "att_2_1 = cache_2[\"pattern\", 1, \"attn\"]\n",
        "display_layer_heads(att_2_1, batch_idx=IDX)\n",
        "display_layer_heads(att_2_1, batch_idx=IDX+1)"
      ]
    },
    {
      "cell_type": "code",
      "execution_count": null,
      "metadata": {
        "colab": {
          "base_uri": "https://localhost:8080/",
          "height": 414
        },
        "id": "Lw_fLQqWcf4z",
        "outputId": "b0333c8a-28c6-456f-a194-19ed47499994"
      },
      "outputs": [],
      "source": [
        "att_3_1 = cache_3[\"pattern\", 1, \"attn\"]\n",
        "display_layer_heads(att_3_1, batch_idx=IDX)"
      ]
    },
    {
      "cell_type": "code",
      "execution_count": null,
      "metadata": {
        "colab": {
          "base_uri": "https://localhost:8080/",
          "height": 1000
        },
        "id": "EOGHk9AoRsR-",
        "outputId": "15d3dc08-fe81-4322-e013-5f8f30dee382"
      },
      "outputs": [],
      "source": [
        "att_3_0_all_1 = cache_all_1[\"pattern\", 0, \"attn\"]\n",
        "for head in range(2):\n",
        "    imshow_attention(att_3_0_all_1[0,head,...])\n",
        "\n",
        "att_3_1_all_1 = cache_all_1[\"pattern\", 1, \"attn\"]\n",
        "for head in range(2):\n",
        "    imshow_attention(att_3_1_all_1[0,head,...])"
      ]
    },
    {
      "cell_type": "code",
      "execution_count": null,
      "metadata": {
        "colab": {
          "base_uri": "https://localhost:8080/",
          "height": 1000
        },
        "id": "Q9vqgJnTTnxS",
        "outputId": "9021090e-afaa-4a0a-d6a2-084cf96ef1c3"
      },
      "outputs": [],
      "source": [
        "att_3_0_all_0 = cache_all_0[\"pattern\", 1, \"attn\"]\n",
        "for head in range(2):\n",
        "    imshow_attention(att_3_0_all_0[0,head,...])\n",
        "\n",
        "att_3_1_all_0 = cache_all_0[\"pattern\", 1, \"attn\"]\n",
        "for head in range(2):\n",
        "    imshow_attention(att_3_1_all_0[0,head,...])"
      ]
    },
    {
      "cell_type": "code",
      "execution_count": null,
      "metadata": {
        "colab": {
          "base_uri": "https://localhost:8080/",
          "height": 1000
        },
        "id": "RtXuvFrFVE3M",
        "outputId": "01e29357-4c3d-47a5-d745-6c0138ab017b"
      },
      "outputs": [],
      "source": [
        "att_3_0_test = test_cache[\"pattern\", 0, \"attn\"]\n",
        "for head in range(2):\n",
        "    imshow_attention(att_3_0_test[0,head,...])\n",
        "\n",
        "att_3_1_test = test_cache[\"pattern\", 1, \"attn\"]\n",
        "for head in range(2):\n",
        "    imshow_attention(att_3_1_test[0,head,...])"
      ]
    },
    {
      "cell_type": "code",
      "execution_count": null,
      "metadata": {
        "colab": {
          "base_uri": "https://localhost:8080/",
          "height": 1000
        },
        "id": "uwAzj8XnXYGP",
        "outputId": "7879dfeb-e61b-410c-ade4-1d2deac91486"
      },
      "outputs": [],
      "source": [
        "att_3_0_test_2 = test_2_cache[\"pattern\", 0, \"attn\"]\n",
        "for head in range(2):\n",
        "    imshow_attention(att_3_0_test_2[0,head,...])\n",
        "\n",
        "att_3_1_test_2 = test_2_cache[\"pattern\", 1, \"attn\"]\n",
        "for head in range(2):\n",
        "    imshow_attention(att_3_1_test_2[0,head,...])"
      ]
    },
    {
      "cell_type": "markdown",
      "metadata": {
        "id": "zvDEN1LZYE45"
      },
      "source": [
        "# More trial inputs"
      ]
    },
    {
      "cell_type": "code",
      "execution_count": null,
      "metadata": {
        "colab": {
          "base_uri": "https://localhost:8080/"
        },
        "id": "d9xmYW4PYDMb",
        "outputId": "c26730b1-7c71-4114-aa5b-d1f727b3225c"
      },
      "outputs": [],
      "source": [
        "all_1 = torch.ones((25), dtype=torch.int32)\n",
        "all_0 = torch.zeros((25), dtype=torch.int32)\n",
        "all_1_label = (torch.cumsum(all_1, dim=0)) % 5\n",
        "all_0_label = torch.tensor([5,0]*12+[0], dtype=torch.int32)\n",
        "print(all_1_label)\n",
        "print(all_0_label)"
      ]
    },
    {
      "cell_type": "code",
      "execution_count": null,
      "metadata": {
        "colab": {
          "base_uri": "https://localhost:8080/"
        },
        "id": "gy3zsibQYDMd",
        "outputId": "e3aa6f19-f110-4cc7-e843-2ff5db223b42"
      },
      "outputs": [],
      "source": [
        "test = deepcopy(all_0)\n",
        "test[5] = 1\n",
        "print(test)\n",
        "\n",
        "test_2 = deepcopy(all_1)\n",
        "test_2[18] = 0\n",
        "\n",
        "_, test_cache = model_3.run_with_cache(test)\n",
        "_, test_2_cache = model_3.run_with_cache(test_2)"
      ]
    },
    {
      "cell_type": "code",
      "execution_count": null,
      "metadata": {
        "colab": {
          "base_uri": "https://localhost:8080/",
          "height": 1000
        },
        "id": "O_CtH9InYPRd",
        "outputId": "86f5fb46-eba7-41b3-a457-bcadac6a8bfe"
      },
      "outputs": [],
      "source": [
        "att_3_0_test = test_cache[\"pattern\", 0, \"attn\"]\n",
        "for head in range(2):\n",
        "    imshow_attention(att_3_0_test[0,head,...])\n",
        "\n",
        "att_3_1_test = test_cache[\"pattern\", 1, \"attn\"]\n",
        "for head in range(2):\n",
        "    imshow_attention(att_3_1_test[0,head,...])"
      ]
    },
    {
      "cell_type": "code",
      "execution_count": null,
      "metadata": {
        "colab": {
          "base_uri": "https://localhost:8080/",
          "height": 1000
        },
        "id": "E9RSPnicYRmr",
        "outputId": "a2cdb08d-5282-4dd8-a651-44c17b926c9e"
      },
      "outputs": [],
      "source": [
        "att_3_0_test_2 = test_2_cache[\"pattern\", 0, \"attn\"]\n",
        "for head in range(2):\n",
        "    imshow_attention(att_3_0_test_2[0,head,...])\n",
        "\n",
        "att_3_1_test_2 = test_2_cache[\"pattern\", 1, \"attn\"]\n",
        "for head in range(2):\n",
        "    imshow_attention(att_3_1_test_2[0,head,...])"
      ]
    },
    {
      "cell_type": "markdown",
      "metadata": {
        "id": "ln0H1jjC5td_"
      },
      "source": [
        "# OV circuit analysis post form 2"
      ]
    },
    {
      "cell_type": "code",
      "execution_count": null,
      "metadata": {
        "colab": {
          "base_uri": "https://localhost:8080/"
        },
        "id": "NTopEpN_5wbd",
        "outputId": "8bb648c8-7d9c-4870-9f2a-d35abdd8ef02"
      },
      "outputs": [],
      "source": [
        "print(cache_1[\"scale\"].shape)\n",
        "# Layernorm scale, [batch, pos, 1]"
      ]
    },
    {
      "cell_type": "code",
      "execution_count": null,
      "metadata": {
        "colab": {
          "base_uri": "https://localhost:8080/"
        },
        "id": "mBDMmooKRXAq",
        "outputId": "dddf87d2-e1f7-4a95-b292-785a9bcb3ba8"
      },
      "outputs": [],
      "source": [
        "# [nlayers nheads dmodel dhead] x [nlayers nheads dmodel dhead].T\n",
        "W_OV = model_0.W_V @ model_0.W_O # [nlayers nheads dmodel dmodel]\n",
        "W_E = model_0.W_E # [vocab_in dhead]\n",
        "W_U = model_0.W_U # [vocab_out dhead]\n",
        "print(W_E.shape)"
      ]
    },
    {
      "cell_type": "code",
      "execution_count": null,
      "metadata": {
        "id": "Y5yghQPRSkaF"
      },
      "outputs": [],
      "source": [
        "scale_final = cache_1[\"scale\"][:, :, 0].mean()\n",
        "scale_0 = cache_1[\"scale\", 0, \"ln1\"].mean()\n",
        "scale_1 = cache_1[\"scale\", 1, \"ln1\"].mean()"
      ]
    },
    {
      "cell_type": "code",
      "execution_count": null,
      "metadata": {
        "colab": {
          "base_uri": "https://localhost:8080/"
        },
        "id": "CsqqnbnMByqP",
        "outputId": "37b8765d-b3a5-4983-fa8e-e66ab3434a6c"
      },
      "outputs": [],
      "source": [
        "print(W_OV[1].shape)\n",
        "print(W_OV[0].shape)\n",
        "print(W_OV.shape)"
      ]
    },
    {
      "cell_type": "code",
      "execution_count": null,
      "metadata": {
        "colab": {
          "base_uri": "https://localhost:8080/"
        },
        "id": "_-54mrBvTB4G",
        "outputId": "8bd05be4-5f59-42da-8cac-75b805c3885d"
      },
      "outputs": [],
      "source": [
        "# ! Get direct path\n",
        "W_E_OV_direct = (W_E / scale_final) @ W_U\n",
        "print(f\"Direct {W_E_OV_direct.shape}\") # [vocab_out vocab_out]\n",
        "\n",
        "# ! Get full OV matrix for path through just layer 0\n",
        "W_E_OV_0 = (W_E / scale_0) @ W_OV[0]\n",
        "W_OV_0_full = (W_E_OV_0 / scale_final) @ W_U # [n_head vocab_in vocab_out]\n",
        "print(f\"Layer 0 {W_OV_0_full.shape}\")\n",
        "\n",
        "# ! Get full OV matrix for path through just layer 1\n",
        "W_E_OV_1 = (W_E / scale_1) @ W_OV[1]\n",
        "W_OV_1_full = (W_E_OV_1 / scale_final) @ W_U # [n_head vocab_in vocab_out]\n",
        "print(f\"Layer 1 {W_OV_1_full.shape}\")\n",
        "\n",
        "# ! Get full OV matrix for path through heads in layer 0 and 1\n",
        "W_E_OV_01 = einops.einsum(\n",
        "    (W_E_OV_0 / scale_1), W_OV[1],\n",
        "    \"head0 vocab_in d_model_in, head1 d_model_in d_model_out -> head0 head1 vocab_in d_model_out\",\n",
        ")\n",
        "W_OV_01_full = (W_E_OV_01 / scale_final) @ W_U # [head0 head1 vocab_in vocab_out]\n",
        "print(f\"Layers 0, 1 {W_OV_01_full.shape}\")"
      ]
    },
    {
      "cell_type": "code",
      "execution_count": null,
      "metadata": {
        "colab": {
          "base_uri": "https://localhost:8080/"
        },
        "id": "5-adcLnLVLGk",
        "outputId": "fb8e8b25-e711-45a9-824d-dfa323ba6ce4"
      },
      "outputs": [],
      "source": [
        "print(W_E_OV_direct[None, None].shape)\n",
        "print(W_OV_0_full[:, None].shape)\n",
        "print(W_OV_1_full[None].shape)\n",
        "print(W_OV_01_full.shape)\n",
        "\n",
        "cat_1 = torch.cat([W_E_OV_direct[None, None], W_OV_0_full[:, None]]) # [head0 1 vocab_in vocab_out]\n",
        "cat_2 = torch.cat([W_OV_1_full[None], W_OV_01_full])  # [head0 head1 vocab_in vocab_out]\n",
        "print(cat_1.shape, cat_2.shape)\n",
        "\n",
        "W_OV_full_all = torch.cat([\n",
        "    cat_1,\n",
        "    cat_2,\n",
        "], dim=1) # [head0 head1 vocab_in vocab_out]\n",
        "print(W_OV_full_all.shape)\n",
        "print(W_OV_full_all.transpose(0, 1).flatten(0, 1).shape)"
      ]
    },
    {
      "cell_type": "code",
      "execution_count": null,
      "metadata": {
        "colab": {
          "base_uri": "https://localhost:8080/",
          "height": 1000
        },
        "id": "h96abzNLYSup",
        "outputId": "13111f8c-b978-47ed-db46-a26b2206dad5"
      },
      "outputs": [],
      "source": [
        "tokens = [str(i) for i in range(10)]\n",
        "components_0 = [\"W<sub>E</sub>\"] + [f\"0.{i}\" for i in range(2)]\n",
        "components_1 = [\"W<sub>U</sub>\"] + [f\"1.{i}\" for i in range(2)]\n",
        "\n",
        "# Using dict.fromkeys() prevents repeats\n",
        "facet_labels = [\" ➔ \".join(list(dict.fromkeys([\"W<sub>E</sub>\", c0, c1, \"W<sub>U</sub>\"]))) for c1 in components_1 for c0 in components_0]\n",
        "imshow(\n",
        "    W_OV_full_all.transpose(0, 1).flatten(0, 1), # .softmax(dim=-1),\n",
        "    facet_col = 0,\n",
        "    facet_col_wrap = 3,\n",
        "    facet_labels = facet_labels,\n",
        "    title = f\"Full virtual OV circuits\",\n",
        "    x = tokens,\n",
        "    y = tokens,\n",
        "    labels = {\"x\": \"Source\", \"y\": \"Dest\"},\n",
        "    height = 1200,\n",
        "    width = 1200,\n",
        "    # text = text,\n",
        ")"
      ]
    },
    {
      "cell_type": "code",
      "execution_count": null,
      "metadata": {},
      "outputs": [],
      "source": [
        "imshow_attention(model_1.W_pos @ model_1.W_pos.T)"
      ]
    }
  ],
  "metadata": {
    "accelerator": "GPU",
    "colab": {
      "gpuType": "T4",
      "provenance": []
    },
    "kernelspec": {
      "display_name": "Python 3",
      "name": "python3"
    },
    "language_info": {
      "codemirror_mode": {
        "name": "ipython",
        "version": 3
      },
      "file_extension": ".py",
      "mimetype": "text/x-python",
      "name": "python",
      "nbconvert_exporter": "python",
      "pygments_lexer": "ipython3",
      "version": "3.12.2"
    }
  },
  "nbformat": 4,
  "nbformat_minor": 0
}
