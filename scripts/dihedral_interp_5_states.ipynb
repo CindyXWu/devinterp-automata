{
  "cells": [
    {
      "cell_type": "code",
      "execution_count": 1,
      "metadata": {
        "id": "-IMIMIXuoqUT"
      },
      "outputs": [],
      "source": [
        "try:\n",
        "    import google.colab # type: ignore\n",
        "    IN_COLAB = True\n",
        "except:\n",
        "    IN_COLAB = False\n",
        "\n",
        "import os, sys\n",
        "\n",
        "if IN_COLAB:\n",
        "    # Code to download the necessary files (e.g. solutions, test funcs)\n",
        "    if not os.path.exists(\"chapter1_transformers\"):\n",
        "        !curl -o /content/main.zip https://codeload.github.com/callummcdougall/ARENA_2.0/zip/refs/heads/main\n",
        "        !unzip /content/main.zip 'ARENA_2.0-main/chapter1_transformers/exercises/*'\n",
        "        sys.path.append(\"/content/ARENA_2.0-main/chapter1_transformers/exercises\")\n",
        "        os.remove(\"/content/main.zip\")\n",
        "        os.rename(\"ARENA_2.0-main/chapter1_transformers\", \"chapter1_transformers\")\n",
        "        os.rmdir(\"ARENA_2.0-main\")\n",
        "\n",
        "         # Install packages\n",
        "        %pip install einops\n",
        "        %pip install jaxtyping\n",
        "        %pip install transformer_lens\n",
        "        %pip install git+https://github.com/callummcdougall/CircuitsVis.git#subdirectory=python\n",
        "        %pip install s3fs\n",
        "        %pip install omegaconf\n",
        "        %pip install git+https://github.com/CindyXWu/devinterp-automata.git\n",
        "        %pip install torch-ema\n",
        "\n",
        "        !curl -o /content/main.zip https://codeload.github.com/CindyXWu/devinterp-automata/zip/refs/heads/main\n",
        "        !unzip -o /content/main.zip -d /content/\n",
        "\n",
        "        sys.path.append(\"/content/devinterp-automata/\")\n",
        "        os.remove(\"/content/main.zip\")\n",
        "\n",
        "        os.chdir(\"chapter1_transformers/exercises\")\n",
        "else:\n",
        "    from IPython import get_ipython\n",
        "    ipython = get_ipython()\n",
        "    ipython.run_line_magic(\"load_ext\", \"autoreload\")\n",
        "    ipython.run_line_magic(\"autoreload\", \"2\")\n",
        "\n",
        "    CHAPTER = r\"chapter1_transformers\"\n",
        "    CHAPTER_DIR = r\"./\" if CHAPTER in os.listdir() else os.getcwd().split(CHAPTER)[0]\n",
        "    EXERCISES_DIR = CHAPTER_DIR + f\"{CHAPTER}/exercises\"\n",
        "    sys.path.append(EXERCISES_DIR)"
      ]
    },
    {
      "cell_type": "code",
      "execution_count": 2,
      "metadata": {
        "colab": {
          "base_uri": "https://localhost:8080/"
        },
        "id": "87aqhevcowv4",
        "outputId": "0e2bd4b2-192c-48c6-939d-8ed81aa8ce6f"
      },
      "outputs": [
        {
          "name": "stderr",
          "output_type": "stream",
          "text": [
            "/Users/cindy/anaconda3/envs/devinterp/lib/python3.12/site-packages/tqdm/auto.py:21: TqdmWarning: IProgress not found. Please update jupyter and ipywidgets. See https://ipywidgets.readthedocs.io/en/stable/user_install.html\n",
            "  from .autonotebook import tqdm as notebook_tqdm\n",
            "/Users/cindy/anaconda3/envs/devinterp/lib/python3.12/site-packages/pydantic/_internal/_fields.py:151: UserWarning: Field \"model_type\" has conflict with protected namespace \"model_\".\n",
            "\n",
            "You may be able to resolve this warning by setting `model_config['protected_namespaces'] = ()`.\n",
            "  warnings.warn(\n",
            "/Users/cindy/anaconda3/envs/devinterp/lib/python3.12/site-packages/pydantic/_internal/_fields.py:151: UserWarning: Field \"model_save_method\" has conflict with protected namespace \"model_\".\n",
            "\n",
            "You may be able to resolve this warning by setting `model_config['protected_namespaces'] = ()`.\n",
            "  warnings.warn(\n"
          ]
        }
      ],
      "source": [
        "from dotenv import load_dotenv\n",
        "import plotly.express as px\n",
        "from typing import List, Union, Optional, Dict, Tuple\n",
        "from jaxtyping import Int, Float\n",
        "\n",
        "import torch\n",
        "from torch import Tensor\n",
        "import torch.nn as nn\n",
        "import torch.nn.functional as F\n",
        "\n",
        "from pathlib import Path\n",
        "import numpy as np\n",
        "import pandas as pd\n",
        "import einops\n",
        "import re\n",
        "import functools\n",
        "from tqdm import tqdm\n",
        "from IPython.display import display\n",
        "import webbrowser\n",
        "import gdown\n",
        "from transformer_lens.hook_points import HookPoint\n",
        "from transformer_lens import utils, HookedTransformer, HookedTransformerConfig, FactoredMatrix, ActivationCache\n",
        "from transformer_lens.utils import to_numpy\n",
        "\n",
        "import circuitsvis as cv\n",
        "import plotly.express as px\n",
        "import plotly.graph_objects as go\n",
        "from plotly.subplots import make_subplots\n",
        "\n",
        "# For Dashiell's groups code\n",
        "from copy import deepcopy\n",
        "from functools import reduce\n",
        "from itertools import product\n",
        "import math\n",
        "import numpy as np\n",
        "from operator import mul\n",
        "import torch\n",
        "\n",
        "torch.set_grad_enabled(False)\n",
        "device = torch.device(\"cuda\" if torch.cuda.is_available() else \"cpu\")\n",
        "MAIN = __name__ == \"__main__\"\n",
        "\n",
        "import wandb\n",
        "from pathlib import Path\n",
        "import os\n",
        "import yaml\n",
        "import s3fs\n",
        "from omegaconf import OmegaConf\n",
        "\n",
        "from di_automata.config_setup import *\n",
        "from di_automata.constructors import (\n",
        "    construct_model,\n",
        "    create_dataloader_hf,\n",
        ")\n",
        "from di_automata.tasks.data_utils import take_n\n",
        "import plotly.io as pio\n",
        "\n",
        "# AWS\n",
        "load_dotenv()\n",
        "AWS_KEY, AWS_SECRET = os.getenv(\"AWS_KEY\"), os.getenv(\"AWS_SECRET\")\n",
        "s3 = s3fs.S3FileSystem(key=AWS_KEY, secret=AWS_SECRET)"
      ]
    },
    {
      "cell_type": "code",
      "execution_count": 3,
      "metadata": {
        "id": "m787kSd7ienY"
      },
      "outputs": [],
      "source": [
        "class DihedralElement:\n",
        "\n",
        "    def __init__(self, rot: int, ref: int, n: int):\n",
        "        self.n = n\n",
        "        self.rot = rot % n\n",
        "        self.ref = ref % 2\n",
        "\n",
        "    def __repr__(self):\n",
        "        return str((self.rot, self.ref))\n",
        "\n",
        "    def __hash__(self):\n",
        "        return hash(str(self))\n",
        "\n",
        "    @property\n",
        "    def sigma(self):\n",
        "        return self.rot, self.ref\n",
        "\n",
        "    @classmethod\n",
        "    def full_group(cls, n):\n",
        "        return [\n",
        "            DihedralElement(r, p, n) for r, p in product(range(n), [0, 1])\n",
        "        ]\n",
        "\n",
        "    @property\n",
        "    def order(self):\n",
        "        if self.ref:\n",
        "            return 2\n",
        "        elif self.rot == 0:\n",
        "            return 0\n",
        "        elif (self.n % self.rot) == 0:\n",
        "            return self.n // self.rot\n",
        "        else:\n",
        "            return math.lcm(self.n, self.rot) // self.rot\n",
        "\n",
        "    @property\n",
        "    def inverse(self):\n",
        "        if self.ref:\n",
        "            return deepcopy(self)\n",
        "        else:\n",
        "            return DihedralElement(self.n - self.rot, self.ref, self.n)\n",
        "\n",
        "    def __mul__(self, other):\n",
        "        if (not isinstance(other, DihedralElement)) or (other.n != self.n):\n",
        "            raise ValueError(\n",
        "                'Can only multiply a dihedral rotation with another dihedral rotation'\n",
        "            )\n",
        "        if self.ref:\n",
        "            rot = self.rot - other.rot\n",
        "        else:\n",
        "            rot = self.rot + other.rot\n",
        "        return DihedralElement(rot, self.ref + other.ref, self.n)\n",
        "\n",
        "    def __pow__(self, x: int):\n",
        "        if x == -1:\n",
        "            return self.inverse\n",
        "        elif x == 0:\n",
        "            return DihedralElement(0, 0, self.n)\n",
        "        elif x == 1:\n",
        "            return deepcopy(self)\n",
        "        else:\n",
        "            return reduce(mul, [deepcopy(self) for _ in range(x)])\n",
        "\n",
        "    def index(self) -> int:\n",
        "        return self.rot * self.ref + self.rot\n",
        "\n",
        "\n",
        "def generate_subgroup(generators, n):\n",
        "    group_size = 0\n",
        "    all_elements = set(generators)\n",
        "    while group_size < len(all_elements):\n",
        "        group_size = len(all_elements)\n",
        "        rotations = [DihedralElement(*p, n) for p in all_elements]\n",
        "        for r1, r2 in product(rotations, repeat=2):\n",
        "            r3 = r1 * r2\n",
        "            all_elements.add(r3.sigma)\n",
        "    return list(all_elements)\n",
        "\n",
        "\n",
        "def dihedral_conjugacy_classes(n: int):\n",
        "\n",
        "    conj_classes = [(0, 0), (0, 1)]\n",
        "    if n % 2 == 1:\n",
        "        m = (n - 1) // 2\n",
        "    else:\n",
        "        m = (n - 2) // 2\n",
        "        conj_classes += [((2, 0), (0, 1)), ((2, 1), (1, 1))]\n",
        "    conj_classes += [(i, 0) for i in range(1, m+1)]\n",
        "    return conj_classes\n",
        "\n",
        "\n",
        "class DihedralIrrep:\n",
        "\n",
        "    def __init__(self, n: int, conjugacy_class):\n",
        "        self.n = n\n",
        "        self.conjugacy_class = conjugacy_class\n",
        "        self.group = DihedralElement.full_group(n)\n",
        "\n",
        "    def _trivial_irrep(self):\n",
        "        return {r.sigma: torch.ones((1,)) for r in self.group}\n",
        "\n",
        "    def _reflection_irrep(self):\n",
        "        return {r.sigma: (-1**r.ref) * torch.ones((1,)) for r in self.group}\n",
        "\n",
        "    def _subgroup_irrep(self, sg):\n",
        "        return {r.sigma: 1 if r.sigma in sg else -1 for r in self.group}\n",
        "\n",
        "    def _matrix_irrep(self, k):\n",
        "        mats = {}\n",
        "        mats[(0, 0)] = torch.eye(2)\n",
        "        ref = torch.tensor([[1.0, 0.0], [0.0, -1.0]], dtype=torch.float32)\n",
        "        mats[(0, 1)] = ref\n",
        "        two_pi_n = 2 * torch.pi / self.n\n",
        "        for idx in range(1, self.n):\n",
        "            sin = np.sin(two_pi_n * idx * k)\n",
        "            cos = np.cos(two_pi_n * idx * k)\n",
        "            m = torch.tensor([[cos, -1.0 * sin], [sin, cos]], dtype=torch.float32)\n",
        "            mats[(idx, 0)] = m\n",
        "            mats[(idx, 1)] = ref @ m\n",
        "        return mats\n",
        "\n",
        "    def matrix_representations(self):\n",
        "        if self.conjugacy_class == (0, 0):\n",
        "            return self._trivial_irrep()\n",
        "        elif self.conjugacy_class == (0, 1):\n",
        "            return self._reflection_irrep()\n",
        "        elif self.conjugacy_class[1] == 0:\n",
        "            return self._matrix_irrep(self.conjugacy_class[0])\n",
        "        elif (\n",
        "            isinstance(self.conjugacy_class[0], tuple) and\n",
        "            isinstance(self.conjugacy_class[1], tuple)\n",
        "        ):\n",
        "            subgroup = generate_subgroup(self.conjugacy_class, self.n)\n",
        "            return self._subgroup_irrep(subgroup)\n",
        "        else:\n",
        "            raise ValueError(\n",
        "                f'Somehow {self.conjugacy_class} is not a proper conjugacy class....'\n",
        "            )\n",
        "\n",
        "\n",
        "class ProductDihedralIrrep:\n",
        "\n",
        "    def __init__(self, n: int, m: int, conjugacy_classes):\n",
        "\n",
        "        assert len(conjugacy_classes) == m\n",
        "\n",
        "        self.m = m\n",
        "        self.n = n\n",
        "        self.conjugacy_class = conjugacy_classes\n",
        "        self.group = [element for element in product(DihedralElement.full_group(n), repeat=m)]\n",
        "        self.irreps = [\n",
        "            DihedralIrrep(n, conj_class).matrix_representations() for conj_class in conjugacy_classes\n",
        "        ]\n",
        "\n",
        "    def matrix_representations(self):\n",
        "\n",
        "        reps = {}\n",
        "\n",
        "        for elements in self.group:\n",
        "            key = tuple(el.sigma for el in elements)\n",
        "            matrices = [self.irreps[i][el] for i, el in enumerate(key)]\n",
        "            reps[key] = reduce(torch.kron, matrices)\n",
        "        return reps"
      ]
    },
    {
      "cell_type": "code",
      "execution_count": 4,
      "metadata": {
        "id": "hLSW-IOgijI1"
      },
      "outputs": [],
      "source": [
        "group = DihedralElement.full_group(5)"
      ]
    },
    {
      "cell_type": "code",
      "execution_count": 5,
      "metadata": {
        "id": "Amd6_BBPjiuO"
      },
      "outputs": [],
      "source": [
        "translation = {\n",
        "    (0,0):0,\n",
        "    (1,0):1,\n",
        "    (2,0):2,\n",
        "    (3,0):3,\n",
        "    (4,0):4,\n",
        "    (0,1):5,\n",
        "    (1,1):6,\n",
        "    (2,1):7,\n",
        "    (3,1):8,\n",
        "    (4,1):9,\n",
        "}"
      ]
    },
    {
      "cell_type": "code",
      "execution_count": 6,
      "metadata": {
        "id": "GUMf5cdb3d8w"
      },
      "outputs": [],
      "source": [
        "def imshow_attention(tensor, renderer=None, xaxis=\"\", yaxis=\"\", **kwargs):\n",
        "    px.imshow(utils.to_numpy(tensor), color_continuous_midpoint=0.0, color_continuous_scale=\"RdBu\", labels={\"x\":xaxis, \"y\":yaxis}, **kwargs).show(renderer)\n",
        "\n",
        "def line(tensor, renderer=None, xaxis=\"\", yaxis=\"\", **kwargs):\n",
        "    px.line(utils.to_numpy(tensor), labels={\"x\":xaxis, \"y\":yaxis}, **kwargs).show(renderer)\n",
        "\n",
        "def scatter(x, y, xaxis=\"\", yaxis=\"\", caxis=\"\", renderer=None, **kwargs):\n",
        "    x = utils.to_numpy(x)\n",
        "    y = utils.to_numpy(y)\n",
        "    px.scatter(y=y, x=x, labels={\"x\":xaxis, \"y\":yaxis, \"color\":caxis}, **kwargs).show(renderer)\n"
      ]
    },
    {
      "cell_type": "code",
      "execution_count": 7,
      "metadata": {
        "id": "lP9I1Pbh0lIM"
      },
      "outputs": [],
      "source": [
        "update_layout_set = {\"xaxis_range\", \"yaxis_range\", \"hovermode\", \"xaxis_title\", \"yaxis_title\", \"colorbar\", \"colorscale\", \"coloraxis\", \"title_x\", \"bargap\", \"bargroupgap\", \"xaxis_tickformat\", \"yaxis_tickformat\", \"title_y\", \"legend_title_text\", \"xaxis_showgrid\", \"xaxis_gridwidth\", \"xaxis_gridcolor\", \"yaxis_showgrid\", \"yaxis_gridwidth\", \"yaxis_gridcolor\", \"showlegend\", \"xaxis_tickmode\", \"yaxis_tickmode\", \"margin\", \"xaxis_visible\", \"yaxis_visible\", \"bargap\", \"bargroupgap\", \"coloraxis_showscale\", \"xaxis_tickangle\"}\n",
        "import torch as t\n",
        "\n",
        "def imshow(tensor: t.Tensor, renderer=None, **kwargs):\n",
        "    kwargs_post = {k: v for k, v in kwargs.items() if k in update_layout_set}\n",
        "    kwargs_pre = {k: v for k, v in kwargs.items() if k not in update_layout_set}\n",
        "    facet_labels = kwargs_pre.pop(\"facet_labels\", None)\n",
        "    border = kwargs_pre.pop(\"border\", False)\n",
        "    return_fig = kwargs_pre.pop(\"return_fig\", False)\n",
        "    text = kwargs_pre.pop(\"text\", None)\n",
        "    xaxis_tickangle = kwargs_post.pop(\"xaxis_tickangle\", None)\n",
        "    static = kwargs_pre.pop(\"static\", False)\n",
        "    if \"color_continuous_scale\" not in kwargs_pre:\n",
        "        kwargs_pre[\"color_continuous_scale\"] = \"RdBu\"\n",
        "    if \"color_continuous_midpoint\" not in kwargs_pre:\n",
        "        kwargs_pre[\"color_continuous_midpoint\"] = 0.0\n",
        "    if \"margin\" in kwargs_post and isinstance(kwargs_post[\"margin\"], int):\n",
        "        kwargs_post[\"margin\"] = dict.fromkeys(list(\"tblr\"), kwargs_post[\"margin\"])\n",
        "    fig = px.imshow(to_numpy(tensor), **kwargs_pre).update_layout(**kwargs_post)\n",
        "    if facet_labels:\n",
        "        # Weird thing where facet col wrap means labels are in wrong order\n",
        "        if \"facet_col_wrap\" in kwargs_pre:\n",
        "            facet_labels = reorder_list_in_plotly_way(facet_labels, kwargs_pre[\"facet_col_wrap\"])\n",
        "        for i, label in enumerate(facet_labels):\n",
        "            fig.layout.annotations[i]['text'] = label\n",
        "    if border:\n",
        "        fig.update_xaxes(showline=True, linewidth=1, linecolor='black', mirror=True)\n",
        "        fig.update_yaxes(showline=True, linewidth=1, linecolor='black', mirror=True)\n",
        "    if text:\n",
        "        if tensor.ndim == 2:\n",
        "            # if 2D, then we assume text is a list of lists of strings\n",
        "            assert isinstance(text[0], list)\n",
        "            assert isinstance(text[0][0], str)\n",
        "            text = [text]\n",
        "        else:\n",
        "            # if 3D, then text is either repeated for each facet, or different\n",
        "            assert isinstance(text[0], list)\n",
        "            if isinstance(text[0][0], str):\n",
        "                text = [text for _ in range(len(fig.data))]\n",
        "        for i, _text in enumerate(text):\n",
        "            fig.data[i].update(\n",
        "                text=_text,\n",
        "                texttemplate=\"%{text}\",\n",
        "                textfont={\"size\": 12}\n",
        "            )\n",
        "    # Very hacky way of fixing the fact that updating layout with new tickangle only applies to first facet by default\n",
        "    if xaxis_tickangle is not None:\n",
        "        n_facets = 1 if tensor.ndim == 2 else tensor.shape[0]\n",
        "        for i in range(1, 1+n_facets):\n",
        "            xaxis_name = \"xaxis\" if i == 1 else f\"xaxis{i}\"\n",
        "            fig.layout[xaxis_name][\"tickangle\"] = xaxis_tickangle\n",
        "    return fig if return_fig else fig.show(renderer=renderer, config={\"staticPlot\": static})\n",
        "\n",
        "def reorder_list_in_plotly_way(L: list, col_wrap: int):\n",
        "    '''\n",
        "    Helper function, because Plotly orders figures in an annoying way when there's column wrap.\n",
        "    '''\n",
        "    L_new = []\n",
        "    while len(L) > 0:\n",
        "        L_new.extend(L[-col_wrap:])\n",
        "        L = L[:-col_wrap]\n",
        "    print(f\"Reordered labels: {L_new}\")\n",
        "    return L_new"
      ]
    },
    {
      "cell_type": "code",
      "execution_count": 8,
      "metadata": {
        "id": "yNLip8nbp6vZ"
      },
      "outputs": [],
      "source": [
        "DI_ROOT = Path(\"/content/devinterp-automata-main/\") if IN_COLAB else Path(\"../\")\n",
        "config_file_path = DI_ROOT / f\"scripts/configs/slt_config.yaml\"\n",
        "slt_config = OmegaConf.load(config_file_path)\n",
        "\n",
        "with open(DI_ROOT / f\"scripts/configs/task_config/{slt_config.dataset_type}.yaml\", 'r') as file:\n",
        "    task_config = yaml.safe_load(file)"
      ]
    },
    {
      "cell_type": "code",
      "execution_count": 9,
      "metadata": {
        "colab": {
          "base_uri": "https://localhost:8080/"
        },
        "id": "DBUZwD9-Ez-6",
        "outputId": "d7f588e7-8ac1-4143-dcab-d5892dc26c19"
      },
      "outputs": [
        {
          "name": "stdout",
          "output_type": "stream",
          "text": [
            "dihedral\n"
          ]
        }
      ],
      "source": [
        "OmegaConf.set_struct(slt_config, False) # Allow new configuration values to be added\n",
        "# Because we are in Colab and not VSCode, here is where you want to edit your config values\n",
        "slt_config[\"task_config\"] = task_config\n",
        "slt_config[\"lr\"] = 0.0005\n",
        "slt_config[\"num_training_iter\"] = 30000\n",
        "slt_config[\"n_layers\"] = 2\n",
        "\n",
        "# Convert OmegaConf object to MainConfig Pydantic model for dynamic type validation - NECESSARY DO NOT SKIP\n",
        "pydantic_config = PostRunSLTConfig(**slt_config)\n",
        "# Convert back to OmegaConf object for compatibility with existing code\n",
        "slt_config = OmegaConf.create(pydantic_config.model_dump())\n",
        "\n",
        "print(task_config[\"dataset_type\"])"
      ]
    },
    {
      "cell_type": "code",
      "execution_count": 10,
      "metadata": {
        "colab": {
          "base_uri": "https://localhost:8080/"
        },
        "id": "PEFYiG-EqAuR",
        "outputId": "e8cca4da-ca47-4951-cbc1-49c6ee5341c8"
      },
      "outputs": [
        {
          "name": "stdout",
          "output_type": "stream",
          "text": [
            "dihedral_TF_LENS_LR0.0005_its30000_layers2_seqlen25_nstates5_prob1None_nactionsNone\n"
          ]
        }
      ],
      "source": [
        "device = torch.device(\"cuda:0\" if torch.cuda.is_available() else \"cpu\")\n",
        "\n",
        "# Run path and name for easy referral later\n",
        "run_path = f\"{slt_config.entity_name}/{slt_config.wandb_project_name}\"\n",
        "run_name = slt_config.run_name\n",
        "print(run_name)"
      ]
    },
    {
      "cell_type": "code",
      "execution_count": 11,
      "metadata": {
        "id": "1lkpLZBEuSRx"
      },
      "outputs": [],
      "source": [
        "# Get run information\n",
        "api = wandb.Api(timeout=3000)\n",
        "run_list = api.runs(\n",
        "    path=run_path,\n",
        "    filters={\n",
        "        \"display_name\": run_name,\n",
        "        \"state\": \"finished\",\n",
        "        },\n",
        "    order=\"created_at\", # Default descending order so backwards in time\n",
        ")\n",
        "assert run_list, f\"Specified run {run_name} does not exist\"\n",
        "run_api = run_list[slt_config.run_idx]\n",
        "try: history = run_api.history()\n",
        "except: history = run_api.history\n",
        "loss_history = history[\"Train Loss\"]\n",
        "accuracy_history = history[\"Train Acc\"]\n",
        "steps = history[\"_step\"]\n",
        "time = run_api.config[\"time\"]"
      ]
    },
    {
      "cell_type": "code",
      "execution_count": 12,
      "metadata": {
        "id": "KYkD7_cIqEIh"
      },
      "outputs": [],
      "source": [
        "def get_config() -> MainConfig:\n",
        "    \"\"\"\"\n",
        "    Manually get config from run as artifact.\n",
        "    WandB also logs automatically for each run, but it doesn't log enums correctly.\n",
        "    \"\"\"\n",
        "    artifact = api.artifact(f\"{run_path}/config:{run_name}_{time}\")\n",
        "    data_dir = artifact.download()\n",
        "    config_path = Path(data_dir) / \"config.yaml\"\n",
        "    return OmegaConf.load(config_path)"
      ]
    },
    {
      "cell_type": "code",
      "execution_count": 13,
      "metadata": {
        "colab": {
          "base_uri": "https://localhost:8080/"
        },
        "id": "NgFUGT2lqHoA",
        "outputId": "902ae5a9-1343-401e-9fc2-d6c4e713a052"
      },
      "outputs": [
        {
          "name": "stderr",
          "output_type": "stream",
          "text": [
            "\u001b[34m\u001b[1mwandb\u001b[0m:   1 of 1 files downloaded.  \n"
          ]
        }
      ],
      "source": [
        "config = get_config()\n",
        "\n",
        "# Set total number of unique samples seen (n). If this is not done it will break LLC estimator.\n",
        "slt_config.rlct_config.sgld_kwargs.num_samples = slt_config.rlct_config.num_samples = config.rlct_config.sgld_kwargs.num_samples\n",
        "slt_config.nano_gpt_config = config.nano_gpt_config"
      ]
    },
    {
      "cell_type": "code",
      "execution_count": 14,
      "metadata": {
        "id": "utSRu7dAqPbr"
      },
      "outputs": [],
      "source": [
        "def restore_state_single_cp(cp_idx: int) -> dict:\n",
        "    \"\"\"Restore model state from a single checkpoint.\n",
        "    Used in _load_logits_states() and _calculate_rlct().\n",
        "\n",
        "    Args:\n",
        "        idx_cp: index of checkpoint.\n",
        "\n",
        "    Returns:\n",
        "        model state dictionary.\n",
        "    \"\"\"\n",
        "    idx = cp_idx * config.rlct_config.ed_config.eval_frequency * slt_config.skip_cps\n",
        "    print(f\"Getting checkpoint {idx}\")\n",
        "    print(config.model_save_method)\n",
        "    match config.model_save_method:\n",
        "        case \"wandb\":\n",
        "            artifact = api.artifact(f\"{run_path}/states:idx{idx}_{run_name}_{time}\")\n",
        "            data_dir = artifact.download()\n",
        "            state_path = Path(data_dir) / f\"states_{idx}.torch\"\n",
        "            states = torch.load(state_path)\n",
        "        case \"aws\":\n",
        "            with s3.open(f'{config.aws_bucket}/{run_name}_{time}/states_{idx}.pth', mode='rb') as file:\n",
        "                states = torch.load(file, map_location=device)\n",
        "    return states[\"model\"]"
      ]
    },
    {
      "cell_type": "code",
      "execution_count": 15,
      "metadata": {
        "colab": {
          "base_uri": "https://localhost:8080/"
        },
        "id": "bYVaCV7BqiBy",
        "outputId": "2cf8e523-00f7-4d62-fc71-8d12be76d510"
      },
      "outputs": [
        {
          "name": "stdout",
          "output_type": "stream",
          "text": [
            "/Users/cindy/ml-projects/devinterp-automata/di_automata/logits_dihedral_TF_LENS_LR0.0005_its30000_layers2_seqlen25_nstates5_prob1None_nactionsNone_03_01_09_31\n"
          ]
        }
      ],
      "source": [
        "current_directory = Path().absolute()\n",
        "logits_file_path = current_directory.parent / f\"di_automata/logits_{run_name}_{time}\"\n",
        "print(logits_file_path)"
      ]
    },
    {
      "cell_type": "code",
      "execution_count": 16,
      "metadata": {
        "id": "JMSwFPbSqnZE"
      },
      "outputs": [],
      "source": [
        "ed_loader = create_dataloader_hf(config, deterministic=True) # Make sure deterministic to see same data"
      ]
    },
    {
      "cell_type": "code",
      "execution_count": 17,
      "metadata": {
        "id": "cv2RNMe656c0"
      },
      "outputs": [],
      "source": [
        "def display_layer_heads(att, batch_idx=0):\n",
        "    \"\"\"For generic inputs, display attention for particular index in batch.\n",
        "    \"\"\"\n",
        "    display(cv.attention.attention_patterns(\n",
        "        tokens=list_of_strings(inputs[batch_idx,...]),\n",
        "        attention=att[batch_idx,...],\n",
        "        attention_head_names=[f\"L0H{i}\" for i in range(4)],\n",
        "    ))\n",
        "    # 0 is toggle action\n",
        "    # 1 is drive action\n",
        "    print(inputs[batch_idx,...])\n",
        "    print(labels[batch_idx,...])\n",
        "\n",
        "\n",
        "def list_of_strings(tensor):\n",
        "    return tensor.numpy().astype(str).tolist()\n",
        "\n",
        "\n",
        "def display_layer_heads_batch(att: torch.Tensor, cache: ActivationCache, toks: list[str]):\n",
        "    \"\"\"TODO: refactor\"\"\"\n",
        "    cv.attention.from_cache(\n",
        "      cache = cache,\n",
        "      tokens = toks,\n",
        "      batch_idx = list(range(10)),\n",
        "      attention_type = \"info-weighted\",\n",
        "      radioitems = True,\n",
        "      return_mode = \"view\",\n",
        "      batch_labels = lambda batch_idx, str_tok_list: format_sequence(str_tok_list, dataset.str_tok_labels[batch_idx]),\n",
        "      mode = \"small\",\n",
        "    )"
      ]
    },
    {
      "cell_type": "markdown",
      "metadata": {},
      "source": [
        "# Get checkpoints"
      ]
    },
    {
      "cell_type": "code",
      "execution_count": 18,
      "metadata": {
        "colab": {
          "base_uri": "https://localhost:8080/"
        },
        "id": "iwIyM5v79Vh8",
        "outputId": "83c3bc52-8672-46b4-aeea-edcbe9c64ed3"
      },
      "outputs": [
        {
          "name": "stdout",
          "output_type": "stream",
          "text": [
            "Getting checkpoint 400\n",
            "aws\n",
            "Getting checkpoint 5000\n",
            "aws\n",
            "Getting checkpoint 12400\n",
            "aws\n",
            "Getting checkpoint 29980\n",
            "aws\n"
          ]
        },
        {
          "data": {
            "text/plain": [
              "<All keys matched successfully>"
            ]
          },
          "execution_count": 18,
          "metadata": {},
          "output_type": "execute_result"
        }
      ],
      "source": [
        "# Pre-form\n",
        "cp_idx_0 = 20\n",
        "state_0 = restore_state_single_cp(cp_idx_0)\n",
        "model_0, _ = construct_model(config)\n",
        "model_0.load_state_dict(state_0)\n",
        "\n",
        "# Form 1\n",
        "cp_idx_1 = 250\n",
        "state_1 = restore_state_single_cp(cp_idx_1)\n",
        "model_1, _ = construct_model(config)\n",
        "model_1.load_state_dict(state_1)\n",
        "\n",
        "# Form 2\n",
        "cp_idx_2 = 620\n",
        "state_2 = restore_state_single_cp(cp_idx_2)\n",
        "model_2, _ = construct_model(config)\n",
        "model_2.load_state_dict(state_2)\n",
        "\n",
        "# End\n",
        "cp_idx_3 = 1499\n",
        "state_3 = restore_state_single_cp(cp_idx_3)\n",
        "model_3, _ = construct_model(config)\n",
        "model_3.load_state_dict(state_3)"
      ]
    },
    {
      "cell_type": "code",
      "execution_count": 19,
      "metadata": {
        "id": "1sImbNx19xbt"
      },
      "outputs": [],
      "source": [
        "# Pass data through\n",
        "for data in take_n(ed_loader, 1):\n",
        "    inputs = data[\"input_ids\"]\n",
        "    labels = data[\"label_ids\"]\n",
        "    break\n",
        "\n",
        "logits_0, cache_0 = model_0.run_with_cache(inputs)\n",
        "logits_1, cache_1 = model_1.run_with_cache(inputs)\n",
        "logits_2, cache_2 = model_2.run_with_cache(inputs)\n",
        "logits_3, cache_3 = model_3.run_with_cache(inputs)"
      ]
    },
    {
      "cell_type": "markdown",
      "metadata": {
        "id": "tYi4TAbnUUT2"
      },
      "source": [
        "# Activation distribution PCA"
      ]
    },
    {
      "cell_type": "code",
      "execution_count": 20,
      "metadata": {
        "id": "h8LdDYCtsaxc"
      },
      "outputs": [],
      "source": [
        "from functools import reduce\n",
        "from itertools import accumulate\n",
        "\n",
        "def actions_to_labels(tensor, dtype: str = \"float32\"):\n",
        "    actions = {\n",
        "        0: DihedralElement(0, 1, 5),\n",
        "        1: DihedralElement(1, 0, 5)\n",
        "    }\n",
        "    action_list = []\n",
        "    for i in tensor:\n",
        "        if i ==  torch.tensor(0):\n",
        "            action_list.append(actions[0])\n",
        "        else:\n",
        "            action_list.append(actions[1])\n",
        "    states = accumulate(action_list, mul)\n",
        "    dtype = torch.float32 if dtype == \"float\" else torch.int32\n",
        "    return torch.tensor([translation[s.sigma] for s in states], dtype=dtype)"
      ]
    },
    {
      "cell_type": "code",
      "execution_count": 21,
      "metadata": {
        "colab": {
          "base_uri": "https://localhost:8080/"
        },
        "id": "kL2YsyG_kfaq",
        "outputId": "ad5ef1b4-bc1a-46ad-fb6c-35b5c4db447a"
      },
      "outputs": [],
      "source": [
        "def get_all_bits(m):\n",
        "    \"\"\"Generate every possible m-length binary sequence.\"\"\"\n",
        "    d = np.arange(2 ** m)\n",
        "    bits = (((d[:,None] & (1 << np.arange(m)))) > 0).astype(int)\n",
        "    return torch.asarray(bits)\n",
        "\n",
        "data_all_bits = torch.asarray(get_all_bits(16))"
      ]
    },
    {
      "cell_type": "code",
      "execution_count": 45,
      "metadata": {},
      "outputs": [
        {
          "data": {
            "text/plain": [
              "tensor([5, 9, 8, 3, 4, 9, 4, 9, 8, 7, 6], dtype=torch.int32)"
            ]
          },
          "execution_count": 45,
          "metadata": {},
          "output_type": "execute_result"
        }
      ],
      "source": [
        "actions_to_labels(torch.tensor([0,1,1,0,1,0,0,0,1,1,1]))"
      ]
    },
    {
      "cell_type": "code",
      "execution_count": 22,
      "metadata": {
        "id": "guM8JYhgv_Q_"
      },
      "outputs": [],
      "source": [
        "all_labels = torch.stack([actions_to_labels(tensor) for tensor in data_all_bits], dim=1)"
      ]
    },
    {
      "cell_type": "code",
      "execution_count": 23,
      "metadata": {},
      "outputs": [
        {
          "name": "stdout",
          "output_type": "stream",
          "text": [
            "CUDA not available, but MPS is available.\n"
          ]
        }
      ],
      "source": [
        "if torch.cuda.is_available():\n",
        "    device = torch.device(\"cuda\")\n",
        "    print(\"CUDA is available\")\n",
        "elif torch.backends.mps.is_available():\n",
        "    print(\"CUDA not available, but MPS is available.\")\n",
        "    device = torch.device(\"mps\")\n",
        "else:\n",
        "    print(\"CUDA and MPS not available. Using CPU.\")\n",
        "    device = torch.device(\"cpu\")"
      ]
    },
    {
      "cell_type": "code",
      "execution_count": 24,
      "metadata": {
        "colab": {
          "base_uri": "https://localhost:8080/"
        },
        "id": "jOc-991sls4i",
        "outputId": "323f37e8-c5b5-4623-d7d0-7d90161b1e0b"
      },
      "outputs": [
        {
          "name": "stdout",
          "output_type": "stream",
          "text": [
            "Moving model to device:  mps\n"
          ]
        },
        {
          "name": "stderr",
          "output_type": "stream",
          "text": [
            "  0%|          | 0/128 [00:00<?, ?it/s]"
          ]
        },
        {
          "name": "stderr",
          "output_type": "stream",
          "text": [
            "100%|██████████| 128/128 [00:04<00:00, 31.25it/s]\n"
          ]
        }
      ],
      "source": [
        "splits = torch.split(data_all_bits, 512, dim=0)\n",
        "resid_mids = []\n",
        "mlp_posts = []\n",
        "\n",
        "model_3.to(device)\n",
        "for batch in tqdm(splits):\n",
        "    with torch.no_grad():\n",
        "        logits_all, cache_all = model_3.run_with_cache(batch.to(device))\n",
        "        resid_mids.append(cache_all[\"resid_mid\", 1].detach().cpu())\n",
        "        mlp_posts.append(cache_all[\"post\", 1, \"mlp\"].detach().cpu())"
      ]
    },
    {
      "cell_type": "code",
      "execution_count": 25,
      "metadata": {
        "colab": {
          "base_uri": "https://localhost:8080/"
        },
        "id": "-_1iJG3a0Gb2",
        "outputId": "69fea974-6f96-4acc-f843-b363d4f10010"
      },
      "outputs": [
        {
          "data": {
            "text/plain": [
              "128"
            ]
          },
          "execution_count": 25,
          "metadata": {},
          "output_type": "execute_result"
        }
      ],
      "source": [
        "resid_mids[0].shape\n",
        "mlp_posts[0].shape\n",
        "len(resid_mids)\n",
        "len(mlp_posts)"
      ]
    },
    {
      "cell_type": "code",
      "execution_count": 26,
      "metadata": {
        "id": "vpxc7Rfp_25s"
      },
      "outputs": [
        {
          "data": {
            "text/plain": [
              "torch.Size([65536, 16, 512])"
            ]
          },
          "execution_count": 26,
          "metadata": {},
          "output_type": "execute_result"
        }
      ],
      "source": [
        "resids = torch.concatenate(resid_mids, dim=0)\n",
        "concat_mlp_posts = torch.concatenate(mlp_posts, dim=0)\n",
        "concat_mlp_posts.shape"
      ]
    },
    {
      "cell_type": "code",
      "execution_count": 27,
      "metadata": {
        "colab": {
          "base_uri": "https://localhost:8080/"
        },
        "id": "eBmk0N5z0MRD",
        "outputId": "d4ec30fc-d696-40f0-9b16-8349b9251e32"
      },
      "outputs": [
        {
          "data": {
            "text/plain": [
              "torch.Size([65536, 128])"
            ]
          },
          "execution_count": 27,
          "metadata": {},
          "output_type": "execute_result"
        }
      ],
      "source": [
        "# Get position 16 in sequence (final token)\n",
        "resid_pos16 = resids[:, 15, :]\n",
        "mlp_pos16 = concat_mlp_posts[:, 15, :]\n",
        "resid_pos16.shape"
      ]
    },
    {
      "cell_type": "code",
      "execution_count": 28,
      "metadata": {
        "colab": {
          "base_uri": "https://localhost:8080/"
        },
        "id": "hxzUlQfaNF6K",
        "outputId": "0492047e-0139-4d2f-e656-7601faadd3a2"
      },
      "outputs": [
        {
          "data": {
            "text/plain": [
              "torch.Size([512])"
            ]
          },
          "execution_count": 28,
          "metadata": {},
          "output_type": "execute_result"
        }
      ],
      "source": [
        "mlp_pos16.mean(dim=0).shape"
      ]
    },
    {
      "cell_type": "code",
      "execution_count": 29,
      "metadata": {
        "id": "uy8LG1M01U8I"
      },
      "outputs": [],
      "source": [
        "def get_pca(tensor):\n",
        "    mean = tensor.mean(dim=0)\n",
        "    nonzero = torch.nonzero(mean).squeeze()\n",
        "    mean = mean[nonzero]\n",
        "    tensor = tensor[:, nonzero]\n",
        "    std = tensor.std(dim=0)\n",
        "    centered_tensor = (tensor - mean) / std\n",
        "    U, S, V = torch.svd(centered_tensor)\n",
        "    return U, S, V\n",
        "\n",
        "def get_vars(singular_vals, truncate_idx=None):\n",
        "    total_var = (singular_vals ** 2).sum()\n",
        "    return torch.cumsum(singular_vals ** 2 / total_var, dim=0)"
      ]
    },
    {
      "cell_type": "code",
      "execution_count": 30,
      "metadata": {
        "colab": {
          "base_uri": "https://localhost:8080/"
        },
        "id": "yqFbaTfh0oWy",
        "outputId": "39150a72-2856-4208-9ac6-e93a15ac28f6"
      },
      "outputs": [
        {
          "data": {
            "text/plain": [
              "torch.Size([451, 451])"
            ]
          },
          "execution_count": 30,
          "metadata": {},
          "output_type": "execute_result"
        }
      ],
      "source": [
        "U, S, V = get_pca(mlp_pos16)\n",
        "get_vars(S)\n",
        "V.shape"
      ]
    },
    {
      "cell_type": "code",
      "execution_count": 31,
      "metadata": {
        "colab": {
          "base_uri": "https://localhost:8080/"
        },
        "id": "TBqWJEgJOGPX",
        "outputId": "6791e481-70ba-43d0-e33c-3f10f748c13e"
      },
      "outputs": [
        {
          "name": "stdout",
          "output_type": "stream",
          "text": [
            "tensor([0.1718, 0.2512, 0.3237, 0.3838, 0.4345, 0.4787, 0.5147, 0.5456, 0.5666,\n",
            "        0.5835, 0.5983, 0.6123, 0.6256, 0.6377, 0.6491, 0.6595, 0.6690, 0.6784,\n",
            "        0.6870, 0.6950, 0.7021, 0.7091, 0.7157, 0.7220, 0.7283, 0.7342, 0.7400,\n",
            "        0.7455, 0.7509, 0.7559, 0.7610, 0.7656, 0.7702, 0.7746, 0.7790, 0.7831,\n",
            "        0.7872, 0.7912, 0.7949, 0.7985, 0.8020, 0.8055, 0.8087, 0.8118, 0.8149,\n",
            "        0.8180, 0.8209, 0.8237, 0.8265, 0.8293, 0.8320, 0.8346, 0.8372, 0.8397,\n",
            "        0.8421, 0.8445, 0.8469, 0.8492, 0.8514, 0.8536, 0.8558, 0.8580, 0.8601,\n",
            "        0.8622, 0.8643, 0.8663, 0.8683, 0.8702, 0.8721, 0.8740, 0.8759, 0.8777,\n",
            "        0.8794, 0.8812, 0.8830, 0.8846, 0.8863, 0.8880, 0.8896, 0.8912, 0.8928,\n",
            "        0.8944, 0.8959, 0.8974, 0.8989, 0.9003, 0.9017, 0.9031, 0.9044, 0.9058,\n",
            "        0.9071, 0.9084, 0.9097, 0.9110, 0.9122, 0.9135, 0.9147, 0.9159, 0.9171,\n",
            "        0.9183, 0.9194, 0.9206, 0.9217, 0.9228, 0.9238, 0.9249, 0.9259, 0.9270,\n",
            "        0.9280, 0.9290, 0.9300, 0.9310, 0.9320, 0.9329, 0.9339, 0.9348, 0.9357,\n",
            "        0.9366, 0.9375, 0.9383, 0.9392, 0.9400, 0.9408, 0.9416, 0.9424, 0.9432,\n",
            "        0.9440, 0.9448])\n"
          ]
        }
      ],
      "source": [
        "print(get_vars(S)[:128])"
      ]
    },
    {
      "cell_type": "code",
      "execution_count": 32,
      "metadata": {
        "id": "1_qMPqtm1R6k"
      },
      "outputs": [],
      "source": [
        "#resid_reduced = centered_resids @ V[:, :64]\n",
        "mean = mlp_pos16.mean(dim=0)\n",
        "nonzero = torch.nonzero(mean).squeeze()\n",
        "mlp_reduced = mlp_pos16[:, nonzero] @ V[:, :128]"
      ]
    },
    {
      "cell_type": "code",
      "execution_count": 33,
      "metadata": {
        "colab": {
          "base_uri": "https://localhost:8080/"
        },
        "id": "BN12y3Lm2a-9",
        "outputId": "d288d8d1-f112-46e7-d2f5-2b1c5b971f43"
      },
      "outputs": [
        {
          "name": "stdout",
          "output_type": "stream",
          "text": [
            "torch.Size([65536])\n"
          ]
        }
      ],
      "source": [
        "labels = all_labels[15, :]\n",
        "print(labels.shape)"
      ]
    },
    {
      "cell_type": "code",
      "execution_count": 34,
      "metadata": {
        "id": "a_iMAD1u2u38"
      },
      "outputs": [],
      "source": [
        "import einops\n",
        "import polars as pl\n",
        "\n",
        "label_df = pl.DataFrame(labels.detach().cpu().numpy(), schema=['label'])\n",
        "#resid_df = pl.DataFrame(resid_reduced.detach().cpu().numpy(), schema=[str(i) for i in range(resid_reduced.shape[1])])"
      ]
    },
    {
      "cell_type": "code",
      "execution_count": 35,
      "metadata": {
        "id": "ZV_7SPcLEqHO"
      },
      "outputs": [],
      "source": [
        "mlp_posts_df = pl.DataFrame(mlp_reduced.detach().cpu().numpy(), schema=[str(i) for i in range(mlp_reduced.shape[1])])\n",
        "mlp_posts_df = pl.concat([label_df, mlp_posts_df], how='horizontal')"
      ]
    },
    {
      "cell_type": "code",
      "execution_count": 36,
      "metadata": {
        "id": "KQ-fa5UV4wkw"
      },
      "outputs": [],
      "source": [
        "#resids_df = pl.concat([label_df, resid_df], how='horizontal')"
      ]
    },
    {
      "cell_type": "code",
      "execution_count": 37,
      "metadata": {
        "id": "w20xPQsS48_S"
      },
      "outputs": [],
      "source": [
        "from plotnine import ggplot, aes, geom_histogram, geom_point, facet_wrap\n",
        "\n",
        "#df = resids_df.melt(id_vars='label')\n",
        "\n",
        "#ggplot(df.filter(pl.col('variable').is_in(['0', '1', '2', '3'])), aes(x='value', fill='factor(label)')) + geom_histogram() + facet_wrap('~variable')\n",
        "#ggplot(resids_df, aes(x='12', fill='factor(label)')) + geom_histogram()"
      ]
    },
    {
      "cell_type": "code",
      "execution_count": 38,
      "metadata": {
        "colab": {
          "base_uri": "https://localhost:8080/",
          "height": 515
        },
        "id": "KkqofJi9E5Z-",
        "outputId": "4586fce6-9c15-4ad6-a150-7f87ab6b3b7c"
      },
      "outputs": [
        {
          "data": {
            "image/png": "[encoded data removed]"
          },
          "metadata": {
            "image/png": {
              "height": 480,
              "width": 640
            }
          },
          "output_type": "display_data"
        }
      ],
      "source": [
        "from plotnine import scale_x_log10\n",
        "\n",
        "ggplot(mlp_posts_df, aes(x='0', y='2', color='factor(label)')) + geom_point() + facet_wrap('~label')"
      ]
    },
    {
      "cell_type": "code",
      "execution_count": 39,
      "metadata": {
        "colab": {
          "base_uri": "https://localhost:8080/",
          "height": 118
        },
        "id": "aGGeeLLQGcwK",
        "outputId": "a1753685-da32-4468-b10c-fbb3f10ab27e"
      },
      "outputs": [
        {
          "data": {
            "text/html": [
              "<div><style>\n",
              ".dataframe > thead > tr,\n",
              ".dataframe > tbody > tr {\n",
              "  text-align: right;\n",
              "  white-space: pre-wrap;\n",
              "}\n",
              "</style>\n",
              "<small>shape: (0, 129)</small><table border=\"1\" class=\"dataframe\"><thead><tr><th>label</th><th>0</th><th>1</th><th>2</th><th>3</th><th>4</th><th>5</th><th>6</th><th>7</th><th>8</th><th>9</th><th>10</th><th>11</th><th>12</th><th>13</th><th>14</th><th>15</th><th>16</th><th>17</th><th>18</th><th>19</th><th>20</th><th>21</th><th>22</th><th>23</th><th>24</th><th>25</th><th>26</th><th>27</th><th>28</th><th>29</th><th>30</th><th>31</th><th>32</th><th>33</th><th>34</th><th>35</th><th>&hellip;</th><th>91</th><th>92</th><th>93</th><th>94</th><th>95</th><th>96</th><th>97</th><th>98</th><th>99</th><th>100</th><th>101</th><th>102</th><th>103</th><th>104</th><th>105</th><th>106</th><th>107</th><th>108</th><th>109</th><th>110</th><th>111</th><th>112</th><th>113</th><th>114</th><th>115</th><th>116</th><th>117</th><th>118</th><th>119</th><th>120</th><th>121</th><th>122</th><th>123</th><th>124</th><th>125</th><th>126</th><th>127</th></tr><tr><td>i32</td><td>f32</td><td>f32</td><td>f32</td><td>f32</td><td>f32</td><td>f32</td><td>f32</td><td>f32</td><td>f32</td><td>f32</td><td>f32</td><td>f32</td><td>f32</td><td>f32</td><td>f32</td><td>f32</td><td>f32</td><td>f32</td><td>f32</td><td>f32</td><td>f32</td><td>f32</td><td>f32</td><td>f32</td><td>f32</td><td>f32</td><td>f32</td><td>f32</td><td>f32</td><td>f32</td><td>f32</td><td>f32</td><td>f32</td><td>f32</td><td>f32</td><td>f32</td><td>&hellip;</td><td>f32</td><td>f32</td><td>f32</td><td>f32</td><td>f32</td><td>f32</td><td>f32</td><td>f32</td><td>f32</td><td>f32</td><td>f32</td><td>f32</td><td>f32</td><td>f32</td><td>f32</td><td>f32</td><td>f32</td><td>f32</td><td>f32</td><td>f32</td><td>f32</td><td>f32</td><td>f32</td><td>f32</td><td>f32</td><td>f32</td><td>f32</td><td>f32</td><td>f32</td><td>f32</td><td>f32</td><td>f32</td><td>f32</td><td>f32</td><td>f32</td><td>f32</td><td>f32</td></tr></thead><tbody></tbody></table></div>"
            ],
            "text/plain": [
              "shape: (0, 129)\n",
              "┌───────┬─────┬─────┬─────┬───┬─────┬─────┬─────┬─────┐\n",
              "│ label ┆ 0   ┆ 1   ┆ 2   ┆ … ┆ 124 ┆ 125 ┆ 126 ┆ 127 │\n",
              "│ ---   ┆ --- ┆ --- ┆ --- ┆   ┆ --- ┆ --- ┆ --- ┆ --- │\n",
              "│ i32   ┆ f32 ┆ f32 ┆ f32 ┆   ┆ f32 ┆ f32 ┆ f32 ┆ f32 │\n",
              "╞═══════╪═════╪═════╪═════╪═══╪═════╪═════╪═════╪═════╡\n",
              "└───────┴─────┴─────┴─────┴───┴─────┴─────┴─────┴─────┘"
            ]
          },
          "execution_count": 39,
          "metadata": {},
          "output_type": "execute_result"
        }
      ],
      "source": [
        "mlp_posts_df.filter(pl.col('0') < -100)"
      ]
    },
    {
      "cell_type": "markdown",
      "metadata": {
        "id": "APfZek53UhNs"
      },
      "source": [
        "# Trial inputs"
      ]
    },
    {
      "cell_type": "code",
      "execution_count": 40,
      "metadata": {
        "colab": {
          "base_uri": "https://localhost:8080/"
        },
        "id": "6BCQVv9rUrDl",
        "outputId": "47dd05c5-9465-4155-bbd0-6704250055ee"
      },
      "outputs": [
        {
          "name": "stdout",
          "output_type": "stream",
          "text": [
            "tensor([1, 2, 3, 4, 0, 1, 2, 3, 4, 0, 1, 2, 3, 4, 0, 1, 2, 3, 4, 0, 1, 2, 3, 4,\n",
            "        0])\n",
            "tensor([5, 0, 5, 0, 5, 0, 5, 0, 5, 0, 5, 0, 5, 0, 5, 0, 5, 0, 5, 0, 5, 0, 5, 0,\n",
            "        0], dtype=torch.int32)\n"
          ]
        }
      ],
      "source": [
        "all_1 = torch.ones((25), dtype=torch.int32)\n",
        "all_0 = torch.zeros((25), dtype=torch.int32)\n",
        "all_1_label = (torch.cumsum(all_1, dim=0)) % 5\n",
        "all_0_label = torch.tensor([5,0]*12+[0], dtype=torch.int32)\n",
        "print(all_1_label)\n",
        "print(all_0_label)"
      ]
    },
    {
      "cell_type": "code",
      "execution_count": 41,
      "metadata": {
        "colab": {
          "base_uri": "https://localhost:8080/"
        },
        "id": "HQJGcnXxUtK0",
        "outputId": "048ca0ec-e77c-4cee-804b-8d9974f5d3e9"
      },
      "outputs": [
        {
          "name": "stdout",
          "output_type": "stream",
          "text": [
            "tensor([0, 0, 0, 0, 0, 0, 0, 0, 1, 0, 0, 0, 0, 0, 0, 0, 0, 0, 0, 0, 0, 0, 0, 0,\n",
            "        0], dtype=torch.int32)\n",
            "tensor([[1, 2, 3, 4, 0, 1, 2, 3, 4, 0, 1, 6, 5, 0, 8, 7, 7, 7, 5, 7, 2, 5, 2, 2,\n",
            "         2]], device='mps:0')\n",
            "tensor([[5, 0, 5, 0, 5, 0, 5, 0, 5, 0, 5, 0, 5, 0, 5, 0, 5, 0, 5, 0, 5, 5, 5, 5,\n",
            "         5]], device='mps:0')\n"
          ]
        }
      ],
      "source": [
        "# All zeros except a single one at one position\n",
        "test = deepcopy(all_0)\n",
        "test[8] = 1\n",
        "print(test)\n",
        "\n",
        "# All ones except a single zero at one position\n",
        "test_2 = deepcopy(all_1)\n",
        "test_2[8] = 0\n",
        "\n",
        "\n",
        "l_all_1, cache_all_1 = model_3.run_with_cache(all_1)\n",
        "print(torch.argmax(l_all_1, dim=-1))\n",
        "l_all_0, cache_all_0 = model_3.run_with_cache(all_0)\n",
        "print(torch.argmax(l_all_0, dim=-1))\n",
        "\n",
        "_, test_cache = model_3.run_with_cache(test)\n",
        "_, test_2_cache = model_3.run_with_cache(test_2)\n",
        "\n",
        "_, test_cache_0 = model_0.run_with_cache(test)"
      ]
    },
    {
      "cell_type": "markdown",
      "metadata": {
        "id": "Bagm4_EmBila"
      },
      "source": [
        "## First layer attention"
      ]
    },
    {
      "cell_type": "markdown",
      "metadata": {
        "id": "dSoCu74k9X8t"
      },
      "source": [
        "This is a 5-state, 2-layer, 2-head transformer trained to 80% accuracy."
      ]
    },
    {
      "cell_type": "code",
      "execution_count": 42,
      "metadata": {
        "id": "bffQ9LvZU_cP"
      },
      "outputs": [],
      "source": [
        "IDX = 8"
      ]
    },
    {
      "cell_type": "code",
      "execution_count": 47,
      "metadata": {
        "colab": {
          "base_uri": "https://localhost:8080/",
          "height": 812
        },
        "id": "BmaqKeCt_qDn",
        "outputId": "3a6b4a18-2a2f-4b18-8ff1-f32f103dff1b"
      },
      "outputs": [
        {
          "data": {
            "text/html": [
              "<div id=\"circuits-vis-0a14597a-3484\" style=\"margin: 15px 0;\"/>\n",
              "    <script crossorigin type=\"module\">\n",
              "    import { render, AttentionPatterns } from \"https://unpkg.com/circuitsvis@1.41.0/dist/cdn/esm.js\";\n",
              "    render(\n",
              "      \"circuits-vis-0a14597a-3484\",\n",
              "      AttentionPatterns,\n",
              "      {\"tokens\": [\"0\", \"1\", \"0\", \"1\", \"0\", \"0\", \"1\", \"1\", \"0\", \"1\", \"0\", \"1\", \"1\", \"0\", \"1\", \"0\", \"0\", \"0\", \"0\", \"1\", \"0\", \"0\", \"1\", \"0\", \"1\"], \"attention\": [[[1.0, 0.0, 0.0, 0.0, 0.0, 0.0, 0.0, 0.0, 0.0, 0.0, 0.0, 0.0, 0.0, 0.0, 0.0, 0.0, 0.0, 0.0, 0.0, 0.0, 0.0, 0.0, 0.0, 0.0, 0.0], [0.0014818082563579082, 0.998518168926239, 0.0, 0.0, 0.0, 0.0, 0.0, 0.0, 0.0, 0.0, 0.0, 0.0, 0.0, 0.0, 0.0, 0.0, 0.0, 0.0, 0.0, 0.0, 0.0, 0.0, 0.0, 0.0, 0.0], [0.22395512461662292, 0.00014806828403379768, 0.7758967876434326, 0.0, 0.0, 0.0, 0.0, 0.0, 0.0, 0.0, 0.0, 0.0, 0.0, 0.0, 0.0, 0.0, 0.0, 0.0, 0.0, 0.0, 0.0, 0.0, 0.0, 0.0, 0.0], [0.641728401184082, 0.06345970928668976, 0.0037605089601129293, 0.2910514175891876, 0.0, 0.0, 0.0, 0.0, 0.0, 0.0, 0.0, 0.0, 0.0, 0.0, 0.0, 0.0, 0.0, 0.0, 0.0, 0.0, 0.0, 0.0, 0.0, 0.0, 0.0], [0.02010423317551613, 3.300206662970595e-05, 0.9121084809303284, 0.00958919059485197, 0.058165065944194794, 0.0, 0.0, 0.0, 0.0, 0.0, 0.0, 0.0, 0.0, 0.0, 0.0, 0.0, 0.0, 0.0, 0.0, 0.0, 0.0, 0.0, 0.0, 0.0, 0.0], [0.6361539363861084, 0.0014292736304923892, 0.005138963460922241, 0.012168453074991703, 0.055865008383989334, 0.28924429416656494, 0.0, 0.0, 0.0, 0.0, 0.0, 0.0, 0.0, 0.0, 0.0, 0.0, 0.0, 0.0, 0.0, 0.0, 0.0, 0.0, 0.0, 0.0, 0.0], [0.002345917047932744, 0.02710801176726818, 0.009050236083567142, 0.5535127520561218, 0.04046344757080078, 0.35096246004104614, 0.01655721291899681, 0.0, 0.0, 0.0, 0.0, 0.0, 0.0, 0.0, 0.0, 0.0, 0.0, 0.0, 0.0, 0.0, 0.0, 0.0, 0.0, 0.0, 0.0], [0.015498596243560314, 0.014555290341377258, 0.0010084639070555568, 0.09587635099887848, 0.09992992132902145, 0.4824506640434265, 0.012919305823743343, 0.27776145935058594, 0.0, 0.0, 0.0, 0.0, 0.0, 0.0, 0.0, 0.0, 0.0, 0.0, 0.0, 0.0, 0.0, 0.0, 0.0, 0.0, 0.0], [0.05904528126120567, 0.0007717900443822145, 0.07336799055337906, 0.11480692028999329, 0.019123230129480362, 0.27837592363357544, 0.04994102194905281, 0.3663102090358734, 0.03825759515166283, 0.0, 0.0, 0.0, 0.0, 0.0, 0.0, 0.0, 0.0, 0.0, 0.0, 0.0, 0.0, 0.0, 0.0, 0.0, 0.0], [0.005218401551246643, 0.033854980021715164, 0.0006332707707770169, 0.1714889407157898, 0.05181953310966492, 0.35853567719459534, 0.018646685406565666, 0.18251822888851166, 0.10657045990228653, 0.07071386277675629, 0.0, 0.0, 0.0, 0.0, 0.0, 0.0, 0.0, 0.0, 0.0, 0.0, 0.0, 0.0, 0.0, 0.0, 0.0], [0.06234059855341911, 0.0002507612807676196, 0.11455900222063065, 0.06468384712934494, 0.025464633479714394, 0.18120647966861725, 0.04001140967011452, 0.2234553098678589, 0.05278685688972473, 0.20968903601169586, 0.02555203251540661, 0.0, 0.0, 0.0, 0.0, 0.0, 0.0, 0.0, 0.0, 0.0, 0.0, 0.0, 0.0, 0.0, 0.0], [0.007528580259531736, 0.031040865927934647, 0.001823516096919775, 0.20478877425193787, 0.06193536892533302, 0.22195972502231598, 0.007109096273779869, 0.10455068200826645, 0.18674111366271973, 0.1466343253850937, 0.021057140082120895, 0.004830777179449797, 0.0, 0.0, 0.0, 0.0, 0.0, 0.0, 0.0, 0.0, 0.0, 0.0, 0.0, 0.0, 0.0], [0.001577170449309051, 0.028884725645184517, 0.0015364696737378836, 0.21519407629966736, 0.03586374595761299, 0.38041871786117554, 0.00489683635532856, 0.1440637707710266, 0.07954386621713638, 0.039294950664043427, 0.012213614769279957, 0.005892171524465084, 0.05061985179781914, 0.0, 0.0, 0.0, 0.0, 0.0, 0.0, 0.0, 0.0, 0.0, 0.0, 0.0, 0.0], [0.059324610978364944, 0.0008261027978733182, 0.031146332621574402, 0.0333888866007328, 0.012527953833341599, 0.08769912272691727, 0.08731917291879654, 0.16504332423210144, 0.034890830516815186, 0.3661564290523529, 0.0227141622453928, 0.02508518658578396, 0.06987577676773071, 0.004002131521701813, 0.0, 0.0, 0.0, 0.0, 0.0, 0.0, 0.0, 0.0, 0.0, 0.0, 0.0], [0.002866544062271714, 0.014752212911844254, 0.0022271040361374617, 0.20619025826454163, 0.058189764618873596, 0.2897420823574066, 0.01002333965152502, 0.16453002393245697, 0.03926246985793114, 0.04813544824719429, 0.019383056089282036, 0.007608646992594004, 0.09421481937170029, 0.009364073164761066, 0.03351018950343132, 0.0, 0.0, 0.0, 0.0, 0.0, 0.0, 0.0, 0.0, 0.0, 0.0], [0.15033096075057983, 0.0015042673330754042, 0.0068672834895551205, 0.023089297115802765, 0.027656378224492073, 0.12594595551490784, 0.057448990643024445, 0.14039170742034912, 0.05072960630059242, 0.14965994656085968, 0.01521705649793148, 0.022137848660349846, 0.07103096693754196, 0.01042542140930891, 0.024572381749749184, 0.12299191206693649, 0.0, 0.0, 0.0, 0.0, 0.0, 0.0, 0.0, 0.0, 0.0], [0.09571649134159088, 0.0013704131124541163, 0.02145007811486721, 0.02677696757018566, 0.02166770026087761, 0.1116674616932869, 0.02920350804924965, 0.05871109291911125, 0.047036509960889816, 0.16960911452770233, 0.035653647035360336, 0.01916397362947464, 0.1288067251443863, 0.011585547588765621, 0.027026940137147903, 0.07850241661071777, 0.11605135351419449, 0.0, 0.0, 0.0, 0.0, 0.0, 0.0, 0.0, 0.0], [0.12187735736370087, 0.0007294429815374315, 0.02405931055545807, 0.017077215015888214, 0.03024832159280777, 0.081130750477314, 0.08281157165765762, 0.09700935333967209, 0.08051775395870209, 0.1041201502084732, 0.02032208815217018, 0.012674347497522831, 0.08107425272464752, 0.009120084345340729, 0.043201420456171036, 0.08255533874034882, 0.10010089725255966, 0.011370379477739334, 0.0, 0.0, 0.0, 0.0, 0.0, 0.0, 0.0], [0.036793120205402374, 0.0013644216815009713, 0.058924779295921326, 0.04215894639492035, 0.01966039091348648, 0.16711077094078064, 0.06568100303411484, 0.1141170933842659, 0.058281585574150085, 0.08629968017339706, 0.026054056361317635, 0.023834440857172012, 0.051947612315416336, 0.014873368665575981, 0.03904889523983002, 0.0751958116889, 0.07118065655231476, 0.01549096591770649, 0.03198235481977463, 0.0, 0.0, 0.0, 0.0, 0.0, 0.0], [0.001968716038390994, 0.030547983944416046, 0.00142923672683537, 0.10795716941356659, 0.03458908572793007, 0.25006479024887085, 0.014692752622067928, 0.0867401510477066, 0.020726347342133522, 0.03137931600213051, 0.005004556383937597, 0.015585902146995068, 0.04294952005147934, 0.010746126994490623, 0.02615959942340851, 0.11177653819322586, 0.0881754532456398, 0.014559892006218433, 0.025428609922528267, 0.07951825112104416, 0.0, 0.0, 0.0, 0.0, 0.0], [0.11963140964508057, 0.0002514927473384887, 0.05665199086070061, 0.02402356080710888, 0.013985331170260906, 0.1630406230688095, 0.033694036304950714, 0.12558214366436005, 0.039561208337545395, 0.08233500272035599, 0.015211929567158222, 0.008536138571798801, 0.07643266767263412, 0.007163203787058592, 0.03779860585927963, 0.04526504874229431, 0.09993107616901398, 0.013969631865620613, 0.014204745180904865, 0.00428016809746623, 0.01844990998506546, 0.0, 0.0, 0.0, 0.0], [0.10477282106876373, 0.0008240162278525531, 0.02414340153336525, 0.018402958288788795, 0.02588602527976036, 0.08135619014501572, 0.046815983951091766, 0.10466750711202621, 0.050976742058992386, 0.11422302573919296, 0.009340899996459484, 0.01585831120610237, 0.0650823786854744, 0.008104999549686909, 0.014037390239536762, 0.08190300315618515, 0.14024211466312408, 0.0027037574909627438, 0.014610819518566132, 0.005848371889442205, 0.05604817718267441, 0.014151137322187424, 0.0, 0.0, 0.0], [0.0011547872563824058, 0.006468478590250015, 0.0009788665920495987, 0.07653594017028809, 0.013183305971324444, 0.16996726393699646, 0.0065306369215250015, 0.09263777732849121, 0.05041612684726715, 0.04729277640581131, 0.01140625774860382, 0.0025203023105859756, 0.025855792686343193, 0.003934703767299652, 0.03210460767149925, 0.0894114151597023, 0.10910797864198685, 0.007200206164270639, 0.003807835280895233, 0.05440328270196915, 0.06972089409828186, 0.10906090587377548, 0.01629982516169548, 0.0, 0.0], [0.08909288048744202, 0.0006208113045431674, 0.06580297648906708, 0.015832234174013138, 0.014029853977262974, 0.07348889112472534, 0.028148451820015907, 0.12158533930778503, 0.0246913842856884, 0.1292950063943863, 0.014749948866665363, 0.022746117785573006, 0.05526265874505043, 0.006293728481978178, 0.04265940561890602, 0.05628962814807892, 0.05703708902001381, 0.014584301970899105, 0.01771104522049427, 0.013964525423943996, 0.03891020268201828, 0.020467424765229225, 0.040803756564855576, 0.035932306200265884, 0.0], [0.005908404942601919, 0.006766216829419136, 0.0022736964747309685, 0.05702463537454605, 0.019340304657816887, 0.21245445311069489, 0.004755593370646238, 0.07056112587451935, 0.04744577780365944, 0.07495082169771194, 0.007735042832791805, 0.004942861385643482, 0.058272555470466614, 0.0063975658267736435, 0.019305843859910965, 0.05143077298998833, 0.11075286567211151, 0.006893792189657688, 0.010200348682701588, 0.047078393399715424, 0.07509423047304153, 0.03033985197544098, 0.01778377778828144, 0.010368112474679947, 0.0419229157269001]], [[1.0, 0.0, 0.0, 0.0, 0.0, 0.0, 0.0, 0.0, 0.0, 0.0, 0.0, 0.0, 0.0, 0.0, 0.0, 0.0, 0.0, 0.0, 0.0, 0.0, 0.0, 0.0, 0.0, 0.0, 0.0], [0.00015005985915195197, 0.9998499155044556, 0.0, 0.0, 0.0, 0.0, 0.0, 0.0, 0.0, 0.0, 0.0, 0.0, 0.0, 0.0, 0.0, 0.0, 0.0, 0.0, 0.0, 0.0, 0.0, 0.0, 0.0, 0.0, 0.0], [1.0602745533105917e-05, 0.990009605884552, 0.009979760274291039, 0.0, 0.0, 0.0, 0.0, 0.0, 0.0, 0.0, 0.0, 0.0, 0.0, 0.0, 0.0, 0.0, 0.0, 0.0, 0.0, 0.0, 0.0, 0.0, 0.0, 0.0, 0.0], [7.747719791950658e-06, 0.02464970573782921, 0.003923248965293169, 0.9714193344116211, 0.0, 0.0, 0.0, 0.0, 0.0, 0.0, 0.0, 0.0, 0.0, 0.0, 0.0, 0.0, 0.0, 0.0, 0.0, 0.0, 0.0, 0.0, 0.0, 0.0, 0.0], [9.558255442243535e-06, 0.021433591842651367, 0.00334337679669261, 0.9749088287353516, 0.00030458474066108465, 0.0, 0.0, 0.0, 0.0, 0.0, 0.0, 0.0, 0.0, 0.0, 0.0, 0.0, 0.0, 0.0, 0.0, 0.0, 0.0, 0.0, 0.0, 0.0, 0.0], [1.1147719192194927e-07, 0.05910618230700493, 0.0005617951974272728, 0.9252815246582031, 7.0800388130010106e-06, 0.015043267980217934, 0.0, 0.0, 0.0, 0.0, 0.0, 0.0, 0.0, 0.0, 0.0, 0.0, 0.0, 0.0, 0.0, 0.0, 0.0, 0.0, 0.0, 0.0, 0.0], [1.6300586139550433e-05, 0.0003074084816034883, 0.000446233490947634, 0.02987883985042572, 2.213408333773259e-05, 0.028036614879965782, 0.941292405128479, 0.0, 0.0, 0.0, 0.0, 0.0, 0.0, 0.0, 0.0, 0.0, 0.0, 0.0, 0.0, 0.0, 0.0, 0.0, 0.0, 0.0, 0.0], [3.547525295743981e-08, 9.93442881735973e-05, 2.0725918147945777e-05, 0.007446293719112873, 1.7005254449031781e-07, 0.0004942583618685603, 0.8752534985542297, 0.1166856437921524, 0.0, 0.0, 0.0, 0.0, 0.0, 0.0, 0.0, 0.0, 0.0, 0.0, 0.0, 0.0, 0.0, 0.0, 0.0, 0.0, 0.0], [3.1125484412086735e-08, 0.0002579667780082673, 1.7385089449817315e-05, 0.006759003270417452, 3.232082690374227e-07, 0.000382556434487924, 0.1653318554162979, 0.8272501230239868, 7.439928708663501e-07, 0.0, 0.0, 0.0, 0.0, 0.0, 0.0, 0.0, 0.0, 0.0, 0.0, 0.0, 0.0, 0.0, 0.0, 0.0, 0.0], [1.2162078633082274e-07, 0.000301506370306015, 9.110927203437313e-05, 0.0405825674533844, 8.438316285719338e-07, 0.003978156019002199, 0.512281596660614, 0.4021480977535248, 7.888129402999766e-07, 0.04061520844697952, 0.0, 0.0, 0.0, 0.0, 0.0, 0.0, 0.0, 0.0, 0.0, 0.0, 0.0, 0.0, 0.0, 0.0, 0.0], [4.464009961679949e-08, 0.0009762297268025577, 1.7527849195175804e-05, 0.014511965215206146, 7.186102379819204e-07, 0.0005181652377359569, 0.1832290142774582, 0.667461097240448, 1.0034021897808998e-06, 0.1332816630601883, 2.5513731998216826e-06, 0.0, 0.0, 0.0, 0.0, 0.0, 0.0, 0.0, 0.0, 0.0, 0.0, 0.0, 0.0, 0.0, 0.0], [4.616448379124449e-08, 0.00017895485507324338, 3.400712739676237e-05, 0.02094118669629097, 2.529461369249475e-07, 0.000917468627449125, 0.6707839965820312, 0.17813493311405182, 1.0000755423789087e-07, 0.03194800764322281, 1.9557101040845737e-06, 0.09705907106399536, 0.0, 0.0, 0.0, 0.0, 0.0, 0.0, 0.0, 0.0, 0.0, 0.0, 0.0, 0.0, 0.0], [2.0793392252471676e-07, 5.364147727959789e-05, 4.405960498843342e-05, 0.012355471961200237, 1.8733750266619609e-06, 0.005092522129416466, 0.1955716907978058, 0.07876305282115936, 2.0472868982324144e-06, 0.02858792431652546, 2.903978611357161e-06, 0.024025535210967064, 0.6554991006851196, 0.0, 0.0, 0.0, 0.0, 0.0, 0.0, 0.0, 0.0, 0.0, 0.0, 0.0, 0.0], [4.842577450148156e-10, 0.0009681924129836261, 4.605396043189103e-06, 0.008907540701329708, 4.4841957702601576e-08, 6.010204378981143e-05, 0.5620000958442688, 0.05283508449792862, 4.654251029023726e-08, 0.044792938977479935, 6.636960847572482e-07, 0.07776422053575516, 0.2526664137840271, 7.67629604325748e-09, 0.0, 0.0, 0.0, 0.0, 0.0, 0.0, 0.0, 0.0, 0.0, 0.0, 0.0], [1.2211148714413866e-07, 7.645627920283005e-05, 3.6698049370897934e-05, 0.004541644360870123, 9.489853027844219e-07, 0.0009615536546334624, 0.047420684248209, 0.031393956393003464, 5.939142511124373e-07, 0.011083279736340046, 2.6618151878210483e-06, 0.015313140116631985, 0.22785364091396332, 6.522650863871604e-08, 0.6613144874572754, 0.0, 0.0, 0.0, 0.0, 0.0, 0.0, 0.0, 0.0, 0.0, 0.0], [1.1030077295970386e-08, 0.0004242578288540244, 2.269401193188969e-05, 0.004083494655787945, 2.807844339258736e-07, 0.0002642468025442213, 0.12472778558731079, 0.13072070479393005, 4.6788238705630647e-07, 0.012331128120422363, 2.0497298010013765e-06, 0.0365433506667614, 0.22107189893722534, 1.1912666053603971e-07, 0.46980738639831543, 1.0225753754866673e-07, 0.0, 0.0, 0.0, 0.0, 0.0, 0.0, 0.0, 0.0, 0.0], [1.8583126148996598e-09, 0.0001800849277060479, 6.230448434507707e-06, 0.0037096375599503517, 1.554933675151915e-07, 0.00013366946950554848, 0.029151523485779762, 0.060689933598041534, 5.012165047446615e-07, 0.0190687645226717, 6.068677294024383e-07, 0.012029442936182022, 0.15404663980007172, 7.485530417739028e-09, 0.7209827899932861, 9.234848441508348e-09, 4.892092775321544e-08, 0.0, 0.0, 0.0, 0.0, 0.0, 0.0, 0.0, 0.0], [3.166536755028204e-10, 0.0004099631041754037, 2.266773662995547e-06, 0.004293092060834169, 2.0285307655854012e-08, 3.0083292585914023e-05, 0.20207855105400085, 0.039909858256578445, 1.773032032303945e-08, 0.024420617148280144, 3.459073525391432e-07, 0.05491165444254875, 0.2462528496980667, 3.6933907043845693e-09, 0.4276905953884125, 3.063961306892793e-09, 8.67167937457225e-09, 3.3914783870159226e-08, 0.0, 0.0, 0.0, 0.0, 0.0, 0.0, 0.0], [2.355538653020517e-09, 0.00014066793664824218, 3.150843895127764e-06, 0.002648257417604327, 9.262176803304101e-08, 7.082962110871449e-05, 0.0734015628695488, 0.06515054404735565, 1.4173261320138408e-07, 0.01670955866575241, 7.292447889994946e-07, 0.023669933900237083, 0.1683211475610733, 6.16981976619968e-09, 0.6498830914497375, 6.759117265886516e-09, 2.985529334864623e-08, 5.64012658799129e-08, 1.8344798036196153e-07, 0.0, 0.0, 0.0, 0.0, 0.0, 0.0], [3.600620246402286e-08, 0.00013887282693758607, 1.1956256457779091e-05, 0.005619647912681103, 5.586206270891125e-07, 0.0005231706891208887, 0.06455960869789124, 0.04670024290680885, 1.5485787230318238e-07, 0.00808642152696848, 1.5289799648599e-06, 0.033732280135154724, 0.26829689741134644, 9.035519354938515e-08, 0.5584965944290161, 6.780395551686524e-07, 5.751012395194266e-07, 6.387110715877498e-07, 9.33030207761476e-07, 0.013829052448272705, 0.0, 0.0, 0.0, 0.0, 0.0], [4.3085907064366324e-10, 0.00012166403757873923, 4.989571607438847e-06, 0.0018745302222669125, 8.085152103376458e-08, 0.0001171723342849873, 0.06300346553325653, 0.09813480079174042, 1.3491860784142773e-07, 0.03246315196156502, 2.252303943350853e-07, 0.029683120548725128, 0.5025031566619873, 1.3683803423703012e-08, 0.24839651584625244, 6.030334898099454e-09, 7.423039960485767e-08, 2.1788967075053733e-08, 1.8427387260544492e-07, 0.02369667962193489, 8.126028205879265e-08, 0.0, 0.0, 0.0, 0.0], [6.812096664532419e-09, 0.0006406292086467147, 1.816253461583983e-05, 0.007595777977257967, 1.9427625375101343e-07, 0.0002924772852566093, 0.10485509037971497, 0.1295078992843628, 1.9152767549712735e-07, 0.01254994049668312, 1.322226694355777e-06, 0.09145509451627731, 0.30379390716552734, 8.973245968491028e-08, 0.3318217396736145, 7.315896510817765e-08, 9.48099909692246e-08, 6.094182936067227e-07, 5.807793854728516e-07, 0.0174650177359581, 7.836443955966388e-07, 3.645498622972809e-07, 0.0, 0.0, 0.0], [1.2248393410629888e-08, 1.9096978576271795e-05, 1.3468302313413005e-06, 0.002799559384584427, 4.3414388528617565e-08, 0.0001983454858418554, 0.04466433450579643, 0.025997577235102654, 3.9214299363266036e-08, 0.008100073784589767, 1.3857180647391942e-07, 0.006971296388655901, 0.13621406257152557, 1.7166514876265637e-09, 0.5487401485443115, 1.7012705910701698e-08, 3.170290696630218e-08, 8.740698831388727e-08, 6.304238553411778e-08, 0.004904713947325945, 1.5794053354056814e-07, 6.001369712294036e-08, 0.2213888168334961, 0.0, 0.0], [1.2925648995576466e-08, 0.0004729149804916233, 3.3088902000599774e-06, 0.0026723062619566917, 1.86461846851671e-07, 0.0001879476913018152, 0.11793966591358185, 0.03894418850541115, 3.632495406691305e-07, 0.021646248176693916, 7.677052735743928e-07, 0.0244678296148777, 0.15304431319236755, 5.8401788294304424e-08, 0.3404395580291748, 2.012472677392907e-08, 7.314238104072501e-08, 3.670224941743072e-07, 7.81908283897792e-07, 0.009787187911570072, 2.2933600973829016e-07, 8.954945229788791e-08, 0.29039105772972107, 4.994657842871675e-07, 0.0], [1.0054111498902785e-07, 5.469775715027936e-05, 3.8515081541845575e-05, 0.0024495080579072237, 1.5266255104506854e-06, 0.0013044577790424228, 0.06505157053470612, 0.0392303466796875, 1.576114982526633e-06, 0.0064744832925498486, 1.9239348603150574e-06, 0.012093654833734035, 0.11657959222793579, 1.0660352955937924e-07, 0.4352584779262543, 9.298670988755475e-07, 1.8654761788639007e-06, 1.7560261085236561e-06, 2.7104467790195486e-06, 0.005706153344362974, 2.1972150534566026e-06, 4.767806842664868e-07, 0.31530967354774475, 3.273041784268571e-06, 0.00043045077472925186]]], \"headLabels\": [\"L0H0\", \"L0H1\", \"L0H2\", \"L0H3\"]}\n",
              "    )\n",
              "    </script>"
            ],
            "text/plain": [
              "<circuitsvis.utils.render.RenderedHTML at 0x452b165a0>"
            ]
          },
          "metadata": {},
          "output_type": "display_data"
        },
        {
          "name": "stdout",
          "output_type": "stream",
          "text": [
            "tensor([0, 1, 0, 1, 0, 0, 1, 1, 0, 1, 0, 1, 1, 0, 1, 0, 0, 0, 0, 1, 0, 0, 1, 0,\n",
            "        1])\n",
            "tensor(9, dtype=torch.int32)\n"
          ]
        },
        {
          "data": {
            "text/html": [
              "<div id=\"circuits-vis-a7256d11-eac1\" style=\"margin: 15px 0;\"/>\n",
              "    <script crossorigin type=\"module\">\n",
              "    import { render, AttentionPatterns } from \"https://unpkg.com/circuitsvis@1.41.0/dist/cdn/esm.js\";\n",
              "    render(\n",
              "      \"circuits-vis-a7256d11-eac1\",\n",
              "      AttentionPatterns,\n",
              "      {\"tokens\": [\"0\", \"1\", \"1\", \"1\", \"0\", \"0\", \"1\", \"0\", \"1\", \"0\", \"1\", \"1\", \"0\", \"0\", \"1\", \"0\", \"1\", \"0\", \"1\", \"1\", \"0\", \"1\", \"0\", \"1\", \"0\"], \"attention\": [[[1.0, 0.0, 0.0, 0.0, 0.0, 0.0, 0.0, 0.0, 0.0, 0.0, 0.0, 0.0, 0.0, 0.0, 0.0, 0.0, 0.0, 0.0, 0.0, 0.0, 0.0, 0.0, 0.0, 0.0, 0.0], [0.0014818082563579082, 0.998518168926239, 0.0, 0.0, 0.0, 0.0, 0.0, 0.0, 0.0, 0.0, 0.0, 0.0, 0.0, 0.0, 0.0, 0.0, 0.0, 0.0, 0.0, 0.0, 0.0, 0.0, 0.0, 0.0, 0.0], [0.45105522871017456, 0.4805724322795868, 0.06837231665849686, 0.0, 0.0, 0.0, 0.0, 0.0, 0.0, 0.0, 0.0, 0.0, 0.0, 0.0, 0.0, 0.0, 0.0, 0.0, 0.0, 0.0, 0.0, 0.0, 0.0, 0.0, 0.0], [0.6436939835548401, 0.0636540874838829, 0.0007090508006513119, 0.29194289445877075, 0.0, 0.0, 0.0, 0.0, 0.0, 0.0, 0.0, 0.0, 0.0, 0.0, 0.0, 0.0, 0.0, 0.0, 0.0, 0.0, 0.0, 0.0, 0.0, 0.0, 0.0], [0.19977504014968872, 0.00032794015714898705, 0.12662538886070251, 0.09528742730617523, 0.5779842138290405, 0.0, 0.0, 0.0, 0.0, 0.0, 0.0, 0.0, 0.0, 0.0, 0.0, 0.0, 0.0, 0.0, 0.0, 0.0, 0.0, 0.0, 0.0, 0.0, 0.0], [0.6281529068946838, 0.0014112972421571612, 0.017651649191975594, 0.012015406973659992, 0.055162377655506134, 0.28560638427734375, 0.0, 0.0, 0.0, 0.0, 0.0, 0.0, 0.0, 0.0, 0.0, 0.0, 0.0, 0.0, 0.0, 0.0, 0.0, 0.0, 0.0, 0.0, 0.0], [0.0023581678979098797, 0.027249574661254883, 0.003875293768942356, 0.5564032793045044, 0.04067475348711014, 0.35279524326324463, 0.01664367876946926, 0.0, 0.0, 0.0, 0.0, 0.0, 0.0, 0.0, 0.0, 0.0, 0.0, 0.0, 0.0, 0.0, 0.0, 0.0, 0.0, 0.0, 0.0], [0.5432955622673035, 0.0003756525693461299, 0.045929521322250366, 0.011037562042474747, 0.05117594078183174, 0.1781434565782547, 0.06896273046731949, 0.10107968747615814, 0.0, 0.0, 0.0, 0.0, 0.0, 0.0, 0.0, 0.0, 0.0, 0.0, 0.0, 0.0, 0.0, 0.0, 0.0, 0.0, 0.0], [0.0008970775525085628, 0.012507003732025623, 0.0011761646019294858, 0.37892743945121765, 0.01655140519142151, 0.29732203483581543, 0.004572967067360878, 0.2678419351577759, 0.02020399644970894, 0.0, 0.0, 0.0, 0.0, 0.0, 0.0, 0.0, 0.0, 0.0, 0.0, 0.0, 0.0, 0.0, 0.0, 0.0, 0.0], [0.17947572469711304, 0.0016163128893822432, 0.04342526197433472, 0.0318157784640789, 0.03872237727046013, 0.20393042266368866, 0.11575736850500107, 0.06259419023990631, 0.20167069137096405, 0.12099184840917587, 0.0, 0.0, 0.0, 0.0, 0.0, 0.0, 0.0, 0.0, 0.0, 0.0, 0.0, 0.0, 0.0, 0.0, 0.0], [0.001399073749780655, 0.006186784710735083, 0.003582105040550232, 0.34619900584220886, 0.03245365992188454, 0.30828049778938293, 0.005563681945204735, 0.17992764711380005, 0.0558939054608345, 0.04970737546682358, 0.010806286707520485, 0.0, 0.0, 0.0, 0.0, 0.0, 0.0, 0.0, 0.0, 0.0, 0.0, 0.0, 0.0, 0.0, 0.0], [0.007586374878883362, 0.03127915784716606, 0.003917712718248367, 0.20636086165905, 0.062410831451416016, 0.22366362810134888, 0.007163671310991049, 0.05989924073219299, 0.2547931373119354, 0.10376852005720139, 0.034289050847291946, 0.00486786151304841, 0.0, 0.0, 0.0, 0.0, 0.0, 0.0, 0.0, 0.0, 0.0, 0.0, 0.0, 0.0, 0.0], [0.09594733268022537, 0.0008298963075503707, 0.05702689290046692, 0.029457055032253265, 0.024878639727830887, 0.18189120292663574, 0.039768218994140625, 0.1304408460855484, 0.052935075014829636, 0.22049212455749512, 0.026731781661510468, 0.02304919809103012, 0.11655174940824509, 0.0, 0.0, 0.0, 0.0, 0.0, 0.0, 0.0, 0.0, 0.0, 0.0, 0.0, 0.0], [0.0770765170454979, 0.0010733004892244935, 0.1000700443983078, 0.04337996244430542, 0.016276735812425613, 0.11394163966178894, 0.11344800144433975, 0.06416314840316772, 0.12075091898441315, 0.20120739936828613, 0.08475840091705322, 0.03259151801466942, 0.026062726974487305, 0.005199703853577375, 0.0, 0.0, 0.0, 0.0, 0.0, 0.0, 0.0, 0.0, 0.0, 0.0, 0.0], [0.002977689728140831, 0.015324206091463566, 0.0030102438759058714, 0.2141849398612976, 0.06044597551226616, 0.30097633600234985, 0.010411977767944336, 0.1455710232257843, 0.03962231054902077, 0.051031410694122314, 0.021190589293837547, 0.007903659716248512, 0.08281290531158447, 0.00972714927047491, 0.03480949252843857, 0.0, 0.0, 0.0, 0.0, 0.0, 0.0, 0.0, 0.0, 0.0, 0.0], [0.16206304728984833, 0.0016216628719121218, 0.011202185414731503, 0.02489122562110424, 0.02981472946703434, 0.13577499985694885, 0.061932411044836044, 0.10172086954116821, 0.06869114190340042, 0.13446177542209625, 0.022592775523662567, 0.02386552281677723, 0.05104813724756241, 0.011239038780331612, 0.02649005316197872, 0.1325904130935669, 0.0, 0.0, 0.0, 0.0, 0.0, 0.0, 0.0, 0.0, 0.0], [0.00294105033390224, 0.03294745460152626, 0.0011056308867409825, 0.16214779019355774, 0.03251032903790474, 0.22225382924079895, 0.005305340513586998, 0.07063496112823486, 0.05367060750722885, 0.05619597062468529, 0.015891050919890404, 0.006225591991096735, 0.06709328293800354, 0.017131492495536804, 0.030340028926730156, 0.10787647217512131, 0.11572910100221634, 0.0, 0.0, 0.0, 0.0, 0.0, 0.0, 0.0, 0.0], [0.12264305353164673, 0.0007340256706811488, 0.03589154779911041, 0.017184503376483917, 0.030438357964158058, 0.08164045959711075, 0.08333183079957962, 0.06026029586791992, 0.11152882874011993, 0.0757790058851242, 0.031228307634592056, 0.01275397464632988, 0.04909483715891838, 0.009177379310131073, 0.04347283020615578, 0.08307399600744247, 0.14032495021820068, 0.01144181378185749, 0.0, 0.0, 0.0, 0.0, 0.0, 0.0, 0.0], [0.0009325636201538146, 0.02918432094156742, 0.0024826396256685257, 0.21123278141021729, 0.02491404302418232, 0.2674967050552368, 0.009014307521283627, 0.07959375530481339, 0.06990446895360947, 0.017970433458685875, 0.012370138429105282, 0.006066276691854, 0.017856229096651077, 0.01785719208419323, 0.035951100289821625, 0.08587702363729477, 0.08134815096855164, 0.014434747397899628, 0.015513055957853794, 0.0, 0.0, 0.0, 0.0, 0.0, 0.0], [0.002009468851611018, 0.031180333346128464, 0.0022548658307641745, 0.11019190400838852, 0.03530508652329445, 0.25524118542671204, 0.014996894635260105, 0.06522385030984879, 0.024542920291423798, 0.027868853881955147, 0.006491431035101414, 0.015908533707261086, 0.032139603048563004, 0.01096857339143753, 0.026701107621192932, 0.11409033089876175, 0.09975066035985947, 0.01486128382384777, 0.029108798131346703, 0.08116429299116135, 0.0, 0.0, 0.0, 0.0, 0.0], [0.12339844554662704, 0.0002594119287095964, 0.05021270737051964, 0.0247800312936306, 0.014425711706280708, 0.16817456483840942, 0.03475501760840416, 0.1149558573961258, 0.03936299309134483, 0.09036422520875931, 0.016379063948988914, 0.008804931305348873, 0.06973231583833694, 0.007388763595372438, 0.038988836109638214, 0.04669038578867912, 0.09828345477581024, 0.014409517869353294, 0.015187958255410194, 0.004414944909512997, 0.019030874595046043, 0.0, 0.0, 0.0, 0.0], [0.0028761918656527996, 0.018520701676607132, 0.0012405341258272529, 0.10320934653282166, 0.03500443696975708, 0.14927032589912415, 0.007505095563828945, 0.08401093631982803, 0.06233004108071327, 0.028135979548096657, 0.005144381895661354, 0.004696741234511137, 0.024304905906319618, 0.01104655023664236, 0.014601501636207104, 0.10212641209363937, 0.15076501667499542, 0.003056593704968691, 0.00794792640954256, 0.028736969456076622, 0.09990102797746658, 0.05556836351752281, 0.0, 0.0, 0.0], [0.03638263791799545, 0.00037721189437434077, 0.030168134719133377, 0.01661509834229946, 0.010679609142243862, 0.105765201151371, 0.039873670786619186, 0.06620138138532639, 0.05388788878917694, 0.1638643443584442, 0.03441151976585388, 0.008559396490454674, 0.03838703781366348, 0.0031761687714606524, 0.03518666326999664, 0.079219289124012, 0.13293877243995667, 0.007270681671798229, 0.011343511752784252, 0.013845437206327915, 0.04376288130879402, 0.04621696099638939, 0.021866559982299805, 0.0, 0.0], [0.0029227440245449543, 0.013861981220543385, 0.004035813733935356, 0.09192048013210297, 0.020591218024492264, 0.14478765428066254, 0.00513797253370285, 0.09464792907238007, 0.039876386523246765, 0.030883580446243286, 0.010106793604791164, 0.007602902594953775, 0.019864030182361603, 0.009218837134540081, 0.046286847442388535, 0.07677595317363739, 0.07962733507156372, 0.017397774383425713, 0.011911819688975811, 0.06876720488071442, 0.07606226205825806, 0.09295147657394409, 0.021561847999691963, 0.013199182227253914, 0.0], [0.15991747379302979, 0.00021803971321787685, 0.04747889190912247, 0.007430989295244217, 0.010340750217437744, 0.08811116218566895, 0.021092427894473076, 0.03821273893117905, 0.03097914531826973, 0.21824955940246582, 0.015145091339945793, 0.012274921871721745, 0.06808235496282578, 0.003391267266124487, 0.013787610456347466, 0.029695715755224228, 0.08262952417135239, 0.0046781818382442, 0.01830211654305458, 0.007314077112823725, 0.031196216121315956, 0.00734719866886735, 0.018259819597005844, 0.03804393485188484, 0.02782071754336357]], [[1.0, 0.0, 0.0, 0.0, 0.0, 0.0, 0.0, 0.0, 0.0, 0.0, 0.0, 0.0, 0.0, 0.0, 0.0, 0.0, 0.0, 0.0, 0.0, 0.0, 0.0, 0.0, 0.0, 0.0, 0.0], [0.00015005985915195197, 0.9998499155044556, 0.0, 0.0, 0.0, 0.0, 0.0, 0.0, 0.0, 0.0, 0.0, 0.0, 0.0, 0.0, 0.0, 0.0, 0.0, 0.0, 0.0, 0.0, 0.0, 0.0, 0.0, 0.0, 0.0], [7.524128875502356e-08, 1.7781092537916265e-05, 0.9999821186065674, 0.0, 0.0, 0.0, 0.0, 0.0, 0.0, 0.0, 0.0, 0.0, 0.0, 0.0, 0.0, 0.0, 0.0, 0.0, 0.0, 0.0, 0.0, 0.0, 0.0, 0.0, 0.0], [3.045423468961417e-08, 9.689145372249186e-05, 0.9960846900939941, 0.0038183913566172123, 0.0, 0.0, 0.0, 0.0, 0.0, 0.0, 0.0, 0.0, 0.0, 0.0, 0.0, 0.0, 0.0, 0.0, 0.0, 0.0, 0.0, 0.0, 0.0, 0.0, 0.0], [1.9534803996634764e-08, 4.380519385449588e-05, 0.9979631900787354, 0.00199248269200325, 6.224988169378776e-07, 0.0, 0.0, 0.0, 0.0, 0.0, 0.0, 0.0, 0.0, 0.0, 0.0, 0.0, 0.0, 0.0, 0.0, 0.0, 0.0, 0.0, 0.0, 0.0, 0.0], [1.1543137279357296e-10, 6.120262696640566e-05, 0.9989651441574097, 0.0009581008926033974, 7.331172557911714e-09, 1.5576850273646414e-05, 0.0, 0.0, 0.0, 0.0, 0.0, 0.0, 0.0, 0.0, 0.0, 0.0, 0.0, 0.0, 0.0, 0.0, 0.0, 0.0, 0.0, 0.0, 0.0], [4.575374077830929e-06, 8.628587238490582e-05, 0.719437301158905, 0.00838663149625063, 6.212766038515838e-06, 0.007869540713727474, 0.26420944929122925, 0.0, 0.0, 0.0, 0.0, 0.0, 0.0, 0.0, 0.0, 0.0, 0.0, 0.0, 0.0, 0.0, 0.0, 0.0, 0.0, 0.0, 0.0], [7.924769174216806e-11, 8.863589755492285e-05, 0.8548227548599243, 0.0009032501839101315, 2.2954502743033345e-09, 5.159882675798144e-06, 0.14418022334575653, 3.2408167260911114e-09, 0.0, 0.0, 0.0, 0.0, 0.0, 0.0, 0.0, 0.0, 0.0, 0.0, 0.0, 0.0, 0.0, 0.0, 0.0, 0.0, 0.0], [1.5186268456091057e-06, 4.120510129723698e-05, 0.8339791297912598, 0.006226547993719578, 2.8596607535291696e-06, 0.0037373225204646587, 0.10530911386013031, 1.4573764019587543e-05, 0.05068766698241234, 0.0, 0.0, 0.0, 0.0, 0.0, 0.0, 0.0, 0.0, 0.0, 0.0, 0.0, 0.0, 0.0, 0.0, 0.0, 0.0], [2.904017304405926e-10, 0.0002040254621533677, 0.8910715579986572, 0.005148064345121384, 1.08355635575208e-08, 4.9303489504382014e-05, 0.08997520059347153, 6.00867409161765e-08, 0.013551848940551281, 4.574498646547909e-08, 0.0, 0.0, 0.0, 0.0, 0.0, 0.0, 0.0, 0.0, 0.0, 0.0, 0.0, 0.0, 0.0, 0.0, 0.0], [2.6519298899074784e-06, 0.00017577302060090005, 0.6993069648742676, 0.016414884477853775, 7.530928996857256e-06, 0.0064033567905426025, 0.14801256358623505, 2.789856807794422e-05, 0.0518164187669754, 9.251379196939524e-06, 0.07782275974750519, 0.0, 0.0, 0.0, 0.0, 0.0, 0.0, 0.0, 0.0, 0.0, 0.0, 0.0, 0.0, 0.0, 0.0], [1.8185094319278505e-08, 7.04938211129047e-05, 0.6276576519012451, 0.008249136619269848, 9.964044522803306e-08, 0.0003614084853325039, 0.2642346918582916, 4.970987674823846e-07, 0.0035116197541356087, 3.17398928473267e-07, 0.057680729776620865, 0.038233429193496704, 0.0, 0.0, 0.0, 0.0, 0.0, 0.0, 0.0, 0.0, 0.0, 0.0, 0.0, 0.0, 0.0], [1.155586626389038e-09, 0.00017027053399942815, 0.6734378933906555, 0.0046094078570604324, 6.684254572064674e-08, 0.00013723346637561917, 0.10672083497047424, 6.9840929484144e-08, 0.054928261786699295, 1.9833881026443123e-07, 0.14016929268836975, 0.019826196134090424, 1.789823187436923e-07, 0.0, 0.0, 0.0, 0.0, 0.0, 0.0, 0.0, 0.0, 0.0, 0.0, 0.0, 0.0], [1.4912789059184917e-10, 0.00029815631569363177, 0.633608877658844, 0.002743090270087123, 1.3809146715004772e-08, 1.850851549534127e-05, 0.17306874692440033, 9.684421264921639e-09, 0.011731157079339027, 3.9497159320944775e-08, 0.15458384156227112, 0.02394760772585869, 2.1521797677337418e-08, 2.36392683206077e-09, 0.0, 0.0, 0.0, 0.0, 0.0, 0.0, 0.0, 0.0, 0.0, 0.0, 0.0], [1.1257726839630777e-07, 7.048672705423087e-05, 0.28659090399742126, 0.0041870418936014175, 8.748904747335473e-07, 0.0008864774717949331, 0.04371817409992218, 1.2402663287502946e-06, 0.0077944654040038586, 1.3252421240395051e-06, 0.032945841550827026, 0.014117521233856678, 5.063731350674061e-06, 6.013375042357438e-08, 0.6096804141998291, 0.0, 0.0, 0.0, 0.0, 0.0, 0.0, 0.0, 0.0, 0.0, 0.0], [7.1490977582300275e-09, 0.0002749811683315784, 0.49855485558509827, 0.002646702341735363, 1.8198959139681392e-07, 0.00017127059982158244, 0.08084185421466827, 8.078084192675306e-07, 0.017151596024632454, 2.658392759258277e-07, 0.07216726988554001, 0.023685438558459282, 7.497036449422012e-07, 7.72115100744486e-08, 0.3045039176940918, 6.627785609225612e-08, 0.0, 0.0, 0.0, 0.0, 0.0, 0.0, 0.0, 0.0, 0.0], [9.12067505964842e-08, 3.217061021132395e-05, 0.23297592997550964, 0.00373649294488132, 1.3435046639642678e-06, 0.0013286308385431767, 0.021852746605873108, 1.7391995470461552e-06, 0.025437727570533752, 9.555262749927351e-07, 0.021134885028004646, 0.0065310741774737835, 3.4460033475625096e-06, 3.516460367336549e-08, 0.6799454689025879, 4.471061743061e-07, 0.0070167966187000275, 0.0, 0.0, 0.0, 0.0, 0.0, 0.0, 0.0, 0.0], [1.367351232239855e-10, 0.00017702726472634822, 0.5494446754455566, 0.0018538122531026602, 8.759456271434374e-09, 1.2990352843189612e-05, 0.08726011961698532, 7.94016496996619e-09, 0.008051657117903233, 2.4084361172072022e-08, 0.14255470037460327, 0.023711560294032097, 2.2231819940543573e-08, 1.5948535825316412e-09, 0.18468229472637177, 1.3230578854717123e-09, 0.0022510590497404337, 1.4644839119171138e-08, 0.0, 0.0, 0.0, 0.0, 0.0, 0.0, 0.0], [1.38718178277486e-07, 2.6358276954852045e-05, 0.22957630455493927, 0.0027743468526750803, 9.214131750923116e-07, 0.000792890612501651, 0.05287017300724983, 1.0754775985333254e-06, 0.015056490898132324, 4.966074129697517e-07, 0.045129451900720596, 0.012568896636366844, 2.063429519694182e-06, 3.486142574615769e-08, 0.604259192943573, 4.0836718540049333e-07, 0.008369848132133484, 7.103972166078165e-07, 0.028570212423801422, 0.0, 0.0, 0.0, 0.0, 0.0, 0.0], [3.7022189758317836e-08, 0.0001427914248779416, 0.22575998306274414, 0.005778218153864145, 5.743832502957957e-07, 0.0005379330832511187, 0.0663812905550003, 9.793311619432643e-07, 0.004833057057112455, 5.446361797112331e-07, 0.04249611496925354, 0.03468410670757294, 3.0726039312867215e-06, 9.290474878298483e-08, 0.5742557644844055, 6.971717994019855e-07, 0.010605990886688232, 6.567336185980821e-07, 0.02029886655509472, 0.014219268225133419, 0.0, 0.0, 0.0, 0.0, 0.0], [1.999206494796013e-10, 5.6452576245646924e-05, 0.6977841854095459, 0.0008697892772033811, 3.751541299834571e-08, 5.436840729089454e-05, 0.029233844950795174, 3.863583941665638e-08, 0.03254299610853195, 6.147222819663511e-08, 0.056563302874565125, 0.013773079961538315, 9.26084453567455e-08, 6.34933705612184e-09, 0.11525692045688629, 2.798098419631856e-09, 0.010848394595086575, 1.0110164261334376e-08, 0.03202104941010475, 0.0109953498467803, 3.770508172351583e-08, 0.0, 0.0, 0.0, 0.0], [3.86930764761928e-07, 0.00013125440455041826, 0.3514069616794586, 0.00911554042249918, 2.0383199625939596e-06, 0.0034807671327143908, 0.09095790237188339, 9.901399607770145e-06, 0.0063642836175858974, 1.6031949598982465e-06, 0.024679088965058327, 0.05572189390659332, 1.900545794342179e-05, 4.605937817814265e-07, 0.3972525894641876, 3.984702743764501e-06, 0.007661759853363037, 7.1228878368856385e-06, 0.026135722175240517, 0.011651918292045593, 1.391779733239673e-05, 0.015381896868348122, 0.0, 0.0, 0.0], [2.8425811704479997e-10, 8.794736640993506e-05, 0.31096503138542175, 0.0024416130036115646, 4.8299573229826365e-09, 1.942383278219495e-05, 0.053622517734766006, 9.015412416601976e-09, 0.015253192745149136, 2.4606052306808124e-08, 0.08132294565439224, 0.011242848820984364, 1.5765694527658525e-08, 3.6208103182389095e-10, 0.49882805347442627, 3.889989719230158e-10, 0.002047333400696516, 8.656239280924183e-09, 0.009685640223324299, 0.00751332426443696, 1.0474849432284827e-08, 0.0069695282727479935, 5.277603918329987e-07, 0.0, 0.0], [8.424297561759886e-07, 0.00013280419807415456, 0.13500723242759705, 0.0043724533170461655, 2.393413524259813e-06, 0.0028984583914279938, 0.1392718404531479, 3.1041886359162163e-06, 0.01854170486330986, 2.9492518933693646e-06, 0.024491440504789352, 0.020885376259684563, 9.9602675618371e-06, 3.7211898984423897e-07, 0.5438317656517029, 1.299412474509154e-06, 0.009447106160223484, 5.281777703203261e-06, 0.0554409995675087, 0.008921841159462929, 5.02509237776394e-06, 0.006647177506238222, 0.00013222868437878788, 0.029946377500891685, 0.0], [1.282965844673356e-09, 0.00018937225104309618, 0.48940351605415344, 0.0014593277592211962, 1.1032857116788364e-07, 8.176673873094842e-05, 0.05600343272089958, 1.1960575818648067e-07, 0.034536462277173996, 1.3511589713743888e-07, 0.06804092973470688, 0.013982417993247509, 1.3575511559338338e-07, 1.469245880514336e-08, 0.27759891748428345, 1.2443311270260438e-08, 0.007238869089633226, 1.079631175571194e-07, 0.02318977750837803, 0.006244777701795101, 8.762994241351407e-08, 0.0034583457745611668, 4.749831532535609e-06, 0.018566636368632317, 3.1085709562006514e-09]]], \"headLabels\": [\"L0H0\", \"L0H1\", \"L0H2\", \"L0H3\"]}\n",
              "    )\n",
              "    </script>"
            ],
            "text/plain": [
              "<circuitsvis.utils.render.RenderedHTML at 0x452a05c70>"
            ]
          },
          "metadata": {},
          "output_type": "display_data"
        },
        {
          "name": "stdout",
          "output_type": "stream",
          "text": [
            "tensor([0, 1, 1, 1, 0, 0, 1, 0, 1, 0, 1, 1, 0, 0, 1, 0, 1, 0, 1, 1, 0, 1, 0, 1,\n",
            "        0])\n",
            "tensor(2, dtype=torch.int32)\n"
          ]
        },
        {
          "ename": "ValueError",
          "evalue": "Mime type rendering requires nbformat>=4.2.0 but it is not installed",
          "output_type": "error",
          "traceback": [
            "\u001b[0;31m---------------------------------------------------------------------------\u001b[0m",
            "\u001b[0;31mValueError\u001b[0m                                Traceback (most recent call last)",
            "Cell \u001b[0;32mIn[47], line 14\u001b[0m\n\u001b[1;32m     12\u001b[0m att_test_0 \u001b[38;5;241m=\u001b[39m test_cache_0[\u001b[38;5;124m\"\u001b[39m\u001b[38;5;124mpattern\u001b[39m\u001b[38;5;124m\"\u001b[39m, \u001b[38;5;241m0\u001b[39m, \u001b[38;5;124m\"\u001b[39m\u001b[38;5;124mattn\u001b[39m\u001b[38;5;124m\"\u001b[39m]\n\u001b[1;32m     13\u001b[0m \u001b[38;5;28;01mfor\u001b[39;00m head \u001b[38;5;129;01min\u001b[39;00m \u001b[38;5;28mrange\u001b[39m(\u001b[38;5;241m2\u001b[39m):\n\u001b[0;32m---> 14\u001b[0m     \u001b[43mimshow_attention\u001b[49m\u001b[43m(\u001b[49m\u001b[43matt_test_0\u001b[49m\u001b[43m[\u001b[49m\u001b[38;5;241;43m0\u001b[39;49m\u001b[43m,\u001b[49m\u001b[43m \u001b[49m\u001b[43mhead\u001b[49m\u001b[43m]\u001b[49m\u001b[43m)\u001b[49m\n",
            "Cell \u001b[0;32mIn[6], line 2\u001b[0m, in \u001b[0;36mimshow_attention\u001b[0;34m(tensor, renderer, xaxis, yaxis, **kwargs)\u001b[0m\n\u001b[1;32m      1\u001b[0m \u001b[38;5;28;01mdef\u001b[39;00m \u001b[38;5;21mimshow_attention\u001b[39m(tensor, renderer\u001b[38;5;241m=\u001b[39m\u001b[38;5;28;01mNone\u001b[39;00m, xaxis\u001b[38;5;241m=\u001b[39m\u001b[38;5;124m\"\u001b[39m\u001b[38;5;124m\"\u001b[39m, yaxis\u001b[38;5;241m=\u001b[39m\u001b[38;5;124m\"\u001b[39m\u001b[38;5;124m\"\u001b[39m, \u001b[38;5;241m*\u001b[39m\u001b[38;5;241m*\u001b[39mkwargs):\n\u001b[0;32m----> 2\u001b[0m     \u001b[43mpx\u001b[49m\u001b[38;5;241;43m.\u001b[39;49m\u001b[43mimshow\u001b[49m\u001b[43m(\u001b[49m\u001b[43mutils\u001b[49m\u001b[38;5;241;43m.\u001b[39;49m\u001b[43mto_numpy\u001b[49m\u001b[43m(\u001b[49m\u001b[43mtensor\u001b[49m\u001b[43m)\u001b[49m\u001b[43m,\u001b[49m\u001b[43m \u001b[49m\u001b[43mcolor_continuous_midpoint\u001b[49m\u001b[38;5;241;43m=\u001b[39;49m\u001b[38;5;241;43m0.0\u001b[39;49m\u001b[43m,\u001b[49m\u001b[43m \u001b[49m\u001b[43mcolor_continuous_scale\u001b[49m\u001b[38;5;241;43m=\u001b[39;49m\u001b[38;5;124;43m\"\u001b[39;49m\u001b[38;5;124;43mRdBu\u001b[39;49m\u001b[38;5;124;43m\"\u001b[39;49m\u001b[43m,\u001b[49m\u001b[43m \u001b[49m\u001b[43mlabels\u001b[49m\u001b[38;5;241;43m=\u001b[39;49m\u001b[43m{\u001b[49m\u001b[38;5;124;43m\"\u001b[39;49m\u001b[38;5;124;43mx\u001b[39;49m\u001b[38;5;124;43m\"\u001b[39;49m\u001b[43m:\u001b[49m\u001b[43mxaxis\u001b[49m\u001b[43m,\u001b[49m\u001b[43m \u001b[49m\u001b[38;5;124;43m\"\u001b[39;49m\u001b[38;5;124;43my\u001b[39;49m\u001b[38;5;124;43m\"\u001b[39;49m\u001b[43m:\u001b[49m\u001b[43myaxis\u001b[49m\u001b[43m}\u001b[49m\u001b[43m,\u001b[49m\u001b[43m \u001b[49m\u001b[38;5;241;43m*\u001b[39;49m\u001b[38;5;241;43m*\u001b[39;49m\u001b[43mkwargs\u001b[49m\u001b[43m)\u001b[49m\u001b[38;5;241;43m.\u001b[39;49m\u001b[43mshow\u001b[49m\u001b[43m(\u001b[49m\u001b[43mrenderer\u001b[49m\u001b[43m)\u001b[49m\n",
            "File \u001b[0;32m~/anaconda3/envs/devinterp/lib/python3.12/site-packages/plotly/basedatatypes.py:3410\u001b[0m, in \u001b[0;36mBaseFigure.show\u001b[0;34m(self, *args, **kwargs)\u001b[0m\n\u001b[1;32m   3377\u001b[0m \u001b[38;5;250m\u001b[39m\u001b[38;5;124;03m\"\"\"\u001b[39;00m\n\u001b[1;32m   3378\u001b[0m \u001b[38;5;124;03mShow a figure using either the default renderer(s) or the renderer(s)\u001b[39;00m\n\u001b[1;32m   3379\u001b[0m \u001b[38;5;124;03mspecified by the renderer argument\u001b[39;00m\n\u001b[0;32m   (...)\u001b[0m\n\u001b[1;32m   3406\u001b[0m \u001b[38;5;124;03mNone\u001b[39;00m\n\u001b[1;32m   3407\u001b[0m \u001b[38;5;124;03m\"\"\"\u001b[39;00m\n\u001b[1;32m   3408\u001b[0m \u001b[38;5;28;01mimport\u001b[39;00m \u001b[38;5;21;01mplotly\u001b[39;00m\u001b[38;5;21;01m.\u001b[39;00m\u001b[38;5;21;01mio\u001b[39;00m \u001b[38;5;28;01mas\u001b[39;00m \u001b[38;5;21;01mpio\u001b[39;00m\n\u001b[0;32m-> 3410\u001b[0m \u001b[38;5;28;01mreturn\u001b[39;00m \u001b[43mpio\u001b[49m\u001b[38;5;241;43m.\u001b[39;49m\u001b[43mshow\u001b[49m\u001b[43m(\u001b[49m\u001b[38;5;28;43mself\u001b[39;49m\u001b[43m,\u001b[49m\u001b[43m \u001b[49m\u001b[38;5;241;43m*\u001b[39;49m\u001b[43margs\u001b[49m\u001b[43m,\u001b[49m\u001b[43m \u001b[49m\u001b[38;5;241;43m*\u001b[39;49m\u001b[38;5;241;43m*\u001b[39;49m\u001b[43mkwargs\u001b[49m\u001b[43m)\u001b[49m\n",
            "File \u001b[0;32m~/anaconda3/envs/devinterp/lib/python3.12/site-packages/plotly/io/_renderers.py:394\u001b[0m, in \u001b[0;36mshow\u001b[0;34m(fig, renderer, validate, **kwargs)\u001b[0m\n\u001b[1;32m    389\u001b[0m         \u001b[38;5;28;01mraise\u001b[39;00m \u001b[38;5;167;01mValueError\u001b[39;00m(\n\u001b[1;32m    390\u001b[0m             \u001b[38;5;124m\"\u001b[39m\u001b[38;5;124mMime type rendering requires ipython but it is not installed\u001b[39m\u001b[38;5;124m\"\u001b[39m\n\u001b[1;32m    391\u001b[0m         )\n\u001b[1;32m    393\u001b[0m     \u001b[38;5;28;01mif\u001b[39;00m \u001b[38;5;129;01mnot\u001b[39;00m nbformat \u001b[38;5;129;01mor\u001b[39;00m Version(nbformat\u001b[38;5;241m.\u001b[39m__version__) \u001b[38;5;241m<\u001b[39m Version(\u001b[38;5;124m\"\u001b[39m\u001b[38;5;124m4.2.0\u001b[39m\u001b[38;5;124m\"\u001b[39m):\n\u001b[0;32m--> 394\u001b[0m         \u001b[38;5;28;01mraise\u001b[39;00m \u001b[38;5;167;01mValueError\u001b[39;00m(\n\u001b[1;32m    395\u001b[0m             \u001b[38;5;124m\"\u001b[39m\u001b[38;5;124mMime type rendering requires nbformat>=4.2.0 but it is not installed\u001b[39m\u001b[38;5;124m\"\u001b[39m\n\u001b[1;32m    396\u001b[0m         )\n\u001b[1;32m    398\u001b[0m     ipython_display\u001b[38;5;241m.\u001b[39mdisplay(bundle, raw\u001b[38;5;241m=\u001b[39m\u001b[38;5;28;01mTrue\u001b[39;00m)\n\u001b[1;32m    400\u001b[0m \u001b[38;5;66;03m# external renderers\u001b[39;00m\n",
            "\u001b[0;31mValueError\u001b[0m: Mime type rendering requires nbformat>=4.2.0 but it is not installed"
          ]
        }
      ],
      "source": [
        "att_0_0 = cache_0[\"pattern\", 0, \"attn\"]\n",
        "display_layer_heads(att_0_0, batch_idx=IDX)\n",
        "display_layer_heads(att_0_0, batch_idx=IDX+1)\n",
        "\n",
        "# residual stream at tokens where attending to\n",
        "# patch in information from previous token positions at positions its attending to\n",
        "# train probes to predict state the activation is in\n",
        "# logistic regression on residual stream activations for probing\n",
        "# interp 3 state\n",
        "# does acc increase from 5 to 4?\n",
        "\n",
        "att_test_0 = test_cache_0[\"pattern\", 0, \"attn\"]\n",
        "for head in range(2):\n",
        "    imshow_attention(att_test_0[0, head])"
      ]
    },
    {
      "cell_type": "code",
      "execution_count": null,
      "metadata": {
        "colab": {
          "base_uri": "https://localhost:8080/",
          "height": 414
        },
        "id": "GN1vmzk9AP5i",
        "outputId": "e8017672-8c1a-42b6-fc73-2618800586d1"
      },
      "outputs": [],
      "source": [
        "att_1_0 = cache_1[\"pattern\", 0, \"attn\"]\n",
        "# for head in range(config.tflens_config.n_heads):\n",
        "#   imshow(att_1[0,head,...])\n",
        "display_layer_heads(att_1_0, batch_idx=IDX)\n",
        "display_layer_heads(att_1_0, batch_idx=IDX+1)"
      ]
    },
    {
      "cell_type": "code",
      "execution_count": null,
      "metadata": {
        "colab": {
          "base_uri": "https://localhost:8080/",
          "height": 812
        },
        "id": "lCryJp9cnE4J",
        "outputId": "07544a80-da97-499f-e137-b4952016823b"
      },
      "outputs": [],
      "source": [
        "att_2_0 = cache_2[\"pattern\", 0, \"attn\"]\n",
        "display_layer_heads(att_2_0, batch_idx=IDX)\n",
        "display_layer_heads(att_2_0, batch_idx=IDX+1)"
      ]
    },
    {
      "cell_type": "code",
      "execution_count": null,
      "metadata": {
        "colab": {
          "base_uri": "https://localhost:8080/",
          "height": 812
        },
        "id": "8YnwTFREcQ4X",
        "outputId": "040168bb-ae5f-43f9-eb12-291dfce02218"
      },
      "outputs": [],
      "source": [
        "att_3_0 = cache_3[\"pattern\", 0, \"attn\"]\n",
        "display_layer_heads(att_3_0, batch_idx=IDX)\n",
        "display_layer_heads(att_3_0, batch_idx=IDX+1)"
      ]
    },
    {
      "cell_type": "markdown",
      "metadata": {
        "id": "zvetCS-0BQ0P"
      },
      "source": [
        "## Second layer attention"
      ]
    },
    {
      "cell_type": "code",
      "execution_count": null,
      "metadata": {
        "colab": {
          "base_uri": "https://localhost:8080/",
          "height": 414
        },
        "id": "XMYx1F3_-jI5",
        "outputId": "eee67101-0b51-4e62-f3c5-6231ea333519"
      },
      "outputs": [],
      "source": [
        "att_0_1 = cache_0[\"pattern\", 1, \"attn\"]\n",
        "display_layer_heads(att_0_1, batch_idx=IDX)"
      ]
    },
    {
      "cell_type": "code",
      "execution_count": null,
      "metadata": {
        "colab": {
          "base_uri": "https://localhost:8080/",
          "height": 414
        },
        "id": "o83dGV5__ynD",
        "outputId": "042fcbd5-2f5e-42a2-ca18-8c9da8024f9b"
      },
      "outputs": [],
      "source": [
        "att_1_1 = cache_1[\"pattern\", 1, \"attn\"]\n",
        "display_layer_heads(att_1_1, batch_idx=IDX)"
      ]
    },
    {
      "cell_type": "code",
      "execution_count": null,
      "metadata": {
        "colab": {
          "base_uri": "https://localhost:8080/",
          "height": 414
        },
        "id": "BnQ9IJ2ZmeMf",
        "outputId": "87c7d466-34b9-4a2c-ab9d-30d90db3c950"
      },
      "outputs": [],
      "source": [
        "att_2_1 = cache_2[\"pattern\", 1, \"attn\"]\n",
        "display_layer_heads(att_2_1, batch_idx=IDX)\n",
        "display_layer_heads(att_2_1, batch_idx=IDX+1)"
      ]
    },
    {
      "cell_type": "code",
      "execution_count": null,
      "metadata": {
        "colab": {
          "base_uri": "https://localhost:8080/",
          "height": 414
        },
        "id": "Lw_fLQqWcf4z",
        "outputId": "b0333c8a-28c6-456f-a194-19ed47499994"
      },
      "outputs": [],
      "source": [
        "att_3_1 = cache_3[\"pattern\", 1, \"attn\"]\n",
        "display_layer_heads(att_3_1, batch_idx=IDX)"
      ]
    },
    {
      "cell_type": "code",
      "execution_count": null,
      "metadata": {
        "colab": {
          "base_uri": "https://localhost:8080/",
          "height": 1000
        },
        "id": "EOGHk9AoRsR-",
        "outputId": "15d3dc08-fe81-4322-e013-5f8f30dee382"
      },
      "outputs": [],
      "source": [
        "att_3_0_all_1 = cache_all_1[\"pattern\", 0, \"attn\"]\n",
        "for head in range(2):\n",
        "    imshow_attention(att_3_0_all_1[0,head,...])\n",
        "\n",
        "att_3_1_all_1 = cache_all_1[\"pattern\", 1, \"attn\"]\n",
        "for head in range(2):\n",
        "    imshow_attention(att_3_1_all_1[0,head,...])"
      ]
    },
    {
      "cell_type": "code",
      "execution_count": null,
      "metadata": {
        "colab": {
          "base_uri": "https://localhost:8080/",
          "height": 1000
        },
        "id": "Q9vqgJnTTnxS",
        "outputId": "9021090e-afaa-4a0a-d6a2-084cf96ef1c3"
      },
      "outputs": [],
      "source": [
        "att_3_0_all_0 = cache_all_0[\"pattern\", 1, \"attn\"]\n",
        "for head in range(2):\n",
        "    imshow_attention(att_3_0_all_0[0,head,...])\n",
        "\n",
        "att_3_1_all_0 = cache_all_0[\"pattern\", 1, \"attn\"]\n",
        "for head in range(2):\n",
        "    imshow_attention(att_3_1_all_0[0,head,...])"
      ]
    },
    {
      "cell_type": "code",
      "execution_count": null,
      "metadata": {
        "colab": {
          "base_uri": "https://localhost:8080/",
          "height": 1000
        },
        "id": "RtXuvFrFVE3M",
        "outputId": "01e29357-4c3d-47a5-d745-6c0138ab017b"
      },
      "outputs": [],
      "source": [
        "att_3_0_test = test_cache[\"pattern\", 0, \"attn\"]\n",
        "for head in range(2):\n",
        "    imshow_attention(att_3_0_test[0,head,...])\n",
        "\n",
        "att_3_1_test = test_cache[\"pattern\", 1, \"attn\"]\n",
        "for head in range(2):\n",
        "    imshow_attention(att_3_1_test[0,head,...])"
      ]
    },
    {
      "cell_type": "code",
      "execution_count": null,
      "metadata": {
        "colab": {
          "base_uri": "https://localhost:8080/",
          "height": 1000
        },
        "id": "uwAzj8XnXYGP",
        "outputId": "7879dfeb-e61b-410c-ade4-1d2deac91486"
      },
      "outputs": [],
      "source": [
        "att_3_0_test_2 = test_2_cache[\"pattern\", 0, \"attn\"]\n",
        "for head in range(2):\n",
        "    imshow_attention(att_3_0_test_2[0,head,...])\n",
        "\n",
        "att_3_1_test_2 = test_2_cache[\"pattern\", 1, \"attn\"]\n",
        "for head in range(2):\n",
        "    imshow_attention(att_3_1_test_2[0,head,...])"
      ]
    },
    {
      "cell_type": "markdown",
      "metadata": {
        "id": "zvDEN1LZYE45"
      },
      "source": [
        "# More trial inputs"
      ]
    },
    {
      "cell_type": "code",
      "execution_count": null,
      "metadata": {
        "colab": {
          "base_uri": "https://localhost:8080/"
        },
        "id": "d9xmYW4PYDMb",
        "outputId": "c26730b1-7c71-4114-aa5b-d1f727b3225c"
      },
      "outputs": [],
      "source": [
        "all_1 = torch.ones((25), dtype=torch.int32)\n",
        "all_0 = torch.zeros((25), dtype=torch.int32)\n",
        "all_1_label = (torch.cumsum(all_1, dim=0)) % 5\n",
        "all_0_label = torch.tensor([5,0]*12+[0], dtype=torch.int32)\n",
        "print(all_1_label)\n",
        "print(all_0_label)"
      ]
    },
    {
      "cell_type": "code",
      "execution_count": null,
      "metadata": {
        "colab": {
          "base_uri": "https://localhost:8080/"
        },
        "id": "gy3zsibQYDMd",
        "outputId": "e3aa6f19-f110-4cc7-e843-2ff5db223b42"
      },
      "outputs": [],
      "source": [
        "test = deepcopy(all_0)\n",
        "test[5] = 1\n",
        "print(test)\n",
        "\n",
        "test_2 = deepcopy(all_1)\n",
        "test_2[18] = 0\n",
        "\n",
        "_, test_cache = model_3.run_with_cache(test)\n",
        "_, test_2_cache = model_3.run_with_cache(test_2)"
      ]
    },
    {
      "cell_type": "code",
      "execution_count": null,
      "metadata": {
        "colab": {
          "base_uri": "https://localhost:8080/",
          "height": 1000
        },
        "id": "O_CtH9InYPRd",
        "outputId": "86f5fb46-eba7-41b3-a457-bcadac6a8bfe"
      },
      "outputs": [],
      "source": [
        "att_3_0_test = test_cache[\"pattern\", 0, \"attn\"]\n",
        "for head in range(2):\n",
        "    imshow_attention(att_3_0_test[0,head,...])\n",
        "\n",
        "att_3_1_test = test_cache[\"pattern\", 1, \"attn\"]\n",
        "for head in range(2):\n",
        "    imshow_attention(att_3_1_test[0,head,...])"
      ]
    },
    {
      "cell_type": "code",
      "execution_count": null,
      "metadata": {
        "colab": {
          "base_uri": "https://localhost:8080/",
          "height": 1000
        },
        "id": "E9RSPnicYRmr",
        "outputId": "a2cdb08d-5282-4dd8-a651-44c17b926c9e"
      },
      "outputs": [],
      "source": [
        "att_3_0_test_2 = test_2_cache[\"pattern\", 0, \"attn\"]\n",
        "for head in range(2):\n",
        "    imshow_attention(att_3_0_test_2[0,head,...])\n",
        "\n",
        "att_3_1_test_2 = test_2_cache[\"pattern\", 1, \"attn\"]\n",
        "for head in range(2):\n",
        "    imshow_attention(att_3_1_test_2[0,head,...])"
      ]
    },
    {
      "cell_type": "markdown",
      "metadata": {
        "id": "ln0H1jjC5td_"
      },
      "source": [
        "# OV circuit analysis post form 2"
      ]
    },
    {
      "cell_type": "code",
      "execution_count": null,
      "metadata": {
        "colab": {
          "base_uri": "https://localhost:8080/"
        },
        "id": "NTopEpN_5wbd",
        "outputId": "8bb648c8-7d9c-4870-9f2a-d35abdd8ef02"
      },
      "outputs": [],
      "source": [
        "print(cache_1[\"scale\"].shape)\n",
        "# Layernorm scale, [batch, pos, 1]"
      ]
    },
    {
      "cell_type": "code",
      "execution_count": null,
      "metadata": {
        "colab": {
          "base_uri": "https://localhost:8080/"
        },
        "id": "mBDMmooKRXAq",
        "outputId": "dddf87d2-e1f7-4a95-b292-785a9bcb3ba8"
      },
      "outputs": [],
      "source": [
        "# [nlayers nheads dmodel dhead] x [nlayers nheads dmodel dhead].T\n",
        "W_OV = model_0.W_V @ model_0.W_O # [nlayers nheads dmodel dmodel]\n",
        "W_E = model_0.W_E # [vocab_in dhead]\n",
        "W_U = model_0.W_U # [vocab_out dhead]\n",
        "print(W_E.shape)"
      ]
    },
    {
      "cell_type": "code",
      "execution_count": null,
      "metadata": {
        "id": "Y5yghQPRSkaF"
      },
      "outputs": [],
      "source": [
        "scale_final = cache_1[\"scale\"][:, :, 0].mean()\n",
        "scale_0 = cache_1[\"scale\", 0, \"ln1\"].mean()\n",
        "scale_1 = cache_1[\"scale\", 1, \"ln1\"].mean()"
      ]
    },
    {
      "cell_type": "code",
      "execution_count": null,
      "metadata": {
        "colab": {
          "base_uri": "https://localhost:8080/"
        },
        "id": "CsqqnbnMByqP",
        "outputId": "37b8765d-b3a5-4983-fa8e-e66ab3434a6c"
      },
      "outputs": [],
      "source": [
        "print(W_OV[1].shape)\n",
        "print(W_OV[0].shape)\n",
        "print(W_OV.shape)"
      ]
    },
    {
      "cell_type": "code",
      "execution_count": null,
      "metadata": {
        "colab": {
          "base_uri": "https://localhost:8080/"
        },
        "id": "_-54mrBvTB4G",
        "outputId": "8bd05be4-5f59-42da-8cac-75b805c3885d"
      },
      "outputs": [],
      "source": [
        "# ! Get direct path\n",
        "W_E_OV_direct = (W_E / scale_final) @ W_U\n",
        "print(f\"Direct {W_E_OV_direct.shape}\") # [vocab_out vocab_out]\n",
        "\n",
        "# ! Get full OV matrix for path through just layer 0\n",
        "W_E_OV_0 = (W_E / scale_0) @ W_OV[0]\n",
        "W_OV_0_full = (W_E_OV_0 / scale_final) @ W_U # [n_head vocab_in vocab_out]\n",
        "print(f\"Layer 0 {W_OV_0_full.shape}\")\n",
        "\n",
        "# ! Get full OV matrix for path through just layer 1\n",
        "W_E_OV_1 = (W_E / scale_1) @ W_OV[1]\n",
        "W_OV_1_full = (W_E_OV_1 / scale_final) @ W_U # [n_head vocab_in vocab_out]\n",
        "print(f\"Layer 1 {W_OV_1_full.shape}\")\n",
        "\n",
        "# ! Get full OV matrix for path through heads in layer 0 and 1\n",
        "W_E_OV_01 = einops.einsum(\n",
        "    (W_E_OV_0 / scale_1), W_OV[1],\n",
        "    \"head0 vocab_in d_model_in, head1 d_model_in d_model_out -> head0 head1 vocab_in d_model_out\",\n",
        ")\n",
        "W_OV_01_full = (W_E_OV_01 / scale_final) @ W_U # [head0 head1 vocab_in vocab_out]\n",
        "print(f\"Layers 0, 1 {W_OV_01_full.shape}\")"
      ]
    },
    {
      "cell_type": "code",
      "execution_count": null,
      "metadata": {
        "colab": {
          "base_uri": "https://localhost:8080/"
        },
        "id": "5-adcLnLVLGk",
        "outputId": "fb8e8b25-e711-45a9-824d-dfa323ba6ce4"
      },
      "outputs": [],
      "source": [
        "print(W_E_OV_direct[None, None].shape)\n",
        "print(W_OV_0_full[:, None].shape)\n",
        "print(W_OV_1_full[None].shape)\n",
        "print(W_OV_01_full.shape)\n",
        "\n",
        "cat_1 = torch.cat([W_E_OV_direct[None, None], W_OV_0_full[:, None]]) # [head0 1 vocab_in vocab_out]\n",
        "cat_2 = torch.cat([W_OV_1_full[None], W_OV_01_full])  # [head0 head1 vocab_in vocab_out]\n",
        "print(cat_1.shape, cat_2.shape)\n",
        "\n",
        "W_OV_full_all = torch.cat([\n",
        "    cat_1,\n",
        "    cat_2,\n",
        "], dim=1) # [head0 head1 vocab_in vocab_out]\n",
        "print(W_OV_full_all.shape)\n",
        "print(W_OV_full_all.transpose(0, 1).flatten(0, 1).shape)"
      ]
    },
    {
      "cell_type": "code",
      "execution_count": null,
      "metadata": {
        "colab": {
          "base_uri": "https://localhost:8080/",
          "height": 1000
        },
        "id": "h96abzNLYSup",
        "outputId": "13111f8c-b978-47ed-db46-a26b2206dad5"
      },
      "outputs": [],
      "source": [
        "tokens = [str(i) for i in range(10)]\n",
        "components_0 = [\"W<sub>E</sub>\"] + [f\"0.{i}\" for i in range(2)]\n",
        "components_1 = [\"W<sub>U</sub>\"] + [f\"1.{i}\" for i in range(2)]\n",
        "\n",
        "# Using dict.fromkeys() prevents repeats\n",
        "facet_labels = [\" ➔ \".join(list(dict.fromkeys([\"W<sub>E</sub>\", c0, c1, \"W<sub>U</sub>\"]))) for c1 in components_1 for c0 in components_0]\n",
        "imshow(\n",
        "    W_OV_full_all.transpose(0, 1).flatten(0, 1), # .softmax(dim=-1),\n",
        "    facet_col = 0,\n",
        "    facet_col_wrap = 3,\n",
        "    facet_labels = facet_labels,\n",
        "    title = f\"Full virtual OV circuits\",\n",
        "    x = tokens,\n",
        "    y = tokens,\n",
        "    labels = {\"x\": \"Source\", \"y\": \"Dest\"},\n",
        "    height = 1200,\n",
        "    width = 1200,\n",
        "    # text = text,\n",
        ")"
      ]
    }
  ],
  "metadata": {
    "accelerator": "GPU",
    "colab": {
      "gpuType": "T4",
      "provenance": []
    },
    "kernelspec": {
      "display_name": "Python 3",
      "name": "python3"
    },
    "language_info": {
      "codemirror_mode": {
        "name": "ipython",
        "version": 3
      },
      "file_extension": ".py",
      "mimetype": "text/x-python",
      "name": "python",
      "nbconvert_exporter": "python",
      "pygments_lexer": "ipython3",
      "version": "3.12.2"
    }
  },
  "nbformat": 4,
  "nbformat_minor": 0
}
